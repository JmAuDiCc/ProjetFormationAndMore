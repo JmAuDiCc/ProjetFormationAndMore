{
 "cells": [
  {
   "cell_type": "code",
   "execution_count": 27,
   "metadata": {},
   "outputs": [],
   "source": [
    "import numpy as np\n",
    "from tensorflow import keras\n",
    "from tensorflow.keras import layers\n",
    "import tensorflow as tf"
   ]
  },
  {
   "cell_type": "code",
   "execution_count": 28,
   "metadata": {},
   "outputs": [],
   "source": [
    "(x_traif_, y_train_), (x_test_, y_test_) = tf.keras.datasets.mnist.load_data()"
   ]
  },
  {
   "cell_type": "code",
   "execution_count": 2,
   "metadata": {},
   "outputs": [
    {
     "name": "stdout",
     "output_type": "stream",
     "text": [
      "x_train shape: (60000, 28, 28, 1)\n",
      "60000 train samples\n",
      "10000 test samples\n"
     ]
    }
   ],
   "source": [
    "# Model / data parameters\n",
    "num_classes = 10\n",
    "input_shape = (28, 28, 1)\n",
    "\n",
    "# the data, split between train and test sets\n",
    "(x_train, y_train), (x_test, y_test) = keras.datasets.mnist.load_data()\n",
    "\n",
    "# Scale images to the [0, 1] range\n",
    "x_train = x_train.astype(\"float32\") / 255\n",
    "x_test = x_test.astype(\"float32\") / 255\n",
    "# Make sure images have shape (28, 28, 1)\n",
    "x_train = np.expand_dims(x_train, -1)\n",
    "x_test = np.expand_dims(x_test, -1)\n",
    "print(\"x_train shape:\", x_train.shape)\n",
    "print(x_train.shape[0], \"train samples\")\n",
    "print(x_test.shape[0], \"test samples\")\n",
    "\n",
    "\n",
    "# convert class vectors to binary class matrices\n",
    "y_train = keras.utils.to_categorical(y_train, num_classes)\n",
    "y_test = keras.utils.to_categorical(y_test, num_classes)"
   ]
  },
  {
   "cell_type": "code",
   "execution_count": 51,
   "metadata": {},
   "outputs": [
    {
     "name": "stdout",
     "output_type": "stream",
     "text": [
      "Model: \"sequential_2\"\n",
      "_________________________________________________________________\n",
      "Layer (type)                 Output Shape              Param #   \n",
      "=================================================================\n",
      "conv2d_3 (Conv2D)            (None, 26, 26, 32)        320       \n",
      "_________________________________________________________________\n",
      "max_pooling2d_3 (MaxPooling2 (None, 13, 13, 32)        0         \n",
      "_________________________________________________________________\n",
      "conv2d_4 (Conv2D)            (None, 11, 11, 64)        18496     \n",
      "_________________________________________________________________\n",
      "max_pooling2d_4 (MaxPooling2 (None, 5, 5, 64)          0         \n",
      "_________________________________________________________________\n",
      "flatten_4 (Flatten)          (None, 1600)              0         \n",
      "_________________________________________________________________\n",
      "dropout_2 (Dropout)          (None, 1600)              0         \n",
      "_________________________________________________________________\n",
      "dense_6 (Dense)              (None, 10)                16010     \n",
      "=================================================================\n",
      "Total params: 34,826\n",
      "Trainable params: 34,826\n",
      "Non-trainable params: 0\n",
      "_________________________________________________________________\n"
     ]
    }
   ],
   "source": [
    "model4 = keras.Sequential(\n",
    "    [\n",
    "        keras.Input(shape=input_shape),\n",
    "        layers.Conv2D(32, kernel_size=(3, 3), activation=\"relu\"),\n",
    "        layers.MaxPooling2D(pool_size=(2, 2)),\n",
    "        layers.Conv2D(64, kernel_size=(3, 3), activation=\"relu\"),\n",
    "        layers.MaxPooling2D(pool_size=(2, 2)),\n",
    "        layers.Flatten(),\n",
    "        layers.Dropout(0.5),\n",
    "        layers.Dense(num_classes, activation=\"softmax\"),\n",
    "    ]\n",
    ")\n",
    "\n",
    "model4.summary()"
   ]
  },
  {
   "cell_type": "code",
   "execution_count": 52,
   "metadata": {},
   "outputs": [
    {
     "name": "stdout",
     "output_type": "stream",
     "text": [
      "Train on 54000 samples, validate on 6000 samples\n",
      "Epoch 1/15\n",
      "54000/54000 [==============================] - 110s 2ms/sample - loss: 0.3580 - accuracy: 0.8923 - val_loss: 0.0838 - val_accuracy: 0.9780\n",
      "Epoch 2/15\n",
      "54000/54000 [==============================] - 113s 2ms/sample - loss: 0.1132 - accuracy: 0.9656 - val_loss: 0.0572 - val_accuracy: 0.9835\n",
      "Epoch 3/15\n",
      "54000/54000 [==============================] - 112s 2ms/sample - loss: 0.0831 - accuracy: 0.9746 - val_loss: 0.0472 - val_accuracy: 0.9875\n",
      "Epoch 4/15\n",
      "54000/54000 [==============================] - 110s 2ms/sample - loss: 0.0706 - accuracy: 0.9781 - val_loss: 0.0427 - val_accuracy: 0.9888\n",
      "Epoch 5/15\n",
      "54000/54000 [==============================] - 109s 2ms/sample - loss: 0.0629 - accuracy: 0.9802 - val_loss: 0.0415 - val_accuracy: 0.9890\n",
      "Epoch 6/15\n",
      "54000/54000 [==============================] - 114s 2ms/sample - loss: 0.0549 - accuracy: 0.9825 - val_loss: 0.0364 - val_accuracy: 0.9895\n",
      "Epoch 7/15\n",
      "54000/54000 [==============================] - 111s 2ms/sample - loss: 0.0489 - accuracy: 0.9844 - val_loss: 0.0365 - val_accuracy: 0.9883\n",
      "Epoch 8/15\n",
      "54000/54000 [==============================] - 113s 2ms/sample - loss: 0.0470 - accuracy: 0.9852 - val_loss: 0.0337 - val_accuracy: 0.9908\n",
      "Epoch 9/15\n",
      "54000/54000 [==============================] - 113s 2ms/sample - loss: 0.0431 - accuracy: 0.9863 - val_loss: 0.0301 - val_accuracy: 0.9918\n",
      "Epoch 10/15\n",
      "54000/54000 [==============================] - 114s 2ms/sample - loss: 0.0412 - accuracy: 0.9872 - val_loss: 0.0300 - val_accuracy: 0.9923\n",
      "Epoch 11/15\n",
      "54000/54000 [==============================] - 113s 2ms/sample - loss: 0.0400 - accuracy: 0.9873 - val_loss: 0.0309 - val_accuracy: 0.9922\n",
      "Epoch 12/15\n",
      "54000/54000 [==============================] - 111s 2ms/sample - loss: 0.0382 - accuracy: 0.9884 - val_loss: 0.0295 - val_accuracy: 0.9918\n",
      "Epoch 13/15\n",
      "54000/54000 [==============================] - 112s 2ms/sample - loss: 0.0349 - accuracy: 0.9889 - val_loss: 0.0296 - val_accuracy: 0.9920\n",
      "Epoch 14/15\n",
      "54000/54000 [==============================] - 112s 2ms/sample - loss: 0.0341 - accuracy: 0.9891 - val_loss: 0.0316 - val_accuracy: 0.9930\n",
      "Epoch 15/15\n",
      "54000/54000 [==============================] - 112s 2ms/sample - loss: 0.0329 - accuracy: 0.9899 - val_loss: 0.0264 - val_accuracy: 0.9930\n"
     ]
    },
    {
     "data": {
      "text/plain": [
       "<tensorflow.python.keras.callbacks.History at 0x1a20d042108>"
      ]
     },
     "execution_count": 52,
     "metadata": {},
     "output_type": "execute_result"
    }
   ],
   "source": [
    "batch_size = 128\n",
    "epochs = 15\n",
    "\n",
    "model4.compile(loss=\"categorical_crossentropy\", optimizer=\"adam\", metrics=[\"accuracy\"])\n",
    "\n",
    "model4.fit(x_train, y_train, batch_size=batch_size, epochs=epochs, validation_split=0.1)"
   ]
  },
  {
   "cell_type": "code",
   "execution_count": 53,
   "metadata": {},
   "outputs": [
    {
     "name": "stdout",
     "output_type": "stream",
     "text": [
      "Test loss: 0.024060704278972115\n",
      "Test accuracy: 0.991\n"
     ]
    }
   ],
   "source": [
    "score = model4.evaluate(x_test, y_test, verbose=0)\n",
    "print(\"Test loss:\", score[0])\n",
    "print(\"Test accuracy:\", score[1])"
   ]
  },
  {
   "cell_type": "code",
   "execution_count": 58,
   "metadata": {},
   "outputs": [
    {
     "name": "stdout",
     "output_type": "stream",
     "text": [
      "10000/10000 [==============================] - 11s 1ms/sample\n"
     ]
    }
   ],
   "source": [
    "predict_test = model4.predict_classes(x_test, verbose=1)"
   ]
  },
  {
   "cell_type": "code",
   "execution_count": 59,
   "metadata": {},
   "outputs": [],
   "source": [
    "cm = confusion_matrix(y_test_, predict_test)"
   ]
  },
  {
   "cell_type": "code",
   "execution_count": 64,
   "metadata": {},
   "outputs": [
    {
     "data": {
      "image/png": "[encoded data removed]",
      "text/plain": [
       "<Figure size 720x504 with 2 Axes>"
      ]
     },
     "metadata": {
      "needs_background": "light"
     },
     "output_type": "display_data"
    }
   ],
   "source": [
    "import pandas as pd\n",
    "import matplotlib.pyplot as plt  \n",
    "from sklearn.metrics import plot_confusion_matrix\n",
    "import seaborn as sns\n",
    "df_cm = pd.DataFrame(cm, index =[i for i in [0, 1, 2, 3, 4, 5, 6, 7, 8, 9]],\n",
    "                  columns = [i for i in [0, 1, 2, 3, 4, 5, 6, 7, 8, 9]])\n",
    "plt.figure(figsize = (10,7))\n",
    "ax = sns.heatmap(df_cm,annot=True, fmt='g')\n",
    "bottom, top = ax.get_ylim()\n",
    "ax.set_ylim(bottom + 0.5, top - 0.5)\n",
    "ax.set_ylabel(\"Vrais labels\")\n",
    "ax.set_xlabel(\"Labels prédits\")\n",
    "plt.show()"
   ]
  },
  {
   "cell_type": "code",
   "execution_count": 65,
   "metadata": {},
   "outputs": [],
   "source": [
    "model4.save('model_conv.h5') "
   ]
  },
  {
   "cell_type": "code",
   "execution_count": 15,
   "metadata": {},
   "outputs": [],
   "source": [
    "from keras_visualizer import visualizer \n",
    "\n"
   ]
  },
  {
   "cell_type": "code",
   "execution_count": null,
   "metadata": {},
   "outputs": [],
   "source": []
  },
  {
   "cell_type": "code",
   "execution_count": 14,
   "metadata": {},
   "outputs": [
    {
     "name": "stdout",
     "output_type": "stream",
     "text": [
      "Collecting keras-visualizer\n",
      "  Downloading keras_visualizer-2.4-py3-none-any.whl (5.4 kB)\n",
      "Installing collected packages: keras-visualizer\n",
      "Successfully installed keras-visualizer-2.4\n"
     ]
    },
    {
     "name": "stderr",
     "output_type": "stream",
     "text": [
      "WARNING: You are using pip version 21.0.1; however, version 21.1.1 is available.\n",
      "You should consider upgrading via the 'c:\\users\\lenovo\\anaconda3\\python.exe -m pip install --upgrade pip' command.\n"
     ]
    }
   ],
   "source": [
    "!pip3 install keras-visualizer"
   ]
  },
  {
   "cell_type": "code",
   "execution_count": 16,
   "metadata": {},
   "outputs": [],
   "source": [
    "visualizer(model, format='png', view=True)"
   ]
  },
  {
   "cell_type": "code",
   "execution_count": null,
   "metadata": {},
   "outputs": [],
   "source": []
  },
  {
   "cell_type": "markdown",
   "metadata": {},
   "source": [
    "# Model 2"
   ]
  },
  {
   "cell_type": "code",
   "execution_count": 17,
   "metadata": {},
   "outputs": [
    {
     "name": "stdout",
     "output_type": "stream",
     "text": [
      "Model: \"sequential_1\"\n",
      "_________________________________________________________________\n",
      "Layer (type)                 Output Shape              Param #   \n",
      "=================================================================\n",
      "conv2d_2 (Conv2D)            (None, 26, 26, 32)        320       \n",
      "_________________________________________________________________\n",
      "max_pooling2d_2 (MaxPooling2 (None, 13, 13, 32)        0         \n",
      "_________________________________________________________________\n",
      "flatten_1 (Flatten)          (None, 5408)              0         \n",
      "_________________________________________________________________\n",
      "dropout_1 (Dropout)          (None, 5408)              0         \n",
      "_________________________________________________________________\n",
      "dense_1 (Dense)              (None, 10)                54090     \n",
      "=================================================================\n",
      "Total params: 54,410\n",
      "Trainable params: 54,410\n",
      "Non-trainable params: 0\n",
      "_________________________________________________________________\n"
     ]
    }
   ],
   "source": [
    "model2 = keras.Sequential(\n",
    "    [\n",
    "        keras.Input(shape=input_shape),\n",
    "        layers.Conv2D(32, kernel_size=(3, 3), activation=\"relu\"),\n",
    "        layers.MaxPooling2D(pool_size=(2, 2)),\n",
    "        layers.Flatten(),\n",
    "        layers.Dropout(0.5),\n",
    "        layers.Dense(num_classes, activation=\"softmax\"),\n",
    "    ]\n",
    ")\n",
    "\n",
    "model2.summary()"
   ]
  },
  {
   "cell_type": "code",
   "execution_count": 18,
   "metadata": {},
   "outputs": [
    {
     "name": "stdout",
     "output_type": "stream",
     "text": [
      "Train on 54000 samples, validate on 6000 samples\n",
      "Epoch 1/15\n",
      "54000/54000 [==============================] - 64s 1ms/sample - loss: 0.4102 - accuracy: 0.8849 - val_loss: 0.1492 - val_accuracy: 0.9610\n",
      "Epoch 2/15\n",
      "54000/54000 [==============================] - 61s 1ms/sample - loss: 0.1732 - accuracy: 0.9492 - val_loss: 0.1011 - val_accuracy: 0.9742\n",
      "Epoch 3/15\n",
      "54000/54000 [==============================] - 61s 1ms/sample - loss: 0.1336 - accuracy: 0.9603 - val_loss: 0.0863 - val_accuracy: 0.9778\n",
      "Epoch 4/15\n",
      "54000/54000 [==============================] - 61s 1ms/sample - loss: 0.1170 - accuracy: 0.9646 - val_loss: 0.0744 - val_accuracy: 0.9805\n",
      "Epoch 5/15\n",
      "54000/54000 [==============================] - 61s 1ms/sample - loss: 0.1033 - accuracy: 0.9690 - val_loss: 0.0678 - val_accuracy: 0.9818\n",
      "Epoch 6/15\n",
      "54000/54000 [==============================] - 61s 1ms/sample - loss: 0.0963 - accuracy: 0.9714 - val_loss: 0.0645 - val_accuracy: 0.9833\n",
      "Epoch 7/15\n",
      "54000/54000 [==============================] - 60s 1ms/sample - loss: 0.0882 - accuracy: 0.9728 - val_loss: 0.0627 - val_accuracy: 0.9827\n",
      "Epoch 8/15\n",
      "54000/54000 [==============================] - 61s 1ms/sample - loss: 0.0843 - accuracy: 0.9739 - val_loss: 0.0588 - val_accuracy: 0.9853\n",
      "Epoch 9/15\n",
      "54000/54000 [==============================] - 61s 1ms/sample - loss: 0.0761 - accuracy: 0.9766 - val_loss: 0.0548 - val_accuracy: 0.9868\n",
      "Epoch 10/15\n",
      "54000/54000 [==============================] - 60s 1ms/sample - loss: 0.0740 - accuracy: 0.9766 - val_loss: 0.0537 - val_accuracy: 0.9855\n",
      "Epoch 11/15\n",
      "54000/54000 [==============================] - 60s 1ms/sample - loss: 0.0732 - accuracy: 0.9770 - val_loss: 0.0528 - val_accuracy: 0.9867\n",
      "Epoch 12/15\n",
      "54000/54000 [==============================] - 59s 1ms/sample - loss: 0.0683 - accuracy: 0.9783 - val_loss: 0.0543 - val_accuracy: 0.9867\n",
      "Epoch 13/15\n",
      "54000/54000 [==============================] - 59s 1ms/sample - loss: 0.0647 - accuracy: 0.9800 - val_loss: 0.0508 - val_accuracy: 0.9862\n",
      "Epoch 14/15\n",
      "54000/54000 [==============================] - 59s 1ms/sample - loss: 0.0633 - accuracy: 0.9805 - val_loss: 0.0528 - val_accuracy: 0.9853\n",
      "Epoch 15/15\n",
      "54000/54000 [==============================] - 60s 1ms/sample - loss: 0.0601 - accuracy: 0.9811 - val_loss: 0.0496 - val_accuracy: 0.9872\n"
     ]
    },
    {
     "data": {
      "text/plain": [
       "<tensorflow.python.keras.callbacks.History at 0x1a264ae8708>"
      ]
     },
     "execution_count": 18,
     "metadata": {},
     "output_type": "execute_result"
    }
   ],
   "source": [
    "batch_size = 128\n",
    "epochs = 15\n",
    "\n",
    "model2.compile(loss=\"categorical_crossentropy\", optimizer=\"adam\", metrics=[\"accuracy\"])\n",
    "\n",
    "model2.fit(x_train, y_train, batch_size=batch_size, epochs=epochs, validation_split=0.1)"
   ]
  },
  {
   "cell_type": "code",
   "execution_count": 19,
   "metadata": {},
   "outputs": [
    {
     "name": "stdout",
     "output_type": "stream",
     "text": [
      "Test loss: 0.04987648413684219\n",
      "Test accuracy: 0.9841\n"
     ]
    }
   ],
   "source": [
    "score = model2.evaluate(x_test, y_test, verbose=0)\n",
    "print(\"Test loss:\", score[0])\n",
    "print(\"Test accuracy:\", score[1])"
   ]
  },
  {
   "cell_type": "code",
   "execution_count": 54,
   "metadata": {},
   "outputs": [
    {
     "name": "stdout",
     "output_type": "stream",
     "text": [
      "10000/10000 [==============================] - 10s 1ms/sample\n"
     ]
    }
   ],
   "source": [
    "predict_test = model4.predict_classes(x_test, verbose=1)"
   ]
  },
  {
   "cell_type": "code",
   "execution_count": 22,
   "metadata": {},
   "outputs": [],
   "source": [
    "from sklearn.metrics import confusion_matrix , accuracy_score , f1_score"
   ]
  },
  {
   "cell_type": "code",
   "execution_count": 24,
   "metadata": {},
   "outputs": [
    {
     "data": {
      "text/plain": [
       "array([7, 2, 1, ..., 4, 5, 6], dtype=int64)"
      ]
     },
     "execution_count": 24,
     "metadata": {},
     "output_type": "execute_result"
    }
   ],
   "source": [
    "predict_test"
   ]
  },
  {
   "cell_type": "code",
   "execution_count": 29,
   "metadata": {},
   "outputs": [
    {
     "data": {
      "text/plain": [
       "array([7, 2, 1, ..., 4, 5, 6], dtype=uint8)"
      ]
     },
     "execution_count": 29,
     "metadata": {},
     "output_type": "execute_result"
    }
   ],
   "source": [
    "y_test_"
   ]
  },
  {
   "cell_type": "code",
   "execution_count": 56,
   "metadata": {},
   "outputs": [
    {
     "data": {
      "text/plain": [
       "0.991"
      ]
     },
     "execution_count": 56,
     "metadata": {},
     "output_type": "execute_result"
    }
   ],
   "source": [
    "#acc m1\n",
    "accuracy_score(y_test_,predict_test)"
   ]
  },
  {
   "cell_type": "code",
   "execution_count": null,
   "metadata": {},
   "outputs": [],
   "source": []
  },
  {
   "cell_type": "code",
   "execution_count": 57,
   "metadata": {},
   "outputs": [
    {
     "data": {
      "text/plain": [
       "array([0.99541985, 0.99516484, 0.98884037, 0.99355478, 0.99186165,\n",
       "       0.98935574, 0.99110413, 0.98790518, 0.99127758, 0.98502994])"
      ]
     },
     "execution_count": 57,
     "metadata": {},
     "output_type": "execute_result"
    }
   ],
   "source": [
    "f1_score(y_test_,predict_test,average=None, labels = [0, 1, 2, 3, 4, 5, 6, 7, 8, 9])"
   ]
  },
  {
   "cell_type": "code",
   "execution_count": 40,
   "metadata": {},
   "outputs": [],
   "source": [
    "import numpy as np\n"
   ]
  },
  {
   "cell_type": "code",
   "execution_count": null,
   "metadata": {},
   "outputs": [],
   "source": []
  },
  {
   "cell_type": "code",
   "execution_count": 44,
   "metadata": {},
   "outputs": [
    {
     "data": {
      "text/plain": [
       "array([0.99795918, 0.99647577, 0.99224806, 0.99009901, 0.99592668,\n",
       "       0.98654709, 0.99060543, 0.97762646, 0.98767967, 0.98909812])"
      ]
     },
     "execution_count": 44,
     "metadata": {},
     "output_type": "execute_result"
    }
   ],
   "source": [
    "cm = confusion_matrix(y_test_, predict_test)\n",
    "cm_norm = cm.astype('float') / cm.sum(axis=1)[:, np.newaxis]\n",
    "cm_norm.diagonal()"
   ]
  },
  {
   "cell_type": "code",
   "execution_count": null,
   "metadata": {},
   "outputs": [],
   "source": []
  },
  {
   "cell_type": "code",
   "execution_count": 46,
   "metadata": {},
   "outputs": [
    {
     "name": "stdout",
     "output_type": "stream",
     "text": [
      "Model: \"model\"\n",
      "_________________________________________________________________\n",
      "Layer (type)                 Output Shape              Param #   \n",
      "=================================================================\n",
      "input_4 (InputLayer)         [(None, 28, 28)]          0         \n",
      "_________________________________________________________________\n",
      "flatten_3 (Flatten)          (None, 784)               0         \n",
      "_________________________________________________________________\n",
      "dense_4 (Dense)              (None, 784)               615440    \n",
      "_________________________________________________________________\n",
      "dense_5 (Dense)              (None, 10)                7850      \n",
      "=================================================================\n",
      "Total params: 623,290\n",
      "Trainable params: 623,290\n",
      "Non-trainable params: 0\n",
      "_________________________________________________________________\n"
     ]
    }
   ],
   "source": [
    "# model simple \n",
    "inputs = tf.keras.Input(shape=(28, 28))\n",
    "x = tf.keras.layers.Flatten()(inputs)\n",
    "first_layer = tf.keras.layers.Dense(784, activation = 'sigmoid')(x)\n",
    "outputs = tf.keras.layers.Dense(10, activation=\"softmax\")(first_layer)\n",
    "model3 = tf.keras.Model(inputs, outputs)\n",
    "model3.summary()"
   ]
  },
  {
   "cell_type": "code",
   "execution_count": 48,
   "metadata": {},
   "outputs": [
    {
     "name": "stdout",
     "output_type": "stream",
     "text": [
      "Train on 54000 samples, validate on 6000 samples\n",
      "Epoch 1/5\n",
      "54000/54000 [==============================] - 47s 879us/sample - loss: 0.0562 - accuracy: 0.9824 - val_loss: 0.0492 - val_accuracy: 0.9873\n",
      "Epoch 2/5\n",
      "54000/54000 [==============================] - 48s 882us/sample - loss: 0.0522 - accuracy: 0.9836 - val_loss: 0.0510 - val_accuracy: 0.9870\n",
      "Epoch 3/5\n",
      "54000/54000 [==============================] - 47s 877us/sample - loss: 0.0515 - accuracy: 0.9835 - val_loss: 0.0499 - val_accuracy: 0.9873\n",
      "Epoch 4/5\n",
      "54000/54000 [==============================] - 47s 878us/sample - loss: 0.0512 - accuracy: 0.9844 - val_loss: 0.0502 - val_accuracy: 0.9863\n",
      "Epoch 5/5\n",
      "54000/54000 [==============================] - 48s 888us/sample - loss: 0.0494 - accuracy: 0.9848 - val_loss: 0.0488 - val_accuracy: 0.9880\n"
     ]
    },
    {
     "data": {
      "text/plain": [
       "<tensorflow.python.keras.callbacks.History at 0x1a270279788>"
      ]
     },
     "execution_count": 48,
     "metadata": {},
     "output_type": "execute_result"
    }
   ],
   "source": [
    "batch_size = 500\n",
    "epochs = 5\n",
    "\n",
    "model2.compile(loss=\"categorical_crossentropy\", optimizer=\"adam\", metrics=[\"accuracy\"])\n",
    "\n",
    "model2.fit(x_train, y_train, batch_size=batch_size, epochs=epochs, validation_split=0.1)"
   ]
  },
  {
   "cell_type": "code",
   "execution_count": 50,
   "metadata": {},
   "outputs": [
    {
     "name": "stdout",
     "output_type": "stream",
     "text": [
      "Test loss: 0.04657399578453041\n",
      "Test accuracy: 0.9845\n"
     ]
    }
   ],
   "source": [
    "score3 = model2.evaluate(x_test, y_test, verbose=0)\n",
    "print(\"Test loss:\", score3[0])\n",
    "print(\"Test accuracy:\", score3[1])"
   ]
  }
 ],
 "metadata": {
  "kernelspec": {
   "display_name": "Python 3",
   "language": "python",
   "name": "python3"
  },
  "language_info": {
   "codemirror_mode": {
    "name": "ipython",
    "version": 3
   },
   "file_extension": ".py",
   "mimetype": "text/x-python",
   "name": "python",
   "nbconvert_exporter": "python",
   "pygments_lexer": "ipython3",
   "version": "3.7.4"
  }
 },
 "nbformat": 4,
 "nbformat_minor": 4
}
