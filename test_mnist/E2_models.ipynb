{
 "cells": [
  {
   "cell_type": "code",
   "execution_count": 157,
   "metadata": {},
   "outputs": [],
   "source": [
    "import tensorflow as tf\n",
    "import numpy as np\n",
    "import pandas as pd\n",
    "import time\n",
    "import matplotlib.pyplot as plt  \n",
    "from sklearn.metrics import plot_confusion_matrix\n",
    "import pickle"
   ]
  },
  {
   "cell_type": "code",
   "execution_count": null,
   "metadata": {},
   "outputs": [],
   "source": []
  },
  {
   "cell_type": "code",
   "execution_count": 2,
   "metadata": {},
   "outputs": [],
   "source": [
    "#récupération des données mnist via tensorflow\n",
    "(x_train, y_train), (x_test, y_test) = tf.keras.datasets.mnist.load_data()"
   ]
  },
  {
   "cell_type": "code",
   "execution_count": 3,
   "metadata": {},
   "outputs": [
    {
     "name": "stdout",
     "output_type": "stream",
     "text": [
      "60000 10000\n"
     ]
    }
   ],
   "source": [
    "#taille des donnéées\n",
    "print(len(x_train),len(x_test))"
   ]
  },
  {
   "cell_type": "code",
   "execution_count": 4,
   "metadata": {},
   "outputs": [
    {
     "name": "stdout",
     "output_type": "stream",
     "text": [
      "(28, 28)\n"
     ]
    }
   ],
   "source": [
    "#taille des images mnist \n",
    "print(np.shape(x_train[0]))"
   ]
  },
  {
   "cell_type": "code",
   "execution_count": 5,
   "metadata": {},
   "outputs": [
    {
     "data": {
      "text/plain": [
       "784"
      ]
     },
     "execution_count": 5,
     "metadata": {},
     "output_type": "execute_result"
    }
   ],
   "source": [
    "28*28"
   ]
  },
  {
   "cell_type": "markdown",
   "metadata": {},
   "source": [
    "# Visualisation"
   ]
  },
  {
   "cell_type": "code",
   "execution_count": 6,
   "metadata": {},
   "outputs": [],
   "source": [
    "import matplotlib.pyplot as plt\n",
    "import random"
   ]
  },
  {
   "cell_type": "code",
   "execution_count": 7,
   "metadata": {},
   "outputs": [
    {
     "data": {
      "image/png": "[encoded data removed]",
      "text/plain": [
       "<Figure size 432x288 with 1 Axes>"
      ]
     },
     "metadata": {
      "needs_background": "light"
     },
     "output_type": "display_data"
    },
    {
     "name": "stdout",
     "output_type": "stream",
     "text": [
      "2\n"
     ]
    }
   ],
   "source": [
    "plt.imshow(x_train[457], cmap='Greys')\n",
    "plt.show()\n",
    "print(y_train[457])"
   ]
  },
  {
   "cell_type": "code",
   "execution_count": 8,
   "metadata": {},
   "outputs": [],
   "source": [
    "#flat données\n",
    "x_train_flat = []\n",
    "for i in range (len(x_train)):\n",
    "    x_train_flat.append(np.ndarray.flatten(x_train[i]))\n",
    "    \n",
    "x_test_flat = []\n",
    "for i in range (len(x_test)):\n",
    "    x_test_flat.append(np.ndarray.flatten(x_test[i]))"
   ]
  },
  {
   "cell_type": "code",
   "execution_count": 9,
   "metadata": {},
   "outputs": [],
   "source": [
    "from sklearn.linear_model import LogisticRegression"
   ]
  },
  {
   "cell_type": "code",
   "execution_count": 103,
   "metadata": {
    "collapsed": true,
    "jupyter": {
     "outputs_hidden": true
    }
   },
   "outputs": [
    {
     "ename": "ValueError",
     "evalue": "Solver lbfgs supports only 'l2' or 'none' penalties, got l1 penalty.",
     "output_type": "error",
     "traceback": [
      "\u001b[1;31m---------------------------------------------------------------------------\u001b[0m",
      "\u001b[1;31mValueError\u001b[0m                                Traceback (most recent call last)",
      "\u001b[1;32m<ipython-input-103-eefb94be4f78>\u001b[0m in \u001b[0;36m<module>\u001b[1;34m\u001b[0m\n\u001b[1;32m----> 1\u001b[1;33m \u001b[0mclf\u001b[0m \u001b[1;33m=\u001b[0m \u001b[0mLogisticRegression\u001b[0m\u001b[1;33m(\u001b[0m\u001b[0mC\u001b[0m\u001b[1;33m=\u001b[0m\u001b[1;36m1\u001b[0m\u001b[1;33m,\u001b[0m \u001b[0mclass_weight\u001b[0m\u001b[1;33m=\u001b[0m\u001b[1;32mNone\u001b[0m\u001b[1;33m,\u001b[0m \u001b[0mdual\u001b[0m\u001b[1;33m=\u001b[0m\u001b[1;32mFalse\u001b[0m\u001b[1;33m,\u001b[0m \u001b[0mpenalty\u001b[0m\u001b[1;33m=\u001b[0m\u001b[1;34m'l1'\u001b[0m\u001b[1;33m,\u001b[0m \u001b[0msolver\u001b[0m\u001b[1;33m=\u001b[0m\u001b[1;34m'lbfgs'\u001b[0m\u001b[1;33m)\u001b[0m\u001b[1;33m.\u001b[0m\u001b[0mfit\u001b[0m\u001b[1;33m(\u001b[0m\u001b[0mx_train_flat\u001b[0m\u001b[1;33m[\u001b[0m\u001b[1;33m:\u001b[0m\u001b[1;36m5000\u001b[0m\u001b[1;33m]\u001b[0m\u001b[1;33m,\u001b[0m \u001b[0my_train\u001b[0m\u001b[1;33m[\u001b[0m\u001b[1;33m:\u001b[0m\u001b[1;36m5000\u001b[0m\u001b[1;33m]\u001b[0m\u001b[1;33m)\u001b[0m\u001b[1;33m\u001b[0m\u001b[1;33m\u001b[0m\u001b[0m\n\u001b[0m",
      "\u001b[1;32m~\\Anaconda3\\lib\\site-packages\\sklearn\\linear_model\\_logistic.py\u001b[0m in \u001b[0;36mfit\u001b[1;34m(self, X, y, sample_weight)\u001b[0m\n\u001b[0;32m   1304\u001b[0m         \u001b[0mThe\u001b[0m \u001b[0mSAGA\u001b[0m \u001b[0msolver\u001b[0m \u001b[0msupports\u001b[0m \u001b[0mboth\u001b[0m \u001b[0mfloat64\u001b[0m \u001b[1;32mand\u001b[0m \u001b[0mfloat32\u001b[0m \u001b[0mbit\u001b[0m \u001b[0marrays\u001b[0m\u001b[1;33m.\u001b[0m\u001b[1;33m\u001b[0m\u001b[1;33m\u001b[0m\u001b[0m\n\u001b[0;32m   1305\u001b[0m         \"\"\"\n\u001b[1;32m-> 1306\u001b[1;33m         \u001b[0msolver\u001b[0m \u001b[1;33m=\u001b[0m \u001b[0m_check_solver\u001b[0m\u001b[1;33m(\u001b[0m\u001b[0mself\u001b[0m\u001b[1;33m.\u001b[0m\u001b[0msolver\u001b[0m\u001b[1;33m,\u001b[0m \u001b[0mself\u001b[0m\u001b[1;33m.\u001b[0m\u001b[0mpenalty\u001b[0m\u001b[1;33m,\u001b[0m \u001b[0mself\u001b[0m\u001b[1;33m.\u001b[0m\u001b[0mdual\u001b[0m\u001b[1;33m)\u001b[0m\u001b[1;33m\u001b[0m\u001b[1;33m\u001b[0m\u001b[0m\n\u001b[0m\u001b[0;32m   1307\u001b[0m \u001b[1;33m\u001b[0m\u001b[0m\n\u001b[0;32m   1308\u001b[0m         \u001b[1;32mif\u001b[0m \u001b[1;32mnot\u001b[0m \u001b[0misinstance\u001b[0m\u001b[1;33m(\u001b[0m\u001b[0mself\u001b[0m\u001b[1;33m.\u001b[0m\u001b[0mC\u001b[0m\u001b[1;33m,\u001b[0m \u001b[0mnumbers\u001b[0m\u001b[1;33m.\u001b[0m\u001b[0mNumber\u001b[0m\u001b[1;33m)\u001b[0m \u001b[1;32mor\u001b[0m \u001b[0mself\u001b[0m\u001b[1;33m.\u001b[0m\u001b[0mC\u001b[0m \u001b[1;33m<\u001b[0m \u001b[1;36m0\u001b[0m\u001b[1;33m:\u001b[0m\u001b[1;33m\u001b[0m\u001b[1;33m\u001b[0m\u001b[0m\n",
      "\u001b[1;32m~\\Anaconda3\\lib\\site-packages\\sklearn\\linear_model\\_logistic.py\u001b[0m in \u001b[0;36m_check_solver\u001b[1;34m(solver, penalty, dual)\u001b[0m\n\u001b[0;32m    442\u001b[0m     \u001b[1;32mif\u001b[0m \u001b[0msolver\u001b[0m \u001b[1;32mnot\u001b[0m \u001b[1;32min\u001b[0m \u001b[1;33m[\u001b[0m\u001b[1;34m'liblinear'\u001b[0m\u001b[1;33m,\u001b[0m \u001b[1;34m'saga'\u001b[0m\u001b[1;33m]\u001b[0m \u001b[1;32mand\u001b[0m \u001b[0mpenalty\u001b[0m \u001b[1;32mnot\u001b[0m \u001b[1;32min\u001b[0m \u001b[1;33m(\u001b[0m\u001b[1;34m'l2'\u001b[0m\u001b[1;33m,\u001b[0m \u001b[1;34m'none'\u001b[0m\u001b[1;33m)\u001b[0m\u001b[1;33m:\u001b[0m\u001b[1;33m\u001b[0m\u001b[1;33m\u001b[0m\u001b[0m\n\u001b[0;32m    443\u001b[0m         raise ValueError(\"Solver %s supports only 'l2' or 'none' penalties, \"\n\u001b[1;32m--> 444\u001b[1;33m                          \"got %s penalty.\" % (solver, penalty))\n\u001b[0m\u001b[0;32m    445\u001b[0m     \u001b[1;32mif\u001b[0m \u001b[0msolver\u001b[0m \u001b[1;33m!=\u001b[0m \u001b[1;34m'liblinear'\u001b[0m \u001b[1;32mand\u001b[0m \u001b[0mdual\u001b[0m\u001b[1;33m:\u001b[0m\u001b[1;33m\u001b[0m\u001b[1;33m\u001b[0m\u001b[0m\n\u001b[0;32m    446\u001b[0m         raise ValueError(\"Solver %s supports only \"\n",
      "\u001b[1;31mValueError\u001b[0m: Solver lbfgs supports only 'l2' or 'none' penalties, got l1 penalty."
     ]
    }
   ],
   "source": [
    "clf = LogisticRegression(C=1, class_weight=None, dual=False, penalty='l1', solver='lbfgs').fit(x_train_flat[:5000], y_train[:5000])"
   ]
  },
  {
   "cell_type": "code",
   "execution_count": 71,
   "metadata": {
    "collapsed": true,
    "jupyter": {
     "outputs_hidden": true
    }
   },
   "outputs": [
    {
     "ename": "NotFittedError",
     "evalue": "This LogisticRegression instance is not fitted yet. Call 'fit' with appropriate arguments before using this estimator.",
     "output_type": "error",
     "traceback": [
      "\u001b[1;31m---------------------------------------------------------------------------\u001b[0m",
      "\u001b[1;31mNotFittedError\u001b[0m                            Traceback (most recent call last)",
      "\u001b[1;32m<ipython-input-71-7b03df321a8f>\u001b[0m in \u001b[0;36m<module>\u001b[1;34m\u001b[0m\n\u001b[0;32m      1\u001b[0m \u001b[1;32mfrom\u001b[0m \u001b[0msklearn\u001b[0m\u001b[1;33m.\u001b[0m\u001b[0mmetrics\u001b[0m \u001b[1;32mimport\u001b[0m \u001b[0mconfusion_matrix\u001b[0m \u001b[1;33m,\u001b[0m \u001b[0maccuracy_score\u001b[0m\u001b[1;33m\u001b[0m\u001b[1;33m\u001b[0m\u001b[0m\n\u001b[1;32m----> 2\u001b[1;33m \u001b[0my_pred_train\u001b[0m \u001b[1;33m=\u001b[0m \u001b[0mclf\u001b[0m\u001b[1;33m.\u001b[0m\u001b[0mpredict\u001b[0m\u001b[1;33m(\u001b[0m\u001b[0mx_train_flat\u001b[0m\u001b[1;33m)\u001b[0m\u001b[1;33m\u001b[0m\u001b[1;33m\u001b[0m\u001b[0m\n\u001b[0m\u001b[0;32m      3\u001b[0m \u001b[0maccuracy_score\u001b[0m\u001b[1;33m(\u001b[0m\u001b[0my_train\u001b[0m\u001b[1;33m,\u001b[0m\u001b[0my_pred_train\u001b[0m\u001b[1;33m)\u001b[0m\u001b[1;33m\u001b[0m\u001b[1;33m\u001b[0m\u001b[0m\n",
      "\u001b[1;32m~\\Anaconda3\\lib\\site-packages\\sklearn\\linear_model\\_base.py\u001b[0m in \u001b[0;36mpredict\u001b[1;34m(self, X)\u001b[0m\n\u001b[0;32m    307\u001b[0m             \u001b[0mPredicted\u001b[0m \u001b[1;32mclass\u001b[0m \u001b[0mlabel\u001b[0m \u001b[0mper\u001b[0m \u001b[0msample\u001b[0m\u001b[1;33m.\u001b[0m\u001b[1;33m\u001b[0m\u001b[1;33m\u001b[0m\u001b[0m\n\u001b[0;32m    308\u001b[0m         \"\"\"\n\u001b[1;32m--> 309\u001b[1;33m         \u001b[0mscores\u001b[0m \u001b[1;33m=\u001b[0m \u001b[0mself\u001b[0m\u001b[1;33m.\u001b[0m\u001b[0mdecision_function\u001b[0m\u001b[1;33m(\u001b[0m\u001b[0mX\u001b[0m\u001b[1;33m)\u001b[0m\u001b[1;33m\u001b[0m\u001b[1;33m\u001b[0m\u001b[0m\n\u001b[0m\u001b[0;32m    310\u001b[0m         \u001b[1;32mif\u001b[0m \u001b[0mlen\u001b[0m\u001b[1;33m(\u001b[0m\u001b[0mscores\u001b[0m\u001b[1;33m.\u001b[0m\u001b[0mshape\u001b[0m\u001b[1;33m)\u001b[0m \u001b[1;33m==\u001b[0m \u001b[1;36m1\u001b[0m\u001b[1;33m:\u001b[0m\u001b[1;33m\u001b[0m\u001b[1;33m\u001b[0m\u001b[0m\n\u001b[0;32m    311\u001b[0m             \u001b[0mindices\u001b[0m \u001b[1;33m=\u001b[0m \u001b[1;33m(\u001b[0m\u001b[0mscores\u001b[0m \u001b[1;33m>\u001b[0m \u001b[1;36m0\u001b[0m\u001b[1;33m)\u001b[0m\u001b[1;33m.\u001b[0m\u001b[0mastype\u001b[0m\u001b[1;33m(\u001b[0m\u001b[0mint\u001b[0m\u001b[1;33m)\u001b[0m\u001b[1;33m\u001b[0m\u001b[1;33m\u001b[0m\u001b[0m\n",
      "\u001b[1;32m~\\Anaconda3\\lib\\site-packages\\sklearn\\linear_model\\_base.py\u001b[0m in \u001b[0;36mdecision_function\u001b[1;34m(self, X)\u001b[0m\n\u001b[0;32m    280\u001b[0m             \u001b[1;32mclass\u001b[0m \u001b[0mwould\u001b[0m \u001b[0mbe\u001b[0m \u001b[0mpredicted\u001b[0m\u001b[1;33m.\u001b[0m\u001b[1;33m\u001b[0m\u001b[1;33m\u001b[0m\u001b[0m\n\u001b[0;32m    281\u001b[0m         \"\"\"\n\u001b[1;32m--> 282\u001b[1;33m         \u001b[0mcheck_is_fitted\u001b[0m\u001b[1;33m(\u001b[0m\u001b[0mself\u001b[0m\u001b[1;33m)\u001b[0m\u001b[1;33m\u001b[0m\u001b[1;33m\u001b[0m\u001b[0m\n\u001b[0m\u001b[0;32m    283\u001b[0m \u001b[1;33m\u001b[0m\u001b[0m\n\u001b[0;32m    284\u001b[0m         \u001b[0mX\u001b[0m \u001b[1;33m=\u001b[0m \u001b[0mcheck_array\u001b[0m\u001b[1;33m(\u001b[0m\u001b[0mX\u001b[0m\u001b[1;33m,\u001b[0m \u001b[0maccept_sparse\u001b[0m\u001b[1;33m=\u001b[0m\u001b[1;34m'csr'\u001b[0m\u001b[1;33m)\u001b[0m\u001b[1;33m\u001b[0m\u001b[1;33m\u001b[0m\u001b[0m\n",
      "\u001b[1;32m~\\Anaconda3\\lib\\site-packages\\sklearn\\utils\\validation.py\u001b[0m in \u001b[0;36minner_f\u001b[1;34m(*args, **kwargs)\u001b[0m\n\u001b[0;32m     61\u001b[0m             \u001b[0mextra_args\u001b[0m \u001b[1;33m=\u001b[0m \u001b[0mlen\u001b[0m\u001b[1;33m(\u001b[0m\u001b[0margs\u001b[0m\u001b[1;33m)\u001b[0m \u001b[1;33m-\u001b[0m \u001b[0mlen\u001b[0m\u001b[1;33m(\u001b[0m\u001b[0mall_args\u001b[0m\u001b[1;33m)\u001b[0m\u001b[1;33m\u001b[0m\u001b[1;33m\u001b[0m\u001b[0m\n\u001b[0;32m     62\u001b[0m             \u001b[1;32mif\u001b[0m \u001b[0mextra_args\u001b[0m \u001b[1;33m<=\u001b[0m \u001b[1;36m0\u001b[0m\u001b[1;33m:\u001b[0m\u001b[1;33m\u001b[0m\u001b[1;33m\u001b[0m\u001b[0m\n\u001b[1;32m---> 63\u001b[1;33m                 \u001b[1;32mreturn\u001b[0m \u001b[0mf\u001b[0m\u001b[1;33m(\u001b[0m\u001b[1;33m*\u001b[0m\u001b[0margs\u001b[0m\u001b[1;33m,\u001b[0m \u001b[1;33m**\u001b[0m\u001b[0mkwargs\u001b[0m\u001b[1;33m)\u001b[0m\u001b[1;33m\u001b[0m\u001b[1;33m\u001b[0m\u001b[0m\n\u001b[0m\u001b[0;32m     64\u001b[0m \u001b[1;33m\u001b[0m\u001b[0m\n\u001b[0;32m     65\u001b[0m             \u001b[1;31m# extra_args > 0\u001b[0m\u001b[1;33m\u001b[0m\u001b[1;33m\u001b[0m\u001b[1;33m\u001b[0m\u001b[0m\n",
      "\u001b[1;32m~\\Anaconda3\\lib\\site-packages\\sklearn\\utils\\validation.py\u001b[0m in \u001b[0;36mcheck_is_fitted\u001b[1;34m(estimator, attributes, msg, all_or_any)\u001b[0m\n\u001b[0;32m   1039\u001b[0m \u001b[1;33m\u001b[0m\u001b[0m\n\u001b[0;32m   1040\u001b[0m     \u001b[1;32mif\u001b[0m \u001b[1;32mnot\u001b[0m \u001b[0mattrs\u001b[0m\u001b[1;33m:\u001b[0m\u001b[1;33m\u001b[0m\u001b[1;33m\u001b[0m\u001b[0m\n\u001b[1;32m-> 1041\u001b[1;33m         \u001b[1;32mraise\u001b[0m \u001b[0mNotFittedError\u001b[0m\u001b[1;33m(\u001b[0m\u001b[0mmsg\u001b[0m \u001b[1;33m%\u001b[0m \u001b[1;33m{\u001b[0m\u001b[1;34m'name'\u001b[0m\u001b[1;33m:\u001b[0m \u001b[0mtype\u001b[0m\u001b[1;33m(\u001b[0m\u001b[0mestimator\u001b[0m\u001b[1;33m)\u001b[0m\u001b[1;33m.\u001b[0m\u001b[0m__name__\u001b[0m\u001b[1;33m}\u001b[0m\u001b[1;33m)\u001b[0m\u001b[1;33m\u001b[0m\u001b[1;33m\u001b[0m\u001b[0m\n\u001b[0m\u001b[0;32m   1042\u001b[0m \u001b[1;33m\u001b[0m\u001b[0m\n\u001b[0;32m   1043\u001b[0m \u001b[1;33m\u001b[0m\u001b[0m\n",
      "\u001b[1;31mNotFittedError\u001b[0m: This LogisticRegression instance is not fitted yet. Call 'fit' with appropriate arguments before using this estimator."
     ]
    }
   ],
   "source": [
    "from sklearn.metrics import confusion_matrix , accuracy_score\n",
    "y_pred_train = clf.predict(x_train_flat)\n",
    "accuracy_score(y_train,y_pred_train)"
   ]
  },
  {
   "cell_type": "code",
   "execution_count": 12,
   "metadata": {},
   "outputs": [
    {
     "data": {
      "text/plain": [
       "0.8715"
      ]
     },
     "execution_count": 12,
     "metadata": {},
     "output_type": "execute_result"
    }
   ],
   "source": [
    "y_pred_test = clf.predict(x_test_flat)\n",
    "accuracy_score(y_test,y_pred_test)"
   ]
  },
  {
   "cell_type": "code",
   "execution_count": 13,
   "metadata": {},
   "outputs": [],
   "source": [
    "def pass_warnings(*args, **kwargs):\n",
    "    pass\n",
    "import warnings\n",
    "warnings.warn = pass_warnings"
   ]
  },
  {
   "cell_type": "code",
   "execution_count": 14,
   "metadata": {},
   "outputs": [
    {
     "data": {
      "text/plain": [
       "1    563\n",
       "7    550\n",
       "4    535\n",
       "6    501\n",
       "9    495\n",
       "3    493\n",
       "2    488\n",
       "0    479\n",
       "8    462\n",
       "5    434\n",
       "dtype: int64"
      ]
     },
     "execution_count": 14,
     "metadata": {},
     "output_type": "execute_result"
    }
   ],
   "source": [
    "pd.Series(y_train[:5000]).value_counts()"
   ]
  },
  {
   "cell_type": "code",
   "execution_count": 15,
   "metadata": {
    "collapsed": true,
    "jupyter": {
     "outputs_hidden": true
    }
   },
   "outputs": [
    {
     "name": "stdout",
     "output_type": "stream",
     "text": [
      "Fitting 3 folds for each of 108 candidates, totalling 324 fits\n",
      "[CV 1/3; 1/108] START C=1, class_weight=None, dual=False, penalty=l2, solver=lbfgs\n",
      "[CV 1/3; 1/108] END C=1, class_weight=None, dual=False, penalty=l2, solver=lbfgs; total time=   1.3s\n",
      "[CV 2/3; 1/108] START C=1, class_weight=None, dual=False, penalty=l2, solver=lbfgs\n",
      "[CV 2/3; 1/108] END C=1, class_weight=None, dual=False, penalty=l2, solver=lbfgs; total time=   1.3s\n",
      "[CV 3/3; 1/108] START C=1, class_weight=None, dual=False, penalty=l2, solver=lbfgs\n",
      "[CV 3/3; 1/108] END C=1, class_weight=None, dual=False, penalty=l2, solver=lbfgs; total time=   1.2s\n",
      "[CV 1/3; 2/108] START C=1, class_weight=None, dual=False, penalty=l2, solver=saga\n",
      "[CV 1/3; 2/108] END C=1, class_weight=None, dual=False, penalty=l2, solver=saga; total time=  28.6s\n",
      "[CV 2/3; 2/108] START C=1, class_weight=None, dual=False, penalty=l2, solver=saga\n",
      "[CV 2/3; 2/108] END C=1, class_weight=None, dual=False, penalty=l2, solver=saga; total time=  28.3s\n",
      "[CV 3/3; 2/108] START C=1, class_weight=None, dual=False, penalty=l2, solver=saga\n",
      "[CV 3/3; 2/108] END C=1, class_weight=None, dual=False, penalty=l2, solver=saga; total time=  28.3s\n",
      "[CV 1/3; 3/108] START C=1, class_weight=None, dual=False, penalty=l2, solver=liblinear\n",
      "[CV 1/3; 3/108] END C=1, class_weight=None, dual=False, penalty=l2, solver=liblinear; total time=   5.4s\n",
      "[CV 2/3; 3/108] START C=1, class_weight=None, dual=False, penalty=l2, solver=liblinear\n",
      "[CV 2/3; 3/108] END C=1, class_weight=None, dual=False, penalty=l2, solver=liblinear; total time=   5.8s\n",
      "[CV 3/3; 3/108] START C=1, class_weight=None, dual=False, penalty=l2, solver=liblinear\n",
      "[CV 3/3; 3/108] END C=1, class_weight=None, dual=False, penalty=l2, solver=liblinear; total time=   6.2s\n",
      "[CV 1/3; 4/108] START C=1, class_weight=None, dual=False, penalty=l1, solver=lbfgs\n",
      "[CV 1/3; 4/108] END C=1, class_weight=None, dual=False, penalty=l1, solver=lbfgs; total time=   0.0s\n",
      "[CV 2/3; 4/108] START C=1, class_weight=None, dual=False, penalty=l1, solver=lbfgs\n",
      "[CV 2/3; 4/108] END C=1, class_weight=None, dual=False, penalty=l1, solver=lbfgs; total time=   0.0s\n",
      "[CV 3/3; 4/108] START C=1, class_weight=None, dual=False, penalty=l1, solver=lbfgs\n",
      "[CV 3/3; 4/108] END C=1, class_weight=None, dual=False, penalty=l1, solver=lbfgs; total time=   0.0s\n",
      "[CV 1/3; 5/108] START C=1, class_weight=None, dual=False, penalty=l1, solver=saga\n",
      "[CV 1/3; 5/108] END C=1, class_weight=None, dual=False, penalty=l1, solver=saga; total time=  50.2s\n",
      "[CV 2/3; 5/108] START C=1, class_weight=None, dual=False, penalty=l1, solver=saga\n",
      "[CV 2/3; 5/108] END C=1, class_weight=None, dual=False, penalty=l1, solver=saga; total time=  50.6s\n",
      "[CV 3/3; 5/108] START C=1, class_weight=None, dual=False, penalty=l1, solver=saga\n",
      "[CV 3/3; 5/108] END C=1, class_weight=None, dual=False, penalty=l1, solver=saga; total time=  51.4s\n",
      "[CV 1/3; 6/108] START C=1, class_weight=None, dual=False, penalty=l1, solver=liblinear\n",
      "[CV 1/3; 6/108] END C=1, class_weight=None, dual=False, penalty=l1, solver=liblinear; total time=   9.0s\n",
      "[CV 2/3; 6/108] START C=1, class_weight=None, dual=False, penalty=l1, solver=liblinear\n",
      "[CV 2/3; 6/108] END C=1, class_weight=None, dual=False, penalty=l1, solver=liblinear; total time=   7.9s\n",
      "[CV 3/3; 6/108] START C=1, class_weight=None, dual=False, penalty=l1, solver=liblinear\n",
      "[CV 3/3; 6/108] END C=1, class_weight=None, dual=False, penalty=l1, solver=liblinear; total time=   7.6s\n",
      "[CV 1/3; 7/108] START C=1, class_weight=None, dual=False, penalty=elasticnet, solver=lbfgs\n",
      "[CV 1/3; 7/108] END C=1, class_weight=None, dual=False, penalty=elasticnet, solver=lbfgs; total time=   0.0s\n",
      "[CV 2/3; 7/108] START C=1, class_weight=None, dual=False, penalty=elasticnet, solver=lbfgs\n",
      "[CV 2/3; 7/108] END C=1, class_weight=None, dual=False, penalty=elasticnet, solver=lbfgs; total time=   0.0s\n",
      "[CV 3/3; 7/108] START C=1, class_weight=None, dual=False, penalty=elasticnet, solver=lbfgs\n",
      "[CV 3/3; 7/108] END C=1, class_weight=None, dual=False, penalty=elasticnet, solver=lbfgs; total time=   0.0s\n",
      "[CV 1/3; 8/108] START C=1, class_weight=None, dual=False, penalty=elasticnet, solver=saga\n",
      "[CV 1/3; 8/108] END C=1, class_weight=None, dual=False, penalty=elasticnet, solver=saga; total time=   0.0s\n",
      "[CV 2/3; 8/108] START C=1, class_weight=None, dual=False, penalty=elasticnet, solver=saga\n",
      "[CV 2/3; 8/108] END C=1, class_weight=None, dual=False, penalty=elasticnet, solver=saga; total time=   0.0s\n",
      "[CV 3/3; 8/108] START C=1, class_weight=None, dual=False, penalty=elasticnet, solver=saga\n",
      "[CV 3/3; 8/108] END C=1, class_weight=None, dual=False, penalty=elasticnet, solver=saga; total time=   0.0s\n",
      "[CV 1/3; 9/108] START C=1, class_weight=None, dual=False, penalty=elasticnet, solver=liblinear\n",
      "[CV 1/3; 9/108] END C=1, class_weight=None, dual=False, penalty=elasticnet, solver=liblinear; total time=   0.0s\n",
      "[CV 2/3; 9/108] START C=1, class_weight=None, dual=False, penalty=elasticnet, solver=liblinear\n",
      "[CV 2/3; 9/108] END C=1, class_weight=None, dual=False, penalty=elasticnet, solver=liblinear; total time=   0.0s\n",
      "[CV 3/3; 9/108] START C=1, class_weight=None, dual=False, penalty=elasticnet, solver=liblinear\n",
      "[CV 3/3; 9/108] END C=1, class_weight=None, dual=False, penalty=elasticnet, solver=liblinear; total time=   0.0s\n",
      "[CV 1/3; 10/108] START C=1, class_weight=None, dual=True, penalty=l2, solver=lbfgs\n",
      "[CV 1/3; 10/108] END C=1, class_weight=None, dual=True, penalty=l2, solver=lbfgs; total time=   0.0s\n",
      "[CV 2/3; 10/108] START C=1, class_weight=None, dual=True, penalty=l2, solver=lbfgs\n",
      "[CV 2/3; 10/108] END C=1, class_weight=None, dual=True, penalty=l2, solver=lbfgs; total time=   0.0s\n",
      "[CV 3/3; 10/108] START C=1, class_weight=None, dual=True, penalty=l2, solver=lbfgs\n",
      "[CV 3/3; 10/108] END C=1, class_weight=None, dual=True, penalty=l2, solver=lbfgs; total time=   0.0s\n",
      "[CV 1/3; 11/108] START C=1, class_weight=None, dual=True, penalty=l2, solver=saga\n",
      "[CV 1/3; 11/108] END C=1, class_weight=None, dual=True, penalty=l2, solver=saga; total time=   0.0s\n",
      "[CV 2/3; 11/108] START C=1, class_weight=None, dual=True, penalty=l2, solver=saga\n",
      "[CV 2/3; 11/108] END C=1, class_weight=None, dual=True, penalty=l2, solver=saga; total time=   0.0s\n",
      "[CV 3/3; 11/108] START C=1, class_weight=None, dual=True, penalty=l2, solver=saga\n",
      "[CV 3/3; 11/108] END C=1, class_weight=None, dual=True, penalty=l2, solver=saga; total time=   0.0s\n",
      "[CV 1/3; 12/108] START C=1, class_weight=None, dual=True, penalty=l2, solver=liblinear\n",
      "[CV 1/3; 12/108] END C=1, class_weight=None, dual=True, penalty=l2, solver=liblinear; total time=   2.4s\n",
      "[CV 2/3; 12/108] START C=1, class_weight=None, dual=True, penalty=l2, solver=liblinear\n",
      "[CV 2/3; 12/108] END C=1, class_weight=None, dual=True, penalty=l2, solver=liblinear; total time=   2.4s\n",
      "[CV 3/3; 12/108] START C=1, class_weight=None, dual=True, penalty=l2, solver=liblinear\n",
      "[CV 3/3; 12/108] END C=1, class_weight=None, dual=True, penalty=l2, solver=liblinear; total time=   2.5s\n",
      "[CV 1/3; 13/108] START C=1, class_weight=None, dual=True, penalty=l1, solver=lbfgs\n",
      "[CV 1/3; 13/108] END C=1, class_weight=None, dual=True, penalty=l1, solver=lbfgs; total time=   0.0s\n",
      "[CV 2/3; 13/108] START C=1, class_weight=None, dual=True, penalty=l1, solver=lbfgs\n",
      "[CV 2/3; 13/108] END C=1, class_weight=None, dual=True, penalty=l1, solver=lbfgs; total time=   0.0s\n",
      "[CV 3/3; 13/108] START C=1, class_weight=None, dual=True, penalty=l1, solver=lbfgs\n",
      "[CV 3/3; 13/108] END C=1, class_weight=None, dual=True, penalty=l1, solver=lbfgs; total time=   0.0s\n",
      "[CV 1/3; 14/108] START C=1, class_weight=None, dual=True, penalty=l1, solver=saga\n",
      "[CV 1/3; 14/108] END C=1, class_weight=None, dual=True, penalty=l1, solver=saga; total time=   0.0s\n",
      "[CV 2/3; 14/108] START C=1, class_weight=None, dual=True, penalty=l1, solver=saga\n",
      "[CV 2/3; 14/108] END C=1, class_weight=None, dual=True, penalty=l1, solver=saga; total time=   0.0s\n",
      "[CV 3/3; 14/108] START C=1, class_weight=None, dual=True, penalty=l1, solver=saga\n",
      "[CV 3/3; 14/108] END C=1, class_weight=None, dual=True, penalty=l1, solver=saga; total time=   0.0s\n",
      "[CV 1/3; 15/108] START C=1, class_weight=None, dual=True, penalty=l1, solver=liblinear\n",
      "[CV 1/3; 15/108] END C=1, class_weight=None, dual=True, penalty=l1, solver=liblinear; total time=   0.0s\n",
      "[CV 2/3; 15/108] START C=1, class_weight=None, dual=True, penalty=l1, solver=liblinear\n",
      "[CV 2/3; 15/108] END C=1, class_weight=None, dual=True, penalty=l1, solver=liblinear; total time=   0.0s\n",
      "[CV 3/3; 15/108] START C=1, class_weight=None, dual=True, penalty=l1, solver=liblinear\n",
      "[CV 3/3; 15/108] END C=1, class_weight=None, dual=True, penalty=l1, solver=liblinear; total time=   0.0s\n",
      "[CV 1/3; 16/108] START C=1, class_weight=None, dual=True, penalty=elasticnet, solver=lbfgs\n",
      "[CV 1/3; 16/108] END C=1, class_weight=None, dual=True, penalty=elasticnet, solver=lbfgs; total time=   0.0s\n",
      "[CV 2/3; 16/108] START C=1, class_weight=None, dual=True, penalty=elasticnet, solver=lbfgs\n",
      "[CV 2/3; 16/108] END C=1, class_weight=None, dual=True, penalty=elasticnet, solver=lbfgs; total time=   0.0s\n",
      "[CV 3/3; 16/108] START C=1, class_weight=None, dual=True, penalty=elasticnet, solver=lbfgs\n",
      "[CV 3/3; 16/108] END C=1, class_weight=None, dual=True, penalty=elasticnet, solver=lbfgs; total time=   0.0s\n",
      "[CV 1/3; 17/108] START C=1, class_weight=None, dual=True, penalty=elasticnet, solver=saga\n",
      "[CV 1/3; 17/108] END C=1, class_weight=None, dual=True, penalty=elasticnet, solver=saga; total time=   0.0s\n",
      "[CV 2/3; 17/108] START C=1, class_weight=None, dual=True, penalty=elasticnet, solver=saga\n",
      "[CV 2/3; 17/108] END C=1, class_weight=None, dual=True, penalty=elasticnet, solver=saga; total time=   0.0s\n",
      "[CV 3/3; 17/108] START C=1, class_weight=None, dual=True, penalty=elasticnet, solver=saga\n",
      "[CV 3/3; 17/108] END C=1, class_weight=None, dual=True, penalty=elasticnet, solver=saga; total time=   0.0s\n",
      "[CV 1/3; 18/108] START C=1, class_weight=None, dual=True, penalty=elasticnet, solver=liblinear\n",
      "[CV 1/3; 18/108] END C=1, class_weight=None, dual=True, penalty=elasticnet, solver=liblinear; total time=   0.0s\n",
      "[CV 2/3; 18/108] START C=1, class_weight=None, dual=True, penalty=elasticnet, solver=liblinear\n",
      "[CV 2/3; 18/108] END C=1, class_weight=None, dual=True, penalty=elasticnet, solver=liblinear; total time=   0.0s\n",
      "[CV 3/3; 18/108] START C=1, class_weight=None, dual=True, penalty=elasticnet, solver=liblinear\n",
      "[CV 3/3; 18/108] END C=1, class_weight=None, dual=True, penalty=elasticnet, solver=liblinear; total time=   0.0s\n",
      "[CV 1/3; 19/108] START C=1, class_weight=balanced, dual=False, penalty=l2, solver=lbfgs\n",
      "[CV 1/3; 19/108] END C=1, class_weight=balanced, dual=False, penalty=l2, solver=lbfgs; total time=   1.8s\n",
      "[CV 2/3; 19/108] START C=1, class_weight=balanced, dual=False, penalty=l2, solver=lbfgs\n",
      "[CV 2/3; 19/108] END C=1, class_weight=balanced, dual=False, penalty=l2, solver=lbfgs; total time=   1.8s\n",
      "[CV 3/3; 19/108] START C=1, class_weight=balanced, dual=False, penalty=l2, solver=lbfgs\n",
      "[CV 3/3; 19/108] END C=1, class_weight=balanced, dual=False, penalty=l2, solver=lbfgs; total time=   1.4s\n",
      "[CV 1/3; 20/108] START C=1, class_weight=balanced, dual=False, penalty=l2, solver=saga\n",
      "[CV 1/3; 20/108] END C=1, class_weight=balanced, dual=False, penalty=l2, solver=saga; total time=  28.2s\n",
      "[CV 2/3; 20/108] START C=1, class_weight=balanced, dual=False, penalty=l2, solver=saga\n",
      "[CV 2/3; 20/108] END C=1, class_weight=balanced, dual=False, penalty=l2, solver=saga; total time=  28.3s\n",
      "[CV 3/3; 20/108] START C=1, class_weight=balanced, dual=False, penalty=l2, solver=saga\n",
      "[CV 3/3; 20/108] END C=1, class_weight=balanced, dual=False, penalty=l2, solver=saga; total time=  28.3s\n",
      "[CV 1/3; 21/108] START C=1, class_weight=balanced, dual=False, penalty=l2, solver=liblinear\n",
      "[CV 1/3; 21/108] END C=1, class_weight=balanced, dual=False, penalty=l2, solver=liblinear; total time=   6.1s\n",
      "[CV 2/3; 21/108] START C=1, class_weight=balanced, dual=False, penalty=l2, solver=liblinear\n",
      "[CV 2/3; 21/108] END C=1, class_weight=balanced, dual=False, penalty=l2, solver=liblinear; total time=   6.4s\n",
      "[CV 3/3; 21/108] START C=1, class_weight=balanced, dual=False, penalty=l2, solver=liblinear\n",
      "[CV 3/3; 21/108] END C=1, class_weight=balanced, dual=False, penalty=l2, solver=liblinear; total time=   6.6s\n",
      "[CV 1/3; 22/108] START C=1, class_weight=balanced, dual=False, penalty=l1, solver=lbfgs\n",
      "[CV 1/3; 22/108] END C=1, class_weight=balanced, dual=False, penalty=l1, solver=lbfgs; total time=   0.0s\n",
      "[CV 2/3; 22/108] START C=1, class_weight=balanced, dual=False, penalty=l1, solver=lbfgs\n",
      "[CV 2/3; 22/108] END C=1, class_weight=balanced, dual=False, penalty=l1, solver=lbfgs; total time=   0.0s\n",
      "[CV 3/3; 22/108] START C=1, class_weight=balanced, dual=False, penalty=l1, solver=lbfgs\n",
      "[CV 3/3; 22/108] END C=1, class_weight=balanced, dual=False, penalty=l1, solver=lbfgs; total time=   0.0s\n",
      "[CV 1/3; 23/108] START C=1, class_weight=balanced, dual=False, penalty=l1, solver=saga\n",
      "[CV 1/3; 23/108] END C=1, class_weight=balanced, dual=False, penalty=l1, solver=saga; total time=  50.1s\n",
      "[CV 2/3; 23/108] START C=1, class_weight=balanced, dual=False, penalty=l1, solver=saga\n",
      "[CV 2/3; 23/108] END C=1, class_weight=balanced, dual=False, penalty=l1, solver=saga; total time=  50.7s\n",
      "[CV 3/3; 23/108] START C=1, class_weight=balanced, dual=False, penalty=l1, solver=saga\n",
      "[CV 3/3; 23/108] END C=1, class_weight=balanced, dual=False, penalty=l1, solver=saga; total time=  50.6s\n",
      "[CV 1/3; 24/108] START C=1, class_weight=balanced, dual=False, penalty=l1, solver=liblinear\n",
      "[CV 1/3; 24/108] END C=1, class_weight=balanced, dual=False, penalty=l1, solver=liblinear; total time=  10.4s\n",
      "[CV 2/3; 24/108] START C=1, class_weight=balanced, dual=False, penalty=l1, solver=liblinear\n",
      "[CV 2/3; 24/108] END C=1, class_weight=balanced, dual=False, penalty=l1, solver=liblinear; total time=   8.3s\n",
      "[CV 3/3; 24/108] START C=1, class_weight=balanced, dual=False, penalty=l1, solver=liblinear\n",
      "[CV 3/3; 24/108] END C=1, class_weight=balanced, dual=False, penalty=l1, solver=liblinear; total time=   8.8s\n",
      "[CV 1/3; 25/108] START C=1, class_weight=balanced, dual=False, penalty=elasticnet, solver=lbfgs\n",
      "[CV 1/3; 25/108] END C=1, class_weight=balanced, dual=False, penalty=elasticnet, solver=lbfgs; total time=   0.0s\n",
      "[CV 2/3; 25/108] START C=1, class_weight=balanced, dual=False, penalty=elasticnet, solver=lbfgs\n",
      "[CV 2/3; 25/108] END C=1, class_weight=balanced, dual=False, penalty=elasticnet, solver=lbfgs; total time=   0.0s\n",
      "[CV 3/3; 25/108] START C=1, class_weight=balanced, dual=False, penalty=elasticnet, solver=lbfgs\n",
      "[CV 3/3; 25/108] END C=1, class_weight=balanced, dual=False, penalty=elasticnet, solver=lbfgs; total time=   0.0s\n",
      "[CV 1/3; 26/108] START C=1, class_weight=balanced, dual=False, penalty=elasticnet, solver=saga\n",
      "[CV 1/3; 26/108] END C=1, class_weight=balanced, dual=False, penalty=elasticnet, solver=saga; total time=   0.0s\n",
      "[CV 2/3; 26/108] START C=1, class_weight=balanced, dual=False, penalty=elasticnet, solver=saga\n",
      "[CV 2/3; 26/108] END C=1, class_weight=balanced, dual=False, penalty=elasticnet, solver=saga; total time=   0.0s\n",
      "[CV 3/3; 26/108] START C=1, class_weight=balanced, dual=False, penalty=elasticnet, solver=saga\n",
      "[CV 3/3; 26/108] END C=1, class_weight=balanced, dual=False, penalty=elasticnet, solver=saga; total time=   0.0s\n",
      "[CV 1/3; 27/108] START C=1, class_weight=balanced, dual=False, penalty=elasticnet, solver=liblinear\n",
      "[CV 1/3; 27/108] END C=1, class_weight=balanced, dual=False, penalty=elasticnet, solver=liblinear; total time=   0.0s\n",
      "[CV 2/3; 27/108] START C=1, class_weight=balanced, dual=False, penalty=elasticnet, solver=liblinear\n",
      "[CV 2/3; 27/108] END C=1, class_weight=balanced, dual=False, penalty=elasticnet, solver=liblinear; total time=   0.0s\n",
      "[CV 3/3; 27/108] START C=1, class_weight=balanced, dual=False, penalty=elasticnet, solver=liblinear\n",
      "[CV 3/3; 27/108] END C=1, class_weight=balanced, dual=False, penalty=elasticnet, solver=liblinear; total time=   0.0s\n",
      "[CV 1/3; 28/108] START C=1, class_weight=balanced, dual=True, penalty=l2, solver=lbfgs\n",
      "[CV 1/3; 28/108] END C=1, class_weight=balanced, dual=True, penalty=l2, solver=lbfgs; total time=   0.0s\n",
      "[CV 2/3; 28/108] START C=1, class_weight=balanced, dual=True, penalty=l2, solver=lbfgs\n",
      "[CV 2/3; 28/108] END C=1, class_weight=balanced, dual=True, penalty=l2, solver=lbfgs; total time=   0.0s\n",
      "[CV 3/3; 28/108] START C=1, class_weight=balanced, dual=True, penalty=l2, solver=lbfgs\n",
      "[CV 3/3; 28/108] END C=1, class_weight=balanced, dual=True, penalty=l2, solver=lbfgs; total time=   0.0s\n",
      "[CV 1/3; 29/108] START C=1, class_weight=balanced, dual=True, penalty=l2, solver=saga\n",
      "[CV 1/3; 29/108] END C=1, class_weight=balanced, dual=True, penalty=l2, solver=saga; total time=   0.0s\n",
      "[CV 2/3; 29/108] START C=1, class_weight=balanced, dual=True, penalty=l2, solver=saga\n",
      "[CV 2/3; 29/108] END C=1, class_weight=balanced, dual=True, penalty=l2, solver=saga; total time=   0.0s\n",
      "[CV 3/3; 29/108] START C=1, class_weight=balanced, dual=True, penalty=l2, solver=saga\n",
      "[CV 3/3; 29/108] END C=1, class_weight=balanced, dual=True, penalty=l2, solver=saga; total time=   0.0s\n",
      "[CV 1/3; 30/108] START C=1, class_weight=balanced, dual=True, penalty=l2, solver=liblinear\n",
      "[CV 1/3; 30/108] END C=1, class_weight=balanced, dual=True, penalty=l2, solver=liblinear; total time=   2.7s\n",
      "[CV 2/3; 30/108] START C=1, class_weight=balanced, dual=True, penalty=l2, solver=liblinear\n",
      "[CV 2/3; 30/108] END C=1, class_weight=balanced, dual=True, penalty=l2, solver=liblinear; total time=   2.4s\n",
      "[CV 3/3; 30/108] START C=1, class_weight=balanced, dual=True, penalty=l2, solver=liblinear\n",
      "[CV 3/3; 30/108] END C=1, class_weight=balanced, dual=True, penalty=l2, solver=liblinear; total time=   2.6s\n",
      "[CV 1/3; 31/108] START C=1, class_weight=balanced, dual=True, penalty=l1, solver=lbfgs\n",
      "[CV 1/3; 31/108] END C=1, class_weight=balanced, dual=True, penalty=l1, solver=lbfgs; total time=   0.0s\n",
      "[CV 2/3; 31/108] START C=1, class_weight=balanced, dual=True, penalty=l1, solver=lbfgs\n",
      "[CV 2/3; 31/108] END C=1, class_weight=balanced, dual=True, penalty=l1, solver=lbfgs; total time=   0.0s\n",
      "[CV 3/3; 31/108] START C=1, class_weight=balanced, dual=True, penalty=l1, solver=lbfgs\n",
      "[CV 3/3; 31/108] END C=1, class_weight=balanced, dual=True, penalty=l1, solver=lbfgs; total time=   0.0s\n",
      "[CV 1/3; 32/108] START C=1, class_weight=balanced, dual=True, penalty=l1, solver=saga\n",
      "[CV 1/3; 32/108] END C=1, class_weight=balanced, dual=True, penalty=l1, solver=saga; total time=   0.0s\n",
      "[CV 2/3; 32/108] START C=1, class_weight=balanced, dual=True, penalty=l1, solver=saga\n",
      "[CV 2/3; 32/108] END C=1, class_weight=balanced, dual=True, penalty=l1, solver=saga; total time=   0.0s\n",
      "[CV 3/3; 32/108] START C=1, class_weight=balanced, dual=True, penalty=l1, solver=saga\n",
      "[CV 3/3; 32/108] END C=1, class_weight=balanced, dual=True, penalty=l1, solver=saga; total time=   0.0s\n",
      "[CV 1/3; 33/108] START C=1, class_weight=balanced, dual=True, penalty=l1, solver=liblinear\n",
      "[CV 1/3; 33/108] END C=1, class_weight=balanced, dual=True, penalty=l1, solver=liblinear; total time=   0.0s\n",
      "[CV 2/3; 33/108] START C=1, class_weight=balanced, dual=True, penalty=l1, solver=liblinear\n",
      "[CV 2/3; 33/108] END C=1, class_weight=balanced, dual=True, penalty=l1, solver=liblinear; total time=   0.0s\n",
      "[CV 3/3; 33/108] START C=1, class_weight=balanced, dual=True, penalty=l1, solver=liblinear\n",
      "[CV 3/3; 33/108] END C=1, class_weight=balanced, dual=True, penalty=l1, solver=liblinear; total time=   0.0s\n",
      "[CV 1/3; 34/108] START C=1, class_weight=balanced, dual=True, penalty=elasticnet, solver=lbfgs\n",
      "[CV 1/3; 34/108] END C=1, class_weight=balanced, dual=True, penalty=elasticnet, solver=lbfgs; total time=   0.0s\n",
      "[CV 2/3; 34/108] START C=1, class_weight=balanced, dual=True, penalty=elasticnet, solver=lbfgs\n",
      "[CV 2/3; 34/108] END C=1, class_weight=balanced, dual=True, penalty=elasticnet, solver=lbfgs; total time=   0.0s\n",
      "[CV 3/3; 34/108] START C=1, class_weight=balanced, dual=True, penalty=elasticnet, solver=lbfgs\n",
      "[CV 3/3; 34/108] END C=1, class_weight=balanced, dual=True, penalty=elasticnet, solver=lbfgs; total time=   0.0s\n",
      "[CV 1/3; 35/108] START C=1, class_weight=balanced, dual=True, penalty=elasticnet, solver=saga\n",
      "[CV 1/3; 35/108] END C=1, class_weight=balanced, dual=True, penalty=elasticnet, solver=saga; total time=   0.0s\n",
      "[CV 2/3; 35/108] START C=1, class_weight=balanced, dual=True, penalty=elasticnet, solver=saga\n",
      "[CV 2/3; 35/108] END C=1, class_weight=balanced, dual=True, penalty=elasticnet, solver=saga; total time=   0.0s\n",
      "[CV 3/3; 35/108] START C=1, class_weight=balanced, dual=True, penalty=elasticnet, solver=saga\n",
      "[CV 3/3; 35/108] END C=1, class_weight=balanced, dual=True, penalty=elasticnet, solver=saga; total time=   0.0s\n",
      "[CV 1/3; 36/108] START C=1, class_weight=balanced, dual=True, penalty=elasticnet, solver=liblinear\n",
      "[CV 1/3; 36/108] END C=1, class_weight=balanced, dual=True, penalty=elasticnet, solver=liblinear; total time=   0.0s\n",
      "[CV 2/3; 36/108] START C=1, class_weight=balanced, dual=True, penalty=elasticnet, solver=liblinear\n",
      "[CV 2/3; 36/108] END C=1, class_weight=balanced, dual=True, penalty=elasticnet, solver=liblinear; total time=   0.0s\n",
      "[CV 3/3; 36/108] START C=1, class_weight=balanced, dual=True, penalty=elasticnet, solver=liblinear\n",
      "[CV 3/3; 36/108] END C=1, class_weight=balanced, dual=True, penalty=elasticnet, solver=liblinear; total time=   0.0s\n",
      "[CV 1/3; 37/108] START C=10, class_weight=None, dual=False, penalty=l2, solver=lbfgs\n",
      "[CV 1/3; 37/108] END C=10, class_weight=None, dual=False, penalty=l2, solver=lbfgs; total time=   1.3s\n",
      "[CV 2/3; 37/108] START C=10, class_weight=None, dual=False, penalty=l2, solver=lbfgs\n",
      "[CV 2/3; 37/108] END C=10, class_weight=None, dual=False, penalty=l2, solver=lbfgs; total time=   1.2s\n",
      "[CV 3/3; 37/108] START C=10, class_weight=None, dual=False, penalty=l2, solver=lbfgs\n",
      "[CV 3/3; 37/108] END C=10, class_weight=None, dual=False, penalty=l2, solver=lbfgs; total time=   1.2s\n",
      "[CV 1/3; 38/108] START C=10, class_weight=None, dual=False, penalty=l2, solver=saga\n",
      "[CV 1/3; 38/108] END C=10, class_weight=None, dual=False, penalty=l2, solver=saga; total time=  28.5s\n",
      "[CV 2/3; 38/108] START C=10, class_weight=None, dual=False, penalty=l2, solver=saga\n",
      "[CV 2/3; 38/108] END C=10, class_weight=None, dual=False, penalty=l2, solver=saga; total time=  28.3s\n",
      "[CV 3/3; 38/108] START C=10, class_weight=None, dual=False, penalty=l2, solver=saga\n",
      "[CV 3/3; 38/108] END C=10, class_weight=None, dual=False, penalty=l2, solver=saga; total time=  28.4s\n",
      "[CV 1/3; 39/108] START C=10, class_weight=None, dual=False, penalty=l2, solver=liblinear\n",
      "[CV 1/3; 39/108] END C=10, class_weight=None, dual=False, penalty=l2, solver=liblinear; total time=   5.6s\n",
      "[CV 2/3; 39/108] START C=10, class_weight=None, dual=False, penalty=l2, solver=liblinear\n",
      "[CV 2/3; 39/108] END C=10, class_weight=None, dual=False, penalty=l2, solver=liblinear; total time=   5.8s\n",
      "[CV 3/3; 39/108] START C=10, class_weight=None, dual=False, penalty=l2, solver=liblinear\n",
      "[CV 3/3; 39/108] END C=10, class_weight=None, dual=False, penalty=l2, solver=liblinear; total time=   6.4s\n",
      "[CV 1/3; 40/108] START C=10, class_weight=None, dual=False, penalty=l1, solver=lbfgs\n",
      "[CV 1/3; 40/108] END C=10, class_weight=None, dual=False, penalty=l1, solver=lbfgs; total time=   0.0s\n",
      "[CV 2/3; 40/108] START C=10, class_weight=None, dual=False, penalty=l1, solver=lbfgs\n",
      "[CV 2/3; 40/108] END C=10, class_weight=None, dual=False, penalty=l1, solver=lbfgs; total time=   0.0s\n",
      "[CV 3/3; 40/108] START C=10, class_weight=None, dual=False, penalty=l1, solver=lbfgs\n",
      "[CV 3/3; 40/108] END C=10, class_weight=None, dual=False, penalty=l1, solver=lbfgs; total time=   0.0s\n",
      "[CV 1/3; 41/108] START C=10, class_weight=None, dual=False, penalty=l1, solver=saga\n",
      "[CV 1/3; 41/108] END C=10, class_weight=None, dual=False, penalty=l1, solver=saga; total time=  50.6s\n",
      "[CV 2/3; 41/108] START C=10, class_weight=None, dual=False, penalty=l1, solver=saga\n",
      "[CV 2/3; 41/108] END C=10, class_weight=None, dual=False, penalty=l1, solver=saga; total time=  51.1s\n",
      "[CV 3/3; 41/108] START C=10, class_weight=None, dual=False, penalty=l1, solver=saga\n",
      "[CV 3/3; 41/108] END C=10, class_weight=None, dual=False, penalty=l1, solver=saga; total time=  50.9s\n",
      "[CV 1/3; 42/108] START C=10, class_weight=None, dual=False, penalty=l1, solver=liblinear\n",
      "[CV 1/3; 42/108] END C=10, class_weight=None, dual=False, penalty=l1, solver=liblinear; total time=   3.5s\n",
      "[CV 2/3; 42/108] START C=10, class_weight=None, dual=False, penalty=l1, solver=liblinear\n",
      "[CV 2/3; 42/108] END C=10, class_weight=None, dual=False, penalty=l1, solver=liblinear; total time=   3.9s\n",
      "[CV 3/3; 42/108] START C=10, class_weight=None, dual=False, penalty=l1, solver=liblinear\n",
      "[CV 3/3; 42/108] END C=10, class_weight=None, dual=False, penalty=l1, solver=liblinear; total time=   3.4s\n",
      "[CV 1/3; 43/108] START C=10, class_weight=None, dual=False, penalty=elasticnet, solver=lbfgs\n",
      "[CV 1/3; 43/108] END C=10, class_weight=None, dual=False, penalty=elasticnet, solver=lbfgs; total time=   0.0s\n",
      "[CV 2/3; 43/108] START C=10, class_weight=None, dual=False, penalty=elasticnet, solver=lbfgs\n",
      "[CV 2/3; 43/108] END C=10, class_weight=None, dual=False, penalty=elasticnet, solver=lbfgs; total time=   0.0s\n",
      "[CV 3/3; 43/108] START C=10, class_weight=None, dual=False, penalty=elasticnet, solver=lbfgs\n",
      "[CV 3/3; 43/108] END C=10, class_weight=None, dual=False, penalty=elasticnet, solver=lbfgs; total time=   0.0s\n",
      "[CV 1/3; 44/108] START C=10, class_weight=None, dual=False, penalty=elasticnet, solver=saga\n",
      "[CV 1/3; 44/108] END C=10, class_weight=None, dual=False, penalty=elasticnet, solver=saga; total time=   0.0s\n",
      "[CV 2/3; 44/108] START C=10, class_weight=None, dual=False, penalty=elasticnet, solver=saga\n",
      "[CV 2/3; 44/108] END C=10, class_weight=None, dual=False, penalty=elasticnet, solver=saga; total time=   0.0s\n",
      "[CV 3/3; 44/108] START C=10, class_weight=None, dual=False, penalty=elasticnet, solver=saga\n",
      "[CV 3/3; 44/108] END C=10, class_weight=None, dual=False, penalty=elasticnet, solver=saga; total time=   0.0s\n",
      "[CV 1/3; 45/108] START C=10, class_weight=None, dual=False, penalty=elasticnet, solver=liblinear\n",
      "[CV 1/3; 45/108] END C=10, class_weight=None, dual=False, penalty=elasticnet, solver=liblinear; total time=   0.0s\n",
      "[CV 2/3; 45/108] START C=10, class_weight=None, dual=False, penalty=elasticnet, solver=liblinear\n",
      "[CV 2/3; 45/108] END C=10, class_weight=None, dual=False, penalty=elasticnet, solver=liblinear; total time=   0.0s\n",
      "[CV 3/3; 45/108] START C=10, class_weight=None, dual=False, penalty=elasticnet, solver=liblinear\n",
      "[CV 3/3; 45/108] END C=10, class_weight=None, dual=False, penalty=elasticnet, solver=liblinear; total time=   0.0s\n",
      "[CV 1/3; 46/108] START C=10, class_weight=None, dual=True, penalty=l2, solver=lbfgs\n",
      "[CV 1/3; 46/108] END C=10, class_weight=None, dual=True, penalty=l2, solver=lbfgs; total time=   0.0s\n",
      "[CV 2/3; 46/108] START C=10, class_weight=None, dual=True, penalty=l2, solver=lbfgs\n",
      "[CV 2/3; 46/108] END C=10, class_weight=None, dual=True, penalty=l2, solver=lbfgs; total time=   0.0s\n",
      "[CV 3/3; 46/108] START C=10, class_weight=None, dual=True, penalty=l2, solver=lbfgs\n",
      "[CV 3/3; 46/108] END C=10, class_weight=None, dual=True, penalty=l2, solver=lbfgs; total time=   0.0s\n",
      "[CV 1/3; 47/108] START C=10, class_weight=None, dual=True, penalty=l2, solver=saga\n",
      "[CV 1/3; 47/108] END C=10, class_weight=None, dual=True, penalty=l2, solver=saga; total time=   0.0s\n",
      "[CV 2/3; 47/108] START C=10, class_weight=None, dual=True, penalty=l2, solver=saga\n",
      "[CV 2/3; 47/108] END C=10, class_weight=None, dual=True, penalty=l2, solver=saga; total time=   0.0s\n",
      "[CV 3/3; 47/108] START C=10, class_weight=None, dual=True, penalty=l2, solver=saga\n",
      "[CV 3/3; 47/108] END C=10, class_weight=None, dual=True, penalty=l2, solver=saga; total time=   0.0s\n",
      "[CV 1/3; 48/108] START C=10, class_weight=None, dual=True, penalty=l2, solver=liblinear\n",
      "[CV 1/3; 48/108] END C=10, class_weight=None, dual=True, penalty=l2, solver=liblinear; total time=   2.4s\n",
      "[CV 2/3; 48/108] START C=10, class_weight=None, dual=True, penalty=l2, solver=liblinear\n",
      "[CV 2/3; 48/108] END C=10, class_weight=None, dual=True, penalty=l2, solver=liblinear; total time=   2.5s\n",
      "[CV 3/3; 48/108] START C=10, class_weight=None, dual=True, penalty=l2, solver=liblinear\n",
      "[CV 3/3; 48/108] END C=10, class_weight=None, dual=True, penalty=l2, solver=liblinear; total time=   2.5s\n",
      "[CV 1/3; 49/108] START C=10, class_weight=None, dual=True, penalty=l1, solver=lbfgs\n",
      "[CV 1/3; 49/108] END C=10, class_weight=None, dual=True, penalty=l1, solver=lbfgs; total time=   0.0s\n",
      "[CV 2/3; 49/108] START C=10, class_weight=None, dual=True, penalty=l1, solver=lbfgs\n",
      "[CV 2/3; 49/108] END C=10, class_weight=None, dual=True, penalty=l1, solver=lbfgs; total time=   0.0s\n",
      "[CV 3/3; 49/108] START C=10, class_weight=None, dual=True, penalty=l1, solver=lbfgs\n",
      "[CV 3/3; 49/108] END C=10, class_weight=None, dual=True, penalty=l1, solver=lbfgs; total time=   0.0s\n",
      "[CV 1/3; 50/108] START C=10, class_weight=None, dual=True, penalty=l1, solver=saga\n",
      "[CV 1/3; 50/108] END C=10, class_weight=None, dual=True, penalty=l1, solver=saga; total time=   0.0s\n",
      "[CV 2/3; 50/108] START C=10, class_weight=None, dual=True, penalty=l1, solver=saga\n",
      "[CV 2/3; 50/108] END C=10, class_weight=None, dual=True, penalty=l1, solver=saga; total time=   0.0s\n",
      "[CV 3/3; 50/108] START C=10, class_weight=None, dual=True, penalty=l1, solver=saga\n",
      "[CV 3/3; 50/108] END C=10, class_weight=None, dual=True, penalty=l1, solver=saga; total time=   0.0s\n",
      "[CV 1/3; 51/108] START C=10, class_weight=None, dual=True, penalty=l1, solver=liblinear\n",
      "[CV 1/3; 51/108] END C=10, class_weight=None, dual=True, penalty=l1, solver=liblinear; total time=   0.0s\n",
      "[CV 2/3; 51/108] START C=10, class_weight=None, dual=True, penalty=l1, solver=liblinear\n",
      "[CV 2/3; 51/108] END C=10, class_weight=None, dual=True, penalty=l1, solver=liblinear; total time=   0.0s\n",
      "[CV 3/3; 51/108] START C=10, class_weight=None, dual=True, penalty=l1, solver=liblinear\n",
      "[CV 3/3; 51/108] END C=10, class_weight=None, dual=True, penalty=l1, solver=liblinear; total time=   0.0s\n",
      "[CV 1/3; 52/108] START C=10, class_weight=None, dual=True, penalty=elasticnet, solver=lbfgs\n",
      "[CV 1/3; 52/108] END C=10, class_weight=None, dual=True, penalty=elasticnet, solver=lbfgs; total time=   0.0s\n",
      "[CV 2/3; 52/108] START C=10, class_weight=None, dual=True, penalty=elasticnet, solver=lbfgs\n",
      "[CV 2/3; 52/108] END C=10, class_weight=None, dual=True, penalty=elasticnet, solver=lbfgs; total time=   0.0s\n",
      "[CV 3/3; 52/108] START C=10, class_weight=None, dual=True, penalty=elasticnet, solver=lbfgs\n",
      "[CV 3/3; 52/108] END C=10, class_weight=None, dual=True, penalty=elasticnet, solver=lbfgs; total time=   0.0s\n",
      "[CV 1/3; 53/108] START C=10, class_weight=None, dual=True, penalty=elasticnet, solver=saga\n",
      "[CV 1/3; 53/108] END C=10, class_weight=None, dual=True, penalty=elasticnet, solver=saga; total time=   0.0s\n",
      "[CV 2/3; 53/108] START C=10, class_weight=None, dual=True, penalty=elasticnet, solver=saga\n",
      "[CV 2/3; 53/108] END C=10, class_weight=None, dual=True, penalty=elasticnet, solver=saga; total time=   0.0s\n",
      "[CV 3/3; 53/108] START C=10, class_weight=None, dual=True, penalty=elasticnet, solver=saga\n",
      "[CV 3/3; 53/108] END C=10, class_weight=None, dual=True, penalty=elasticnet, solver=saga; total time=   0.0s\n",
      "[CV 1/3; 54/108] START C=10, class_weight=None, dual=True, penalty=elasticnet, solver=liblinear\n",
      "[CV 1/3; 54/108] END C=10, class_weight=None, dual=True, penalty=elasticnet, solver=liblinear; total time=   0.0s\n",
      "[CV 2/3; 54/108] START C=10, class_weight=None, dual=True, penalty=elasticnet, solver=liblinear\n",
      "[CV 2/3; 54/108] END C=10, class_weight=None, dual=True, penalty=elasticnet, solver=liblinear; total time=   0.0s\n",
      "[CV 3/3; 54/108] START C=10, class_weight=None, dual=True, penalty=elasticnet, solver=liblinear\n",
      "[CV 3/3; 54/108] END C=10, class_weight=None, dual=True, penalty=elasticnet, solver=liblinear; total time=   0.0s\n",
      "[CV 1/3; 55/108] START C=10, class_weight=balanced, dual=False, penalty=l2, solver=lbfgs\n",
      "[CV 1/3; 55/108] END C=10, class_weight=balanced, dual=False, penalty=l2, solver=lbfgs; total time=   1.2s\n",
      "[CV 2/3; 55/108] START C=10, class_weight=balanced, dual=False, penalty=l2, solver=lbfgs\n",
      "[CV 2/3; 55/108] END C=10, class_weight=balanced, dual=False, penalty=l2, solver=lbfgs; total time=   1.4s\n",
      "[CV 3/3; 55/108] START C=10, class_weight=balanced, dual=False, penalty=l2, solver=lbfgs\n",
      "[CV 3/3; 55/108] END C=10, class_weight=balanced, dual=False, penalty=l2, solver=lbfgs; total time=   1.4s\n",
      "[CV 1/3; 56/108] START C=10, class_weight=balanced, dual=False, penalty=l2, solver=saga\n",
      "[CV 1/3; 56/108] END C=10, class_weight=balanced, dual=False, penalty=l2, solver=saga; total time=  28.1s\n",
      "[CV 2/3; 56/108] START C=10, class_weight=balanced, dual=False, penalty=l2, solver=saga\n",
      "[CV 2/3; 56/108] END C=10, class_weight=balanced, dual=False, penalty=l2, solver=saga; total time=  30.2s\n",
      "[CV 3/3; 56/108] START C=10, class_weight=balanced, dual=False, penalty=l2, solver=saga\n",
      "[CV 3/3; 56/108] END C=10, class_weight=balanced, dual=False, penalty=l2, solver=saga; total time=  31.9s\n",
      "[CV 1/3; 57/108] START C=10, class_weight=balanced, dual=False, penalty=l2, solver=liblinear\n",
      "[CV 1/3; 57/108] END C=10, class_weight=balanced, dual=False, penalty=l2, solver=liblinear; total time=   9.1s\n",
      "[CV 2/3; 57/108] START C=10, class_weight=balanced, dual=False, penalty=l2, solver=liblinear\n",
      "[CV 2/3; 57/108] END C=10, class_weight=balanced, dual=False, penalty=l2, solver=liblinear; total time=   7.4s\n",
      "[CV 3/3; 57/108] START C=10, class_weight=balanced, dual=False, penalty=l2, solver=liblinear\n",
      "[CV 3/3; 57/108] END C=10, class_weight=balanced, dual=False, penalty=l2, solver=liblinear; total time=   7.8s\n",
      "[CV 1/3; 58/108] START C=10, class_weight=balanced, dual=False, penalty=l1, solver=lbfgs\n",
      "[CV 1/3; 58/108] END C=10, class_weight=balanced, dual=False, penalty=l1, solver=lbfgs; total time=   0.0s\n",
      "[CV 2/3; 58/108] START C=10, class_weight=balanced, dual=False, penalty=l1, solver=lbfgs\n",
      "[CV 2/3; 58/108] END C=10, class_weight=balanced, dual=False, penalty=l1, solver=lbfgs; total time=   0.0s\n",
      "[CV 3/3; 58/108] START C=10, class_weight=balanced, dual=False, penalty=l1, solver=lbfgs\n",
      "[CV 3/3; 58/108] END C=10, class_weight=balanced, dual=False, penalty=l1, solver=lbfgs; total time=   0.0s\n",
      "[CV 1/3; 59/108] START C=10, class_weight=balanced, dual=False, penalty=l1, solver=saga\n",
      "[CV 1/3; 59/108] END C=10, class_weight=balanced, dual=False, penalty=l1, solver=saga; total time=  54.0s\n",
      "[CV 2/3; 59/108] START C=10, class_weight=balanced, dual=False, penalty=l1, solver=saga\n",
      "[CV 2/3; 59/108] END C=10, class_weight=balanced, dual=False, penalty=l1, solver=saga; total time= 1.0min\n",
      "[CV 3/3; 59/108] START C=10, class_weight=balanced, dual=False, penalty=l1, solver=saga\n",
      "[CV 3/3; 59/108] END C=10, class_weight=balanced, dual=False, penalty=l1, solver=saga; total time=  54.6s\n",
      "[CV 1/3; 60/108] START C=10, class_weight=balanced, dual=False, penalty=l1, solver=liblinear\n",
      "[CV 1/3; 60/108] END C=10, class_weight=balanced, dual=False, penalty=l1, solver=liblinear; total time=   2.8s\n",
      "[CV 2/3; 60/108] START C=10, class_weight=balanced, dual=False, penalty=l1, solver=liblinear\n",
      "[CV 2/3; 60/108] END C=10, class_weight=balanced, dual=False, penalty=l1, solver=liblinear; total time=   3.9s\n",
      "[CV 3/3; 60/108] START C=10, class_weight=balanced, dual=False, penalty=l1, solver=liblinear\n",
      "[CV 3/3; 60/108] END C=10, class_weight=balanced, dual=False, penalty=l1, solver=liblinear; total time=   3.7s\n",
      "[CV 1/3; 61/108] START C=10, class_weight=balanced, dual=False, penalty=elasticnet, solver=lbfgs\n",
      "[CV 1/3; 61/108] END C=10, class_weight=balanced, dual=False, penalty=elasticnet, solver=lbfgs; total time=   0.0s\n",
      "[CV 2/3; 61/108] START C=10, class_weight=balanced, dual=False, penalty=elasticnet, solver=lbfgs\n",
      "[CV 2/3; 61/108] END C=10, class_weight=balanced, dual=False, penalty=elasticnet, solver=lbfgs; total time=   0.0s\n",
      "[CV 3/3; 61/108] START C=10, class_weight=balanced, dual=False, penalty=elasticnet, solver=lbfgs\n",
      "[CV 3/3; 61/108] END C=10, class_weight=balanced, dual=False, penalty=elasticnet, solver=lbfgs; total time=   0.0s\n",
      "[CV 1/3; 62/108] START C=10, class_weight=balanced, dual=False, penalty=elasticnet, solver=saga\n",
      "[CV 1/3; 62/108] END C=10, class_weight=balanced, dual=False, penalty=elasticnet, solver=saga; total time=   0.0s\n",
      "[CV 2/3; 62/108] START C=10, class_weight=balanced, dual=False, penalty=elasticnet, solver=saga\n",
      "[CV 2/3; 62/108] END C=10, class_weight=balanced, dual=False, penalty=elasticnet, solver=saga; total time=   0.0s\n",
      "[CV 3/3; 62/108] START C=10, class_weight=balanced, dual=False, penalty=elasticnet, solver=saga\n",
      "[CV 3/3; 62/108] END C=10, class_weight=balanced, dual=False, penalty=elasticnet, solver=saga; total time=   0.0s\n",
      "[CV 1/3; 63/108] START C=10, class_weight=balanced, dual=False, penalty=elasticnet, solver=liblinear\n",
      "[CV 1/3; 63/108] END C=10, class_weight=balanced, dual=False, penalty=elasticnet, solver=liblinear; total time=   0.0s\n",
      "[CV 2/3; 63/108] START C=10, class_weight=balanced, dual=False, penalty=elasticnet, solver=liblinear\n",
      "[CV 2/3; 63/108] END C=10, class_weight=balanced, dual=False, penalty=elasticnet, solver=liblinear; total time=   0.0s\n",
      "[CV 3/3; 63/108] START C=10, class_weight=balanced, dual=False, penalty=elasticnet, solver=liblinear\n",
      "[CV 3/3; 63/108] END C=10, class_weight=balanced, dual=False, penalty=elasticnet, solver=liblinear; total time=   0.0s\n",
      "[CV 1/3; 64/108] START C=10, class_weight=balanced, dual=True, penalty=l2, solver=lbfgs\n",
      "[CV 1/3; 64/108] END C=10, class_weight=balanced, dual=True, penalty=l2, solver=lbfgs; total time=   0.0s\n",
      "[CV 2/3; 64/108] START C=10, class_weight=balanced, dual=True, penalty=l2, solver=lbfgs\n",
      "[CV 2/3; 64/108] END C=10, class_weight=balanced, dual=True, penalty=l2, solver=lbfgs; total time=   0.0s\n",
      "[CV 3/3; 64/108] START C=10, class_weight=balanced, dual=True, penalty=l2, solver=lbfgs\n",
      "[CV 3/3; 64/108] END C=10, class_weight=balanced, dual=True, penalty=l2, solver=lbfgs; total time=   0.0s\n",
      "[CV 1/3; 65/108] START C=10, class_weight=balanced, dual=True, penalty=l2, solver=saga\n",
      "[CV 1/3; 65/108] END C=10, class_weight=balanced, dual=True, penalty=l2, solver=saga; total time=   0.0s\n",
      "[CV 2/3; 65/108] START C=10, class_weight=balanced, dual=True, penalty=l2, solver=saga\n",
      "[CV 2/3; 65/108] END C=10, class_weight=balanced, dual=True, penalty=l2, solver=saga; total time=   0.0s\n",
      "[CV 3/3; 65/108] START C=10, class_weight=balanced, dual=True, penalty=l2, solver=saga\n",
      "[CV 3/3; 65/108] END C=10, class_weight=balanced, dual=True, penalty=l2, solver=saga; total time=   0.0s\n",
      "[CV 1/3; 66/108] START C=10, class_weight=balanced, dual=True, penalty=l2, solver=liblinear\n",
      "[CV 1/3; 66/108] END C=10, class_weight=balanced, dual=True, penalty=l2, solver=liblinear; total time=   2.8s\n",
      "[CV 2/3; 66/108] START C=10, class_weight=balanced, dual=True, penalty=l2, solver=liblinear\n",
      "[CV 2/3; 66/108] END C=10, class_weight=balanced, dual=True, penalty=l2, solver=liblinear; total time=   2.9s\n",
      "[CV 3/3; 66/108] START C=10, class_weight=balanced, dual=True, penalty=l2, solver=liblinear\n",
      "[CV 3/3; 66/108] END C=10, class_weight=balanced, dual=True, penalty=l2, solver=liblinear; total time=   2.9s\n",
      "[CV 1/3; 67/108] START C=10, class_weight=balanced, dual=True, penalty=l1, solver=lbfgs\n",
      "[CV 1/3; 67/108] END C=10, class_weight=balanced, dual=True, penalty=l1, solver=lbfgs; total time=   0.0s\n",
      "[CV 2/3; 67/108] START C=10, class_weight=balanced, dual=True, penalty=l1, solver=lbfgs\n",
      "[CV 2/3; 67/108] END C=10, class_weight=balanced, dual=True, penalty=l1, solver=lbfgs; total time=   0.0s\n",
      "[CV 3/3; 67/108] START C=10, class_weight=balanced, dual=True, penalty=l1, solver=lbfgs\n",
      "[CV 3/3; 67/108] END C=10, class_weight=balanced, dual=True, penalty=l1, solver=lbfgs; total time=   0.0s\n",
      "[CV 1/3; 68/108] START C=10, class_weight=balanced, dual=True, penalty=l1, solver=saga\n",
      "[CV 1/3; 68/108] END C=10, class_weight=balanced, dual=True, penalty=l1, solver=saga; total time=   0.0s\n",
      "[CV 2/3; 68/108] START C=10, class_weight=balanced, dual=True, penalty=l1, solver=saga\n",
      "[CV 2/3; 68/108] END C=10, class_weight=balanced, dual=True, penalty=l1, solver=saga; total time=   0.0s\n",
      "[CV 3/3; 68/108] START C=10, class_weight=balanced, dual=True, penalty=l1, solver=saga\n",
      "[CV 3/3; 68/108] END C=10, class_weight=balanced, dual=True, penalty=l1, solver=saga; total time=   0.0s\n",
      "[CV 1/3; 69/108] START C=10, class_weight=balanced, dual=True, penalty=l1, solver=liblinear\n",
      "[CV 1/3; 69/108] END C=10, class_weight=balanced, dual=True, penalty=l1, solver=liblinear; total time=   0.0s\n",
      "[CV 2/3; 69/108] START C=10, class_weight=balanced, dual=True, penalty=l1, solver=liblinear\n",
      "[CV 2/3; 69/108] END C=10, class_weight=balanced, dual=True, penalty=l1, solver=liblinear; total time=   0.0s\n",
      "[CV 3/3; 69/108] START C=10, class_weight=balanced, dual=True, penalty=l1, solver=liblinear\n",
      "[CV 3/3; 69/108] END C=10, class_weight=balanced, dual=True, penalty=l1, solver=liblinear; total time=   0.0s\n",
      "[CV 1/3; 70/108] START C=10, class_weight=balanced, dual=True, penalty=elasticnet, solver=lbfgs\n",
      "[CV 1/3; 70/108] END C=10, class_weight=balanced, dual=True, penalty=elasticnet, solver=lbfgs; total time=   0.0s\n",
      "[CV 2/3; 70/108] START C=10, class_weight=balanced, dual=True, penalty=elasticnet, solver=lbfgs\n",
      "[CV 2/3; 70/108] END C=10, class_weight=balanced, dual=True, penalty=elasticnet, solver=lbfgs; total time=   0.0s\n",
      "[CV 3/3; 70/108] START C=10, class_weight=balanced, dual=True, penalty=elasticnet, solver=lbfgs\n",
      "[CV 3/3; 70/108] END C=10, class_weight=balanced, dual=True, penalty=elasticnet, solver=lbfgs; total time=   0.0s\n",
      "[CV 1/3; 71/108] START C=10, class_weight=balanced, dual=True, penalty=elasticnet, solver=saga\n",
      "[CV 1/3; 71/108] END C=10, class_weight=balanced, dual=True, penalty=elasticnet, solver=saga; total time=   0.0s\n",
      "[CV 2/3; 71/108] START C=10, class_weight=balanced, dual=True, penalty=elasticnet, solver=saga\n",
      "[CV 2/3; 71/108] END C=10, class_weight=balanced, dual=True, penalty=elasticnet, solver=saga; total time=   0.0s\n",
      "[CV 3/3; 71/108] START C=10, class_weight=balanced, dual=True, penalty=elasticnet, solver=saga\n",
      "[CV 3/3; 71/108] END C=10, class_weight=balanced, dual=True, penalty=elasticnet, solver=saga; total time=   0.0s\n",
      "[CV 1/3; 72/108] START C=10, class_weight=balanced, dual=True, penalty=elasticnet, solver=liblinear\n",
      "[CV 1/3; 72/108] END C=10, class_weight=balanced, dual=True, penalty=elasticnet, solver=liblinear; total time=   0.0s\n",
      "[CV 2/3; 72/108] START C=10, class_weight=balanced, dual=True, penalty=elasticnet, solver=liblinear\n",
      "[CV 2/3; 72/108] END C=10, class_weight=balanced, dual=True, penalty=elasticnet, solver=liblinear; total time=   0.0s\n",
      "[CV 3/3; 72/108] START C=10, class_weight=balanced, dual=True, penalty=elasticnet, solver=liblinear\n",
      "[CV 3/3; 72/108] END C=10, class_weight=balanced, dual=True, penalty=elasticnet, solver=liblinear; total time=   0.0s\n",
      "[CV 1/3; 73/108] START C=100, class_weight=None, dual=False, penalty=l2, solver=lbfgs\n",
      "[CV 1/3; 73/108] END C=100, class_weight=None, dual=False, penalty=l2, solver=lbfgs; total time=   1.3s\n",
      "[CV 2/3; 73/108] START C=100, class_weight=None, dual=False, penalty=l2, solver=lbfgs\n",
      "[CV 2/3; 73/108] END C=100, class_weight=None, dual=False, penalty=l2, solver=lbfgs; total time=   1.3s\n",
      "[CV 3/3; 73/108] START C=100, class_weight=None, dual=False, penalty=l2, solver=lbfgs\n",
      "[CV 3/3; 73/108] END C=100, class_weight=None, dual=False, penalty=l2, solver=lbfgs; total time=   1.3s\n",
      "[CV 1/3; 74/108] START C=100, class_weight=None, dual=False, penalty=l2, solver=saga\n",
      "[CV 1/3; 74/108] END C=100, class_weight=None, dual=False, penalty=l2, solver=saga; total time=  28.5s\n",
      "[CV 2/3; 74/108] START C=100, class_weight=None, dual=False, penalty=l2, solver=saga\n",
      "[CV 2/3; 74/108] END C=100, class_weight=None, dual=False, penalty=l2, solver=saga; total time=  29.3s\n",
      "[CV 3/3; 74/108] START C=100, class_weight=None, dual=False, penalty=l2, solver=saga\n",
      "[CV 3/3; 74/108] END C=100, class_weight=None, dual=False, penalty=l2, solver=saga; total time=  29.3s\n",
      "[CV 1/3; 75/108] START C=100, class_weight=None, dual=False, penalty=l2, solver=liblinear\n",
      "[CV 1/3; 75/108] END C=100, class_weight=None, dual=False, penalty=l2, solver=liblinear; total time=   5.8s\n",
      "[CV 2/3; 75/108] START C=100, class_weight=None, dual=False, penalty=l2, solver=liblinear\n",
      "[CV 2/3; 75/108] END C=100, class_weight=None, dual=False, penalty=l2, solver=liblinear; total time=   6.6s\n",
      "[CV 3/3; 75/108] START C=100, class_weight=None, dual=False, penalty=l2, solver=liblinear\n",
      "[CV 3/3; 75/108] END C=100, class_weight=None, dual=False, penalty=l2, solver=liblinear; total time=   6.7s\n",
      "[CV 1/3; 76/108] START C=100, class_weight=None, dual=False, penalty=l1, solver=lbfgs\n",
      "[CV 1/3; 76/108] END C=100, class_weight=None, dual=False, penalty=l1, solver=lbfgs; total time=   0.0s\n",
      "[CV 2/3; 76/108] START C=100, class_weight=None, dual=False, penalty=l1, solver=lbfgs\n",
      "[CV 2/3; 76/108] END C=100, class_weight=None, dual=False, penalty=l1, solver=lbfgs; total time=   0.0s\n",
      "[CV 3/3; 76/108] START C=100, class_weight=None, dual=False, penalty=l1, solver=lbfgs\n",
      "[CV 3/3; 76/108] END C=100, class_weight=None, dual=False, penalty=l1, solver=lbfgs; total time=   0.0s\n",
      "[CV 1/3; 77/108] START C=100, class_weight=None, dual=False, penalty=l1, solver=saga\n",
      "[CV 1/3; 77/108] END C=100, class_weight=None, dual=False, penalty=l1, solver=saga; total time=  54.5s\n",
      "[CV 2/3; 77/108] START C=100, class_weight=None, dual=False, penalty=l1, solver=saga\n",
      "[CV 2/3; 77/108] END C=100, class_weight=None, dual=False, penalty=l1, solver=saga; total time=  53.1s\n",
      "[CV 3/3; 77/108] START C=100, class_weight=None, dual=False, penalty=l1, solver=saga\n",
      "[CV 3/3; 77/108] END C=100, class_weight=None, dual=False, penalty=l1, solver=saga; total time=  51.9s\n",
      "[CV 1/3; 78/108] START C=100, class_weight=None, dual=False, penalty=l1, solver=liblinear\n",
      "[CV 1/3; 78/108] END C=100, class_weight=None, dual=False, penalty=l1, solver=liblinear; total time=   2.4s\n",
      "[CV 2/3; 78/108] START C=100, class_weight=None, dual=False, penalty=l1, solver=liblinear\n",
      "[CV 2/3; 78/108] END C=100, class_weight=None, dual=False, penalty=l1, solver=liblinear; total time=   2.9s\n",
      "[CV 3/3; 78/108] START C=100, class_weight=None, dual=False, penalty=l1, solver=liblinear\n",
      "[CV 3/3; 78/108] END C=100, class_weight=None, dual=False, penalty=l1, solver=liblinear; total time=   3.3s\n",
      "[CV 1/3; 79/108] START C=100, class_weight=None, dual=False, penalty=elasticnet, solver=lbfgs\n",
      "[CV 1/3; 79/108] END C=100, class_weight=None, dual=False, penalty=elasticnet, solver=lbfgs; total time=   0.0s\n",
      "[CV 2/3; 79/108] START C=100, class_weight=None, dual=False, penalty=elasticnet, solver=lbfgs\n",
      "[CV 2/3; 79/108] END C=100, class_weight=None, dual=False, penalty=elasticnet, solver=lbfgs; total time=   0.0s\n",
      "[CV 3/3; 79/108] START C=100, class_weight=None, dual=False, penalty=elasticnet, solver=lbfgs\n",
      "[CV 3/3; 79/108] END C=100, class_weight=None, dual=False, penalty=elasticnet, solver=lbfgs; total time=   0.0s\n",
      "[CV 1/3; 80/108] START C=100, class_weight=None, dual=False, penalty=elasticnet, solver=saga\n",
      "[CV 1/3; 80/108] END C=100, class_weight=None, dual=False, penalty=elasticnet, solver=saga; total time=   0.0s\n",
      "[CV 2/3; 80/108] START C=100, class_weight=None, dual=False, penalty=elasticnet, solver=saga\n",
      "[CV 2/3; 80/108] END C=100, class_weight=None, dual=False, penalty=elasticnet, solver=saga; total time=   0.0s\n",
      "[CV 3/3; 80/108] START C=100, class_weight=None, dual=False, penalty=elasticnet, solver=saga\n",
      "[CV 3/3; 80/108] END C=100, class_weight=None, dual=False, penalty=elasticnet, solver=saga; total time=   0.0s\n",
      "[CV 1/3; 81/108] START C=100, class_weight=None, dual=False, penalty=elasticnet, solver=liblinear\n",
      "[CV 1/3; 81/108] END C=100, class_weight=None, dual=False, penalty=elasticnet, solver=liblinear; total time=   0.0s\n",
      "[CV 2/3; 81/108] START C=100, class_weight=None, dual=False, penalty=elasticnet, solver=liblinear\n",
      "[CV 2/3; 81/108] END C=100, class_weight=None, dual=False, penalty=elasticnet, solver=liblinear; total time=   0.0s\n",
      "[CV 3/3; 81/108] START C=100, class_weight=None, dual=False, penalty=elasticnet, solver=liblinear\n",
      "[CV 3/3; 81/108] END C=100, class_weight=None, dual=False, penalty=elasticnet, solver=liblinear; total time=   0.0s\n",
      "[CV 1/3; 82/108] START C=100, class_weight=None, dual=True, penalty=l2, solver=lbfgs\n",
      "[CV 1/3; 82/108] END C=100, class_weight=None, dual=True, penalty=l2, solver=lbfgs; total time=   0.0s\n",
      "[CV 2/3; 82/108] START C=100, class_weight=None, dual=True, penalty=l2, solver=lbfgs\n",
      "[CV 2/3; 82/108] END C=100, class_weight=None, dual=True, penalty=l2, solver=lbfgs; total time=   0.0s\n",
      "[CV 3/3; 82/108] START C=100, class_weight=None, dual=True, penalty=l2, solver=lbfgs\n",
      "[CV 3/3; 82/108] END C=100, class_weight=None, dual=True, penalty=l2, solver=lbfgs; total time=   0.0s\n",
      "[CV 1/3; 83/108] START C=100, class_weight=None, dual=True, penalty=l2, solver=saga\n",
      "[CV 1/3; 83/108] END C=100, class_weight=None, dual=True, penalty=l2, solver=saga; total time=   0.0s\n",
      "[CV 2/3; 83/108] START C=100, class_weight=None, dual=True, penalty=l2, solver=saga\n",
      "[CV 2/3; 83/108] END C=100, class_weight=None, dual=True, penalty=l2, solver=saga; total time=   0.0s\n",
      "[CV 3/3; 83/108] START C=100, class_weight=None, dual=True, penalty=l2, solver=saga\n",
      "[CV 3/3; 83/108] END C=100, class_weight=None, dual=True, penalty=l2, solver=saga; total time=   0.0s\n",
      "[CV 1/3; 84/108] START C=100, class_weight=None, dual=True, penalty=l2, solver=liblinear\n",
      "[CV 1/3; 84/108] END C=100, class_weight=None, dual=True, penalty=l2, solver=liblinear; total time=   2.7s\n",
      "[CV 2/3; 84/108] START C=100, class_weight=None, dual=True, penalty=l2, solver=liblinear\n",
      "[CV 2/3; 84/108] END C=100, class_weight=None, dual=True, penalty=l2, solver=liblinear; total time=   2.8s\n",
      "[CV 3/3; 84/108] START C=100, class_weight=None, dual=True, penalty=l2, solver=liblinear\n",
      "[CV 3/3; 84/108] END C=100, class_weight=None, dual=True, penalty=l2, solver=liblinear; total time=   2.8s\n",
      "[CV 1/3; 85/108] START C=100, class_weight=None, dual=True, penalty=l1, solver=lbfgs\n",
      "[CV 1/3; 85/108] END C=100, class_weight=None, dual=True, penalty=l1, solver=lbfgs; total time=   0.0s\n",
      "[CV 2/3; 85/108] START C=100, class_weight=None, dual=True, penalty=l1, solver=lbfgs\n",
      "[CV 2/3; 85/108] END C=100, class_weight=None, dual=True, penalty=l1, solver=lbfgs; total time=   0.0s\n",
      "[CV 3/3; 85/108] START C=100, class_weight=None, dual=True, penalty=l1, solver=lbfgs\n",
      "[CV 3/3; 85/108] END C=100, class_weight=None, dual=True, penalty=l1, solver=lbfgs; total time=   0.0s\n",
      "[CV 1/3; 86/108] START C=100, class_weight=None, dual=True, penalty=l1, solver=saga\n",
      "[CV 1/3; 86/108] END C=100, class_weight=None, dual=True, penalty=l1, solver=saga; total time=   0.0s\n",
      "[CV 2/3; 86/108] START C=100, class_weight=None, dual=True, penalty=l1, solver=saga\n",
      "[CV 2/3; 86/108] END C=100, class_weight=None, dual=True, penalty=l1, solver=saga; total time=   0.0s\n",
      "[CV 3/3; 86/108] START C=100, class_weight=None, dual=True, penalty=l1, solver=saga\n",
      "[CV 3/3; 86/108] END C=100, class_weight=None, dual=True, penalty=l1, solver=saga; total time=   0.0s\n",
      "[CV 1/3; 87/108] START C=100, class_weight=None, dual=True, penalty=l1, solver=liblinear\n",
      "[CV 1/3; 87/108] END C=100, class_weight=None, dual=True, penalty=l1, solver=liblinear; total time=   0.0s\n",
      "[CV 2/3; 87/108] START C=100, class_weight=None, dual=True, penalty=l1, solver=liblinear\n",
      "[CV 2/3; 87/108] END C=100, class_weight=None, dual=True, penalty=l1, solver=liblinear; total time=   0.0s\n",
      "[CV 3/3; 87/108] START C=100, class_weight=None, dual=True, penalty=l1, solver=liblinear\n",
      "[CV 3/3; 87/108] END C=100, class_weight=None, dual=True, penalty=l1, solver=liblinear; total time=   0.0s\n",
      "[CV 1/3; 88/108] START C=100, class_weight=None, dual=True, penalty=elasticnet, solver=lbfgs\n",
      "[CV 1/3; 88/108] END C=100, class_weight=None, dual=True, penalty=elasticnet, solver=lbfgs; total time=   0.0s\n",
      "[CV 2/3; 88/108] START C=100, class_weight=None, dual=True, penalty=elasticnet, solver=lbfgs\n",
      "[CV 2/3; 88/108] END C=100, class_weight=None, dual=True, penalty=elasticnet, solver=lbfgs; total time=   0.0s\n",
      "[CV 3/3; 88/108] START C=100, class_weight=None, dual=True, penalty=elasticnet, solver=lbfgs\n",
      "[CV 3/3; 88/108] END C=100, class_weight=None, dual=True, penalty=elasticnet, solver=lbfgs; total time=   0.0s\n",
      "[CV 1/3; 89/108] START C=100, class_weight=None, dual=True, penalty=elasticnet, solver=saga\n",
      "[CV 1/3; 89/108] END C=100, class_weight=None, dual=True, penalty=elasticnet, solver=saga; total time=   0.0s\n",
      "[CV 2/3; 89/108] START C=100, class_weight=None, dual=True, penalty=elasticnet, solver=saga\n",
      "[CV 2/3; 89/108] END C=100, class_weight=None, dual=True, penalty=elasticnet, solver=saga; total time=   0.0s\n",
      "[CV 3/3; 89/108] START C=100, class_weight=None, dual=True, penalty=elasticnet, solver=saga\n",
      "[CV 3/3; 89/108] END C=100, class_weight=None, dual=True, penalty=elasticnet, solver=saga; total time=   0.0s\n",
      "[CV 1/3; 90/108] START C=100, class_weight=None, dual=True, penalty=elasticnet, solver=liblinear\n",
      "[CV 1/3; 90/108] END C=100, class_weight=None, dual=True, penalty=elasticnet, solver=liblinear; total time=   0.0s\n",
      "[CV 2/3; 90/108] START C=100, class_weight=None, dual=True, penalty=elasticnet, solver=liblinear\n",
      "[CV 2/3; 90/108] END C=100, class_weight=None, dual=True, penalty=elasticnet, solver=liblinear; total time=   0.0s\n",
      "[CV 3/3; 90/108] START C=100, class_weight=None, dual=True, penalty=elasticnet, solver=liblinear\n",
      "[CV 3/3; 90/108] END C=100, class_weight=None, dual=True, penalty=elasticnet, solver=liblinear; total time=   0.0s\n",
      "[CV 1/3; 91/108] START C=100, class_weight=balanced, dual=False, penalty=l2, solver=lbfgs\n",
      "[CV 1/3; 91/108] END C=100, class_weight=balanced, dual=False, penalty=l2, solver=lbfgs; total time=   1.2s\n",
      "[CV 2/3; 91/108] START C=100, class_weight=balanced, dual=False, penalty=l2, solver=lbfgs\n",
      "[CV 2/3; 91/108] END C=100, class_weight=balanced, dual=False, penalty=l2, solver=lbfgs; total time=   1.2s\n",
      "[CV 3/3; 91/108] START C=100, class_weight=balanced, dual=False, penalty=l2, solver=lbfgs\n",
      "[CV 3/3; 91/108] END C=100, class_weight=balanced, dual=False, penalty=l2, solver=lbfgs; total time=   1.3s\n",
      "[CV 1/3; 92/108] START C=100, class_weight=balanced, dual=False, penalty=l2, solver=saga\n",
      "[CV 1/3; 92/108] END C=100, class_weight=balanced, dual=False, penalty=l2, solver=saga; total time=  28.4s\n",
      "[CV 2/3; 92/108] START C=100, class_weight=balanced, dual=False, penalty=l2, solver=saga\n",
      "[CV 2/3; 92/108] END C=100, class_weight=balanced, dual=False, penalty=l2, solver=saga; total time=  28.2s\n",
      "[CV 3/3; 92/108] START C=100, class_weight=balanced, dual=False, penalty=l2, solver=saga\n",
      "[CV 3/3; 92/108] END C=100, class_weight=balanced, dual=False, penalty=l2, solver=saga; total time=  28.3s\n",
      "[CV 1/3; 93/108] START C=100, class_weight=balanced, dual=False, penalty=l2, solver=liblinear\n",
      "[CV 1/3; 93/108] END C=100, class_weight=balanced, dual=False, penalty=l2, solver=liblinear; total time=   6.0s\n",
      "[CV 2/3; 93/108] START C=100, class_weight=balanced, dual=False, penalty=l2, solver=liblinear\n",
      "[CV 2/3; 93/108] END C=100, class_weight=balanced, dual=False, penalty=l2, solver=liblinear; total time=   6.2s\n",
      "[CV 3/3; 93/108] START C=100, class_weight=balanced, dual=False, penalty=l2, solver=liblinear\n",
      "[CV 3/3; 93/108] END C=100, class_weight=balanced, dual=False, penalty=l2, solver=liblinear; total time=   6.7s\n",
      "[CV 1/3; 94/108] START C=100, class_weight=balanced, dual=False, penalty=l1, solver=lbfgs\n",
      "[CV 1/3; 94/108] END C=100, class_weight=balanced, dual=False, penalty=l1, solver=lbfgs; total time=   0.0s\n",
      "[CV 2/3; 94/108] START C=100, class_weight=balanced, dual=False, penalty=l1, solver=lbfgs\n",
      "[CV 2/3; 94/108] END C=100, class_weight=balanced, dual=False, penalty=l1, solver=lbfgs; total time=   0.0s\n",
      "[CV 3/3; 94/108] START C=100, class_weight=balanced, dual=False, penalty=l1, solver=lbfgs\n",
      "[CV 3/3; 94/108] END C=100, class_weight=balanced, dual=False, penalty=l1, solver=lbfgs; total time=   0.0s\n",
      "[CV 1/3; 95/108] START C=100, class_weight=balanced, dual=False, penalty=l1, solver=saga\n",
      "[CV 1/3; 95/108] END C=100, class_weight=balanced, dual=False, penalty=l1, solver=saga; total time=  50.7s\n",
      "[CV 2/3; 95/108] START C=100, class_weight=balanced, dual=False, penalty=l1, solver=saga\n",
      "[CV 2/3; 95/108] END C=100, class_weight=balanced, dual=False, penalty=l1, solver=saga; total time=  52.8s\n",
      "[CV 3/3; 95/108] START C=100, class_weight=balanced, dual=False, penalty=l1, solver=saga\n",
      "[CV 3/3; 95/108] END C=100, class_weight=balanced, dual=False, penalty=l1, solver=saga; total time=  54.4s\n",
      "[CV 1/3; 96/108] START C=100, class_weight=balanced, dual=False, penalty=l1, solver=liblinear\n",
      "[CV 1/3; 96/108] END C=100, class_weight=balanced, dual=False, penalty=l1, solver=liblinear; total time=   6.3s\n",
      "[CV 2/3; 96/108] START C=100, class_weight=balanced, dual=False, penalty=l1, solver=liblinear\n",
      "[CV 2/3; 96/108] END C=100, class_weight=balanced, dual=False, penalty=l1, solver=liblinear; total time=   2.8s\n",
      "[CV 3/3; 96/108] START C=100, class_weight=balanced, dual=False, penalty=l1, solver=liblinear\n",
      "[CV 3/3; 96/108] END C=100, class_weight=balanced, dual=False, penalty=l1, solver=liblinear; total time=   4.1s\n",
      "[CV 1/3; 97/108] START C=100, class_weight=balanced, dual=False, penalty=elasticnet, solver=lbfgs\n",
      "[CV 1/3; 97/108] END C=100, class_weight=balanced, dual=False, penalty=elasticnet, solver=lbfgs; total time=   0.0s\n",
      "[CV 2/3; 97/108] START C=100, class_weight=balanced, dual=False, penalty=elasticnet, solver=lbfgs\n",
      "[CV 2/3; 97/108] END C=100, class_weight=balanced, dual=False, penalty=elasticnet, solver=lbfgs; total time=   0.0s\n",
      "[CV 3/3; 97/108] START C=100, class_weight=balanced, dual=False, penalty=elasticnet, solver=lbfgs\n",
      "[CV 3/3; 97/108] END C=100, class_weight=balanced, dual=False, penalty=elasticnet, solver=lbfgs; total time=   0.0s\n",
      "[CV 1/3; 98/108] START C=100, class_weight=balanced, dual=False, penalty=elasticnet, solver=saga\n",
      "[CV 1/3; 98/108] END C=100, class_weight=balanced, dual=False, penalty=elasticnet, solver=saga; total time=   0.0s\n",
      "[CV 2/3; 98/108] START C=100, class_weight=balanced, dual=False, penalty=elasticnet, solver=saga\n",
      "[CV 2/3; 98/108] END C=100, class_weight=balanced, dual=False, penalty=elasticnet, solver=saga; total time=   0.0s\n",
      "[CV 3/3; 98/108] START C=100, class_weight=balanced, dual=False, penalty=elasticnet, solver=saga\n",
      "[CV 3/3; 98/108] END C=100, class_weight=balanced, dual=False, penalty=elasticnet, solver=saga; total time=   0.0s\n",
      "[CV 1/3; 99/108] START C=100, class_weight=balanced, dual=False, penalty=elasticnet, solver=liblinear\n",
      "[CV 1/3; 99/108] END C=100, class_weight=balanced, dual=False, penalty=elasticnet, solver=liblinear; total time=   0.0s\n",
      "[CV 2/3; 99/108] START C=100, class_weight=balanced, dual=False, penalty=elasticnet, solver=liblinear\n",
      "[CV 2/3; 99/108] END C=100, class_weight=balanced, dual=False, penalty=elasticnet, solver=liblinear; total time=   0.0s\n",
      "[CV 3/3; 99/108] START C=100, class_weight=balanced, dual=False, penalty=elasticnet, solver=liblinear\n",
      "[CV 3/3; 99/108] END C=100, class_weight=balanced, dual=False, penalty=elasticnet, solver=liblinear; total time=   0.0s\n",
      "[CV 1/3; 100/108] START C=100, class_weight=balanced, dual=True, penalty=l2, solver=lbfgs\n",
      "[CV 1/3; 100/108] END C=100, class_weight=balanced, dual=True, penalty=l2, solver=lbfgs; total time=   0.0s\n",
      "[CV 2/3; 100/108] START C=100, class_weight=balanced, dual=True, penalty=l2, solver=lbfgs\n",
      "[CV 2/3; 100/108] END C=100, class_weight=balanced, dual=True, penalty=l2, solver=lbfgs; total time=   0.0s\n",
      "[CV 3/3; 100/108] START C=100, class_weight=balanced, dual=True, penalty=l2, solver=lbfgs\n",
      "[CV 3/3; 100/108] END C=100, class_weight=balanced, dual=True, penalty=l2, solver=lbfgs; total time=   0.0s\n",
      "[CV 1/3; 101/108] START C=100, class_weight=balanced, dual=True, penalty=l2, solver=saga\n",
      "[CV 1/3; 101/108] END C=100, class_weight=balanced, dual=True, penalty=l2, solver=saga; total time=   0.0s\n",
      "[CV 2/3; 101/108] START C=100, class_weight=balanced, dual=True, penalty=l2, solver=saga\n",
      "[CV 2/3; 101/108] END C=100, class_weight=balanced, dual=True, penalty=l2, solver=saga; total time=   0.0s\n",
      "[CV 3/3; 101/108] START C=100, class_weight=balanced, dual=True, penalty=l2, solver=saga\n",
      "[CV 3/3; 101/108] END C=100, class_weight=balanced, dual=True, penalty=l2, solver=saga; total time=   0.0s\n",
      "[CV 1/3; 102/108] START C=100, class_weight=balanced, dual=True, penalty=l2, solver=liblinear\n",
      "[CV 1/3; 102/108] END C=100, class_weight=balanced, dual=True, penalty=l2, solver=liblinear; total time=   2.7s\n",
      "[CV 2/3; 102/108] START C=100, class_weight=balanced, dual=True, penalty=l2, solver=liblinear\n",
      "[CV 2/3; 102/108] END C=100, class_weight=balanced, dual=True, penalty=l2, solver=liblinear; total time=   2.8s\n",
      "[CV 3/3; 102/108] START C=100, class_weight=balanced, dual=True, penalty=l2, solver=liblinear\n",
      "[CV 3/3; 102/108] END C=100, class_weight=balanced, dual=True, penalty=l2, solver=liblinear; total time=   2.6s\n",
      "[CV 1/3; 103/108] START C=100, class_weight=balanced, dual=True, penalty=l1, solver=lbfgs\n",
      "[CV 1/3; 103/108] END C=100, class_weight=balanced, dual=True, penalty=l1, solver=lbfgs; total time=   0.0s\n",
      "[CV 2/3; 103/108] START C=100, class_weight=balanced, dual=True, penalty=l1, solver=lbfgs\n",
      "[CV 2/3; 103/108] END C=100, class_weight=balanced, dual=True, penalty=l1, solver=lbfgs; total time=   0.0s\n",
      "[CV 3/3; 103/108] START C=100, class_weight=balanced, dual=True, penalty=l1, solver=lbfgs\n",
      "[CV 3/3; 103/108] END C=100, class_weight=balanced, dual=True, penalty=l1, solver=lbfgs; total time=   0.0s\n",
      "[CV 1/3; 104/108] START C=100, class_weight=balanced, dual=True, penalty=l1, solver=saga\n",
      "[CV 1/3; 104/108] END C=100, class_weight=balanced, dual=True, penalty=l1, solver=saga; total time=   0.0s\n",
      "[CV 2/3; 104/108] START C=100, class_weight=balanced, dual=True, penalty=l1, solver=saga\n",
      "[CV 2/3; 104/108] END C=100, class_weight=balanced, dual=True, penalty=l1, solver=saga; total time=   0.0s\n",
      "[CV 3/3; 104/108] START C=100, class_weight=balanced, dual=True, penalty=l1, solver=saga\n",
      "[CV 3/3; 104/108] END C=100, class_weight=balanced, dual=True, penalty=l1, solver=saga; total time=   0.0s\n",
      "[CV 1/3; 105/108] START C=100, class_weight=balanced, dual=True, penalty=l1, solver=liblinear\n",
      "[CV 1/3; 105/108] END C=100, class_weight=balanced, dual=True, penalty=l1, solver=liblinear; total time=   0.0s\n",
      "[CV 2/3; 105/108] START C=100, class_weight=balanced, dual=True, penalty=l1, solver=liblinear\n",
      "[CV 2/3; 105/108] END C=100, class_weight=balanced, dual=True, penalty=l1, solver=liblinear; total time=   0.0s\n",
      "[CV 3/3; 105/108] START C=100, class_weight=balanced, dual=True, penalty=l1, solver=liblinear\n",
      "[CV 3/3; 105/108] END C=100, class_weight=balanced, dual=True, penalty=l1, solver=liblinear; total time=   0.0s\n",
      "[CV 1/3; 106/108] START C=100, class_weight=balanced, dual=True, penalty=elasticnet, solver=lbfgs\n",
      "[CV 1/3; 106/108] END C=100, class_weight=balanced, dual=True, penalty=elasticnet, solver=lbfgs; total time=   0.0s\n",
      "[CV 2/3; 106/108] START C=100, class_weight=balanced, dual=True, penalty=elasticnet, solver=lbfgs\n",
      "[CV 2/3; 106/108] END C=100, class_weight=balanced, dual=True, penalty=elasticnet, solver=lbfgs; total time=   0.0s\n",
      "[CV 3/3; 106/108] START C=100, class_weight=balanced, dual=True, penalty=elasticnet, solver=lbfgs\n",
      "[CV 3/3; 106/108] END C=100, class_weight=balanced, dual=True, penalty=elasticnet, solver=lbfgs; total time=   0.0s\n",
      "[CV 1/3; 107/108] START C=100, class_weight=balanced, dual=True, penalty=elasticnet, solver=saga\n",
      "[CV 1/3; 107/108] END C=100, class_weight=balanced, dual=True, penalty=elasticnet, solver=saga; total time=   0.0s\n",
      "[CV 2/3; 107/108] START C=100, class_weight=balanced, dual=True, penalty=elasticnet, solver=saga\n",
      "[CV 2/3; 107/108] END C=100, class_weight=balanced, dual=True, penalty=elasticnet, solver=saga; total time=   0.0s\n",
      "[CV 3/3; 107/108] START C=100, class_weight=balanced, dual=True, penalty=elasticnet, solver=saga\n",
      "[CV 3/3; 107/108] END C=100, class_weight=balanced, dual=True, penalty=elasticnet, solver=saga; total time=   0.0s\n",
      "[CV 1/3; 108/108] START C=100, class_weight=balanced, dual=True, penalty=elasticnet, solver=liblinear\n",
      "[CV 1/3; 108/108] END C=100, class_weight=balanced, dual=True, penalty=elasticnet, solver=liblinear; total time=   0.0s\n",
      "[CV 2/3; 108/108] START C=100, class_weight=balanced, dual=True, penalty=elasticnet, solver=liblinear\n",
      "[CV 2/3; 108/108] END C=100, class_weight=balanced, dual=True, penalty=elasticnet, solver=liblinear; total time=   0.0s\n",
      "[CV 3/3; 108/108] START C=100, class_weight=balanced, dual=True, penalty=elasticnet, solver=liblinear\n",
      "[CV 3/3; 108/108] END C=100, class_weight=balanced, dual=True, penalty=elasticnet, solver=liblinear; total time=   0.0s\n",
      "\n",
      "Best R^2 Score : 0.89  Best Params :  {'C': 10, 'class_weight': 'balanced', 'dual': False, 'penalty': 'l1', 'solver': 'saga'}\n"
     ]
    }
   ],
   "source": [
    "from sklearn.model_selection import GridSearchCV\n",
    "from sklearn.model_selection import StratifiedKFold\n",
    "\n",
    "\n",
    "parametres = {'dual':[False,True], 'penalty' : ['l2','l1','elasticnet'],'C': [1 ,10,100],\n",
    "              'class_weight':[None,'balanced'],\n",
    "             'solver':['lbfgs','saga','liblinear']} \n",
    "\n",
    "grid = GridSearchCV(LogisticRegression(),\n",
    "                    param_grid =parametres,\n",
    "                    cv = StratifiedKFold(n_splits=3),\n",
    "                    verbose=50)\n",
    "\n",
    "grid.fit(x_train_flat[:5000], y_train[:5000])\n",
    "\n",
    "print('\\nBest R^2 Score : %.2f'%grid.best_score_, ' Best Params : ', str(grid.best_params_))\n"
   ]
  },
  {
   "cell_type": "code",
   "execution_count": 98,
   "metadata": {},
   "outputs": [
    {
     "data": {
      "text/plain": [
       "dict_keys(['mean_fit_time', 'std_fit_time', 'mean_score_time', 'std_score_time', 'param_C', 'param_dual', 'param_penalty', 'params', 'split0_test_score', 'split1_test_score', 'split2_test_score', 'mean_test_score', 'std_test_score', 'rank_test_score'])"
      ]
     },
     "execution_count": 98,
     "metadata": {},
     "output_type": "execute_result"
    }
   ],
   "source": [
    "grid.cv_results_.keys()"
   ]
  },
  {
   "cell_type": "code",
   "execution_count": 30,
   "metadata": {},
   "outputs": [],
   "source": [
    "df_res = pd.DataFrame(grid.cv_results_)[['mean_fit_time','split0_test_score', 'split1_test_score', 'split2_test_score','mean_test_score', 'std_test_score', 'rank_test_score']]"
   ]
  },
  {
   "cell_type": "code",
   "execution_count": 104,
   "metadata": {},
   "outputs": [
    {
     "data": {
      "text/plain": [
       "36"
      ]
     },
     "execution_count": 104,
     "metadata": {},
     "output_type": "execute_result"
    }
   ],
   "source": [
    "len(df_res.dropna())"
   ]
  },
  {
   "cell_type": "code",
   "execution_count": 132,
   "metadata": {},
   "outputs": [
    {
     "data": {
      "text/plain": [
       "1753.775712966919"
      ]
     },
     "execution_count": 132,
     "metadata": {},
     "output_type": "execute_result"
    }
   ],
   "source": [
    "sum(list(pd.DataFrame(grid.cv_results_)[[ 'mean_fit_time']]['mean_fit_time']*3))"
   ]
  },
  {
   "cell_type": "code",
   "execution_count": 134,
   "metadata": {},
   "outputs": [
    {
     "data": {
      "text/plain": [
       "29.229595216115317"
      ]
     },
     "execution_count": 134,
     "metadata": {},
     "output_type": "execute_result"
    }
   ],
   "source": [
    "1753.775712966919/60"
   ]
  },
  {
   "cell_type": "code",
   "execution_count": 31,
   "metadata": {},
   "outputs": [
    {
     "data": {
      "text/html": [
       "<div>\n",
       "<style scoped>\n",
       "    .dataframe tbody tr th:only-of-type {\n",
       "        vertical-align: middle;\n",
       "    }\n",
       "\n",
       "    .dataframe tbody tr th {\n",
       "        vertical-align: top;\n",
       "    }\n",
       "\n",
       "    .dataframe thead th {\n",
       "        text-align: right;\n",
       "    }\n",
       "</style>\n",
       "<table border=\"1\" class=\"dataframe\">\n",
       "  <thead>\n",
       "    <tr style=\"text-align: right;\">\n",
       "      <th></th>\n",
       "      <th>params</th>\n",
       "      <th>rank_test_score</th>\n",
       "    </tr>\n",
       "  </thead>\n",
       "  <tbody>\n",
       "    <tr>\n",
       "      <td>0</td>\n",
       "      <td>{'C': 1, 'class_weight': None, 'dual': False, ...</td>\n",
       "      <td>13</td>\n",
       "    </tr>\n",
       "    <tr>\n",
       "      <td>1</td>\n",
       "      <td>{'C': 1, 'class_weight': None, 'dual': False, ...</td>\n",
       "      <td>11</td>\n",
       "    </tr>\n",
       "    <tr>\n",
       "      <td>2</td>\n",
       "      <td>{'C': 1, 'class_weight': None, 'dual': False, ...</td>\n",
       "      <td>32</td>\n",
       "    </tr>\n",
       "    <tr>\n",
       "      <td>3</td>\n",
       "      <td>{'C': 1, 'class_weight': None, 'dual': False, ...</td>\n",
       "      <td>84</td>\n",
       "    </tr>\n",
       "    <tr>\n",
       "      <td>4</td>\n",
       "      <td>{'C': 1, 'class_weight': None, 'dual': False, ...</td>\n",
       "      <td>2</td>\n",
       "    </tr>\n",
       "    <tr>\n",
       "      <td>...</td>\n",
       "      <td>...</td>\n",
       "      <td>...</td>\n",
       "    </tr>\n",
       "    <tr>\n",
       "      <td>103</td>\n",
       "      <td>{'C': 100, 'class_weight': 'balanced', 'dual':...</td>\n",
       "      <td>43</td>\n",
       "    </tr>\n",
       "    <tr>\n",
       "      <td>104</td>\n",
       "      <td>{'C': 100, 'class_weight': 'balanced', 'dual':...</td>\n",
       "      <td>42</td>\n",
       "    </tr>\n",
       "    <tr>\n",
       "      <td>105</td>\n",
       "      <td>{'C': 100, 'class_weight': 'balanced', 'dual':...</td>\n",
       "      <td>38</td>\n",
       "    </tr>\n",
       "    <tr>\n",
       "      <td>106</td>\n",
       "      <td>{'C': 100, 'class_weight': 'balanced', 'dual':...</td>\n",
       "      <td>93</td>\n",
       "    </tr>\n",
       "    <tr>\n",
       "      <td>107</td>\n",
       "      <td>{'C': 100, 'class_weight': 'balanced', 'dual':...</td>\n",
       "      <td>108</td>\n",
       "    </tr>\n",
       "  </tbody>\n",
       "</table>\n",
       "<p>108 rows × 2 columns</p>\n",
       "</div>"
      ],
      "text/plain": [
       "                                                params  rank_test_score\n",
       "0    {'C': 1, 'class_weight': None, 'dual': False, ...               13\n",
       "1    {'C': 1, 'class_weight': None, 'dual': False, ...               11\n",
       "2    {'C': 1, 'class_weight': None, 'dual': False, ...               32\n",
       "3    {'C': 1, 'class_weight': None, 'dual': False, ...               84\n",
       "4    {'C': 1, 'class_weight': None, 'dual': False, ...                2\n",
       "..                                                 ...              ...\n",
       "103  {'C': 100, 'class_weight': 'balanced', 'dual':...               43\n",
       "104  {'C': 100, 'class_weight': 'balanced', 'dual':...               42\n",
       "105  {'C': 100, 'class_weight': 'balanced', 'dual':...               38\n",
       "106  {'C': 100, 'class_weight': 'balanced', 'dual':...               93\n",
       "107  {'C': 100, 'class_weight': 'balanced', 'dual':...              108\n",
       "\n",
       "[108 rows x 2 columns]"
      ]
     },
     "execution_count": 31,
     "metadata": {},
     "output_type": "execute_result"
    }
   ],
   "source": [
    "pd.DataFrame(grid.cv_results_)[[ 'params', 'rank_test_score']]"
   ]
  },
  {
   "cell_type": "code",
   "execution_count": 32,
   "metadata": {},
   "outputs": [
    {
     "data": {
      "text/html": [
       "<div>\n",
       "<style scoped>\n",
       "    .dataframe tbody tr th:only-of-type {\n",
       "        vertical-align: middle;\n",
       "    }\n",
       "\n",
       "    .dataframe tbody tr th {\n",
       "        vertical-align: top;\n",
       "    }\n",
       "\n",
       "    .dataframe thead th {\n",
       "        text-align: right;\n",
       "    }\n",
       "</style>\n",
       "<table border=\"1\" class=\"dataframe\">\n",
       "  <thead>\n",
       "    <tr style=\"text-align: right;\">\n",
       "      <th></th>\n",
       "      <th>mean_fit_time</th>\n",
       "      <th>split0_test_score</th>\n",
       "      <th>split1_test_score</th>\n",
       "      <th>split2_test_score</th>\n",
       "      <th>mean_test_score</th>\n",
       "      <th>std_test_score</th>\n",
       "      <th>rank_test_score</th>\n",
       "    </tr>\n",
       "  </thead>\n",
       "  <tbody>\n",
       "    <tr>\n",
       "      <td>58</td>\n",
       "      <td>56.500331</td>\n",
       "      <td>0.884223</td>\n",
       "      <td>0.896221</td>\n",
       "      <td>0.891957</td>\n",
       "      <td>0.890800</td>\n",
       "      <td>0.004966</td>\n",
       "      <td>1</td>\n",
       "    </tr>\n",
       "    <tr>\n",
       "      <td>4</td>\n",
       "      <td>50.809997</td>\n",
       "      <td>0.882424</td>\n",
       "      <td>0.896821</td>\n",
       "      <td>0.892557</td>\n",
       "      <td>0.890600</td>\n",
       "      <td>0.006038</td>\n",
       "      <td>2</td>\n",
       "    </tr>\n",
       "    <tr>\n",
       "      <td>37</td>\n",
       "      <td>28.530666</td>\n",
       "      <td>0.881224</td>\n",
       "      <td>0.897421</td>\n",
       "      <td>0.892557</td>\n",
       "      <td>0.890400</td>\n",
       "      <td>0.006786</td>\n",
       "      <td>3</td>\n",
       "    </tr>\n",
       "    <tr>\n",
       "      <td>73</td>\n",
       "      <td>29.151666</td>\n",
       "      <td>0.880024</td>\n",
       "      <td>0.898020</td>\n",
       "      <td>0.891957</td>\n",
       "      <td>0.890000</td>\n",
       "      <td>0.007476</td>\n",
       "      <td>4</td>\n",
       "    </tr>\n",
       "    <tr>\n",
       "      <td>55</td>\n",
       "      <td>30.147333</td>\n",
       "      <td>0.882424</td>\n",
       "      <td>0.896221</td>\n",
       "      <td>0.891357</td>\n",
       "      <td>0.890000</td>\n",
       "      <td>0.005714</td>\n",
       "      <td>5</td>\n",
       "    </tr>\n",
       "    <tr>\n",
       "      <td>94</td>\n",
       "      <td>52.722665</td>\n",
       "      <td>0.881824</td>\n",
       "      <td>0.897421</td>\n",
       "      <td>0.890756</td>\n",
       "      <td>0.890000</td>\n",
       "      <td>0.006390</td>\n",
       "      <td>6</td>\n",
       "    </tr>\n",
       "    <tr>\n",
       "      <td>19</td>\n",
       "      <td>28.352662</td>\n",
       "      <td>0.881824</td>\n",
       "      <td>0.896221</td>\n",
       "      <td>0.891357</td>\n",
       "      <td>0.889800</td>\n",
       "      <td>0.005980</td>\n",
       "      <td>7</td>\n",
       "    </tr>\n",
       "    <tr>\n",
       "      <td>40</td>\n",
       "      <td>50.956999</td>\n",
       "      <td>0.880624</td>\n",
       "      <td>0.896221</td>\n",
       "      <td>0.891957</td>\n",
       "      <td>0.889600</td>\n",
       "      <td>0.006582</td>\n",
       "      <td>8</td>\n",
       "    </tr>\n",
       "    <tr>\n",
       "      <td>76</td>\n",
       "      <td>53.233329</td>\n",
       "      <td>0.880024</td>\n",
       "      <td>0.897421</td>\n",
       "      <td>0.891357</td>\n",
       "      <td>0.889600</td>\n",
       "      <td>0.007210</td>\n",
       "      <td>9</td>\n",
       "    </tr>\n",
       "    <tr>\n",
       "      <td>91</td>\n",
       "      <td>28.398334</td>\n",
       "      <td>0.881824</td>\n",
       "      <td>0.896221</td>\n",
       "      <td>0.890756</td>\n",
       "      <td>0.889600</td>\n",
       "      <td>0.005934</td>\n",
       "      <td>10</td>\n",
       "    </tr>\n",
       "    <tr>\n",
       "      <td>1</td>\n",
       "      <td>28.490998</td>\n",
       "      <td>0.881224</td>\n",
       "      <td>0.896221</td>\n",
       "      <td>0.890756</td>\n",
       "      <td>0.889400</td>\n",
       "      <td>0.006197</td>\n",
       "      <td>11</td>\n",
       "    </tr>\n",
       "    <tr>\n",
       "      <td>22</td>\n",
       "      <td>50.594667</td>\n",
       "      <td>0.879424</td>\n",
       "      <td>0.896821</td>\n",
       "      <td>0.890756</td>\n",
       "      <td>0.889000</td>\n",
       "      <td>0.007210</td>\n",
       "      <td>12</td>\n",
       "    </tr>\n",
       "    <tr>\n",
       "      <td>0</td>\n",
       "      <td>1.346664</td>\n",
       "      <td>0.865627</td>\n",
       "      <td>0.874025</td>\n",
       "      <td>0.882353</td>\n",
       "      <td>0.874002</td>\n",
       "      <td>0.006828</td>\n",
       "      <td>13</td>\n",
       "    </tr>\n",
       "    <tr>\n",
       "      <td>36</td>\n",
       "      <td>1.305000</td>\n",
       "      <td>0.863227</td>\n",
       "      <td>0.871026</td>\n",
       "      <td>0.881753</td>\n",
       "      <td>0.872002</td>\n",
       "      <td>0.007594</td>\n",
       "      <td>14</td>\n",
       "    </tr>\n",
       "    <tr>\n",
       "      <td>18</td>\n",
       "      <td>1.762000</td>\n",
       "      <td>0.863827</td>\n",
       "      <td>0.874625</td>\n",
       "      <td>0.877551</td>\n",
       "      <td>0.872001</td>\n",
       "      <td>0.005902</td>\n",
       "      <td>15</td>\n",
       "    </tr>\n",
       "    <tr>\n",
       "      <td>90</td>\n",
       "      <td>1.304997</td>\n",
       "      <td>0.860828</td>\n",
       "      <td>0.871026</td>\n",
       "      <td>0.881753</td>\n",
       "      <td>0.871202</td>\n",
       "      <td>0.008543</td>\n",
       "      <td>16</td>\n",
       "    </tr>\n",
       "    <tr>\n",
       "      <td>54</td>\n",
       "      <td>1.414666</td>\n",
       "      <td>0.860828</td>\n",
       "      <td>0.872226</td>\n",
       "      <td>0.878752</td>\n",
       "      <td>0.870602</td>\n",
       "      <td>0.007407</td>\n",
       "      <td>17</td>\n",
       "    </tr>\n",
       "    <tr>\n",
       "      <td>72</td>\n",
       "      <td>1.355999</td>\n",
       "      <td>0.860828</td>\n",
       "      <td>0.870426</td>\n",
       "      <td>0.879952</td>\n",
       "      <td>0.870402</td>\n",
       "      <td>0.007807</td>\n",
       "      <td>18</td>\n",
       "    </tr>\n",
       "    <tr>\n",
       "      <td>29</td>\n",
       "      <td>2.679328</td>\n",
       "      <td>0.850630</td>\n",
       "      <td>0.880024</td>\n",
       "      <td>0.864346</td>\n",
       "      <td>0.865000</td>\n",
       "      <td>0.012009</td>\n",
       "      <td>19</td>\n",
       "    </tr>\n",
       "    <tr>\n",
       "      <td>83</td>\n",
       "      <td>2.865664</td>\n",
       "      <td>0.844631</td>\n",
       "      <td>0.871026</td>\n",
       "      <td>0.866146</td>\n",
       "      <td>0.860601</td>\n",
       "      <td>0.011467</td>\n",
       "      <td>20</td>\n",
       "    </tr>\n",
       "    <tr>\n",
       "      <td>11</td>\n",
       "      <td>2.509660</td>\n",
       "      <td>0.846431</td>\n",
       "      <td>0.874025</td>\n",
       "      <td>0.860744</td>\n",
       "      <td>0.860400</td>\n",
       "      <td>0.011268</td>\n",
       "      <td>21</td>\n",
       "    </tr>\n",
       "    <tr>\n",
       "      <td>65</td>\n",
       "      <td>2.938997</td>\n",
       "      <td>0.844631</td>\n",
       "      <td>0.872226</td>\n",
       "      <td>0.863745</td>\n",
       "      <td>0.860201</td>\n",
       "      <td>0.011541</td>\n",
       "      <td>22</td>\n",
       "    </tr>\n",
       "    <tr>\n",
       "      <td>47</td>\n",
       "      <td>2.564001</td>\n",
       "      <td>0.845831</td>\n",
       "      <td>0.875225</td>\n",
       "      <td>0.858343</td>\n",
       "      <td>0.859800</td>\n",
       "      <td>0.012044</td>\n",
       "      <td>23</td>\n",
       "    </tr>\n",
       "    <tr>\n",
       "      <td>101</td>\n",
       "      <td>2.797330</td>\n",
       "      <td>0.842232</td>\n",
       "      <td>0.875825</td>\n",
       "      <td>0.858343</td>\n",
       "      <td>0.858800</td>\n",
       "      <td>0.013718</td>\n",
       "      <td>24</td>\n",
       "    </tr>\n",
       "    <tr>\n",
       "      <td>95</td>\n",
       "      <td>4.508332</td>\n",
       "      <td>0.818236</td>\n",
       "      <td>0.860828</td>\n",
       "      <td>0.855342</td>\n",
       "      <td>0.844802</td>\n",
       "      <td>0.018918</td>\n",
       "      <td>25</td>\n",
       "    </tr>\n",
       "    <tr>\n",
       "      <td>77</td>\n",
       "      <td>2.965999</td>\n",
       "      <td>0.818236</td>\n",
       "      <td>0.859628</td>\n",
       "      <td>0.853541</td>\n",
       "      <td>0.843802</td>\n",
       "      <td>0.018248</td>\n",
       "      <td>26</td>\n",
       "    </tr>\n",
       "    <tr>\n",
       "      <td>41</td>\n",
       "      <td>3.685662</td>\n",
       "      <td>0.821236</td>\n",
       "      <td>0.858428</td>\n",
       "      <td>0.851140</td>\n",
       "      <td>0.843602</td>\n",
       "      <td>0.016092</td>\n",
       "      <td>27</td>\n",
       "    </tr>\n",
       "    <tr>\n",
       "      <td>59</td>\n",
       "      <td>3.553325</td>\n",
       "      <td>0.821236</td>\n",
       "      <td>0.857828</td>\n",
       "      <td>0.849940</td>\n",
       "      <td>0.843001</td>\n",
       "      <td>0.015724</td>\n",
       "      <td>28</td>\n",
       "    </tr>\n",
       "    <tr>\n",
       "      <td>23</td>\n",
       "      <td>9.257332</td>\n",
       "      <td>0.817037</td>\n",
       "      <td>0.852430</td>\n",
       "      <td>0.852341</td>\n",
       "      <td>0.840602</td>\n",
       "      <td>0.016664</td>\n",
       "      <td>29</td>\n",
       "    </tr>\n",
       "    <tr>\n",
       "      <td>5</td>\n",
       "      <td>8.250331</td>\n",
       "      <td>0.817636</td>\n",
       "      <td>0.853629</td>\n",
       "      <td>0.849940</td>\n",
       "      <td>0.840402</td>\n",
       "      <td>0.016168</td>\n",
       "      <td>30</td>\n",
       "    </tr>\n",
       "    <tr>\n",
       "      <td>20</td>\n",
       "      <td>6.453998</td>\n",
       "      <td>0.811038</td>\n",
       "      <td>0.837433</td>\n",
       "      <td>0.837335</td>\n",
       "      <td>0.828602</td>\n",
       "      <td>0.012420</td>\n",
       "      <td>31</td>\n",
       "    </tr>\n",
       "    <tr>\n",
       "      <td>2</td>\n",
       "      <td>5.896999</td>\n",
       "      <td>0.811038</td>\n",
       "      <td>0.838032</td>\n",
       "      <td>0.833133</td>\n",
       "      <td>0.827401</td>\n",
       "      <td>0.011742</td>\n",
       "      <td>32</td>\n",
       "    </tr>\n",
       "    <tr>\n",
       "      <td>38</td>\n",
       "      <td>6.011668</td>\n",
       "      <td>0.807439</td>\n",
       "      <td>0.835033</td>\n",
       "      <td>0.831333</td>\n",
       "      <td>0.824601</td>\n",
       "      <td>0.012230</td>\n",
       "      <td>33</td>\n",
       "    </tr>\n",
       "    <tr>\n",
       "      <td>56</td>\n",
       "      <td>8.225997</td>\n",
       "      <td>0.805039</td>\n",
       "      <td>0.835033</td>\n",
       "      <td>0.830732</td>\n",
       "      <td>0.823601</td>\n",
       "      <td>0.013243</td>\n",
       "      <td>34</td>\n",
       "    </tr>\n",
       "    <tr>\n",
       "      <td>74</td>\n",
       "      <td>6.473666</td>\n",
       "      <td>0.804439</td>\n",
       "      <td>0.833833</td>\n",
       "      <td>0.830732</td>\n",
       "      <td>0.823002</td>\n",
       "      <td>0.013187</td>\n",
       "      <td>35</td>\n",
       "    </tr>\n",
       "    <tr>\n",
       "      <td>92</td>\n",
       "      <td>6.413332</td>\n",
       "      <td>0.805639</td>\n",
       "      <td>0.834433</td>\n",
       "      <td>0.825330</td>\n",
       "      <td>0.821801</td>\n",
       "      <td>0.012017</td>\n",
       "      <td>36</td>\n",
       "    </tr>\n",
       "  </tbody>\n",
       "</table>\n",
       "</div>"
      ],
      "text/plain": [
       "     mean_fit_time  split0_test_score  split1_test_score  split2_test_score  \\\n",
       "58       56.500331           0.884223           0.896221           0.891957   \n",
       "4        50.809997           0.882424           0.896821           0.892557   \n",
       "37       28.530666           0.881224           0.897421           0.892557   \n",
       "73       29.151666           0.880024           0.898020           0.891957   \n",
       "55       30.147333           0.882424           0.896221           0.891357   \n",
       "94       52.722665           0.881824           0.897421           0.890756   \n",
       "19       28.352662           0.881824           0.896221           0.891357   \n",
       "40       50.956999           0.880624           0.896221           0.891957   \n",
       "76       53.233329           0.880024           0.897421           0.891357   \n",
       "91       28.398334           0.881824           0.896221           0.890756   \n",
       "1        28.490998           0.881224           0.896221           0.890756   \n",
       "22       50.594667           0.879424           0.896821           0.890756   \n",
       "0         1.346664           0.865627           0.874025           0.882353   \n",
       "36        1.305000           0.863227           0.871026           0.881753   \n",
       "18        1.762000           0.863827           0.874625           0.877551   \n",
       "90        1.304997           0.860828           0.871026           0.881753   \n",
       "54        1.414666           0.860828           0.872226           0.878752   \n",
       "72        1.355999           0.860828           0.870426           0.879952   \n",
       "29        2.679328           0.850630           0.880024           0.864346   \n",
       "83        2.865664           0.844631           0.871026           0.866146   \n",
       "11        2.509660           0.846431           0.874025           0.860744   \n",
       "65        2.938997           0.844631           0.872226           0.863745   \n",
       "47        2.564001           0.845831           0.875225           0.858343   \n",
       "101       2.797330           0.842232           0.875825           0.858343   \n",
       "95        4.508332           0.818236           0.860828           0.855342   \n",
       "77        2.965999           0.818236           0.859628           0.853541   \n",
       "41        3.685662           0.821236           0.858428           0.851140   \n",
       "59        3.553325           0.821236           0.857828           0.849940   \n",
       "23        9.257332           0.817037           0.852430           0.852341   \n",
       "5         8.250331           0.817636           0.853629           0.849940   \n",
       "20        6.453998           0.811038           0.837433           0.837335   \n",
       "2         5.896999           0.811038           0.838032           0.833133   \n",
       "38        6.011668           0.807439           0.835033           0.831333   \n",
       "56        8.225997           0.805039           0.835033           0.830732   \n",
       "74        6.473666           0.804439           0.833833           0.830732   \n",
       "92        6.413332           0.805639           0.834433           0.825330   \n",
       "\n",
       "     mean_test_score  std_test_score  rank_test_score  \n",
       "58          0.890800        0.004966                1  \n",
       "4           0.890600        0.006038                2  \n",
       "37          0.890400        0.006786                3  \n",
       "73          0.890000        0.007476                4  \n",
       "55          0.890000        0.005714                5  \n",
       "94          0.890000        0.006390                6  \n",
       "19          0.889800        0.005980                7  \n",
       "40          0.889600        0.006582                8  \n",
       "76          0.889600        0.007210                9  \n",
       "91          0.889600        0.005934               10  \n",
       "1           0.889400        0.006197               11  \n",
       "22          0.889000        0.007210               12  \n",
       "0           0.874002        0.006828               13  \n",
       "36          0.872002        0.007594               14  \n",
       "18          0.872001        0.005902               15  \n",
       "90          0.871202        0.008543               16  \n",
       "54          0.870602        0.007407               17  \n",
       "72          0.870402        0.007807               18  \n",
       "29          0.865000        0.012009               19  \n",
       "83          0.860601        0.011467               20  \n",
       "11          0.860400        0.011268               21  \n",
       "65          0.860201        0.011541               22  \n",
       "47          0.859800        0.012044               23  \n",
       "101         0.858800        0.013718               24  \n",
       "95          0.844802        0.018918               25  \n",
       "77          0.843802        0.018248               26  \n",
       "41          0.843602        0.016092               27  \n",
       "59          0.843001        0.015724               28  \n",
       "23          0.840602        0.016664               29  \n",
       "5           0.840402        0.016168               30  \n",
       "20          0.828602        0.012420               31  \n",
       "2           0.827401        0.011742               32  \n",
       "38          0.824601        0.012230               33  \n",
       "56          0.823601        0.013243               34  \n",
       "74          0.823002        0.013187               35  \n",
       "92          0.821801        0.012017               36  "
      ]
     },
     "execution_count": 32,
     "metadata": {},
     "output_type": "execute_result"
    }
   ],
   "source": [
    "df_res.dropna().sort_values(by=['rank_test_score'])"
   ]
  },
  {
   "cell_type": "code",
   "execution_count": 63,
   "metadata": {},
   "outputs": [
    {
     "data": {
      "text/plain": [
       "{'C': 1,\n",
       " 'class_weight': None,\n",
       " 'dual': False,\n",
       " 'penalty': 'l2',\n",
       " 'solver': 'lbfgs'}"
      ]
     },
     "execution_count": 63,
     "metadata": {},
     "output_type": "execute_result"
    }
   ],
   "source": [
    "df = pd.DataFrame(grid.cv_results_)[[ 'params', 'rank_test_score']]\n",
    "df[df['rank_test_score'] == 13]['params'].iloc[0]"
   ]
  },
  {
   "cell_type": "code",
   "execution_count": 65,
   "metadata": {},
   "outputs": [
    {
     "data": {
      "text/plain": [
       "{'C': 10,\n",
       " 'class_weight': None,\n",
       " 'dual': False,\n",
       " 'penalty': 'l2',\n",
       " 'solver': 'saga'}"
      ]
     },
     "execution_count": 65,
     "metadata": {},
     "output_type": "execute_result"
    }
   ],
   "source": [
    "df[df['rank_test_score'] == 3]['params'].iloc[0]"
   ]
  },
  {
   "cell_type": "code",
   "execution_count": 70,
   "metadata": {},
   "outputs": [
    {
     "data": {
      "text/plain": [
       "{'C': 10,\n",
       " 'class_weight': 'balanced',\n",
       " 'dual': False,\n",
       " 'penalty': 'l1',\n",
       " 'solver': 'saga'}"
      ]
     },
     "execution_count": 70,
     "metadata": {},
     "output_type": "execute_result"
    }
   ],
   "source": [
    "grid.best_params_"
   ]
  },
  {
   "cell_type": "code",
   "execution_count": 135,
   "metadata": {},
   "outputs": [
    {
     "data": {
      "text/plain": [
       "LogisticRegression(C=1)"
      ]
     },
     "execution_count": 135,
     "metadata": {},
     "output_type": "execute_result"
    }
   ],
   "source": [
    "LogisticRegression(**df[df['rank_test_score'] == 13]['params'].iloc[0])"
   ]
  },
  {
   "cell_type": "code",
   "execution_count": 88,
   "metadata": {},
   "outputs": [],
   "source": [
    "from sklearn.metrics import f1_score"
   ]
  },
  {
   "cell_type": "code",
   "execution_count": 75,
   "metadata": {},
   "outputs": [
    {
     "name": "stdout",
     "output_type": "stream",
     "text": [
      "0.9339166666666666\n",
      "22.396997213363647\n"
     ]
    }
   ],
   "source": [
    "start_time = time.time()\n",
    "\n",
    "clf13 = LogisticRegression(**df[df['rank_test_score'] == 13]['params'].iloc[0]).fit(x_train_flat, y_train)\n",
    "timefit = time.time() - start_time\n",
    "y_pred_train = clf13.predict(x_train_flat)\n",
    "print(accuracy_score(y_train,y_pred_train))\n",
    "print(timefit)"
   ]
  },
  {
   "cell_type": "code",
   "execution_count": 91,
   "metadata": {},
   "outputs": [
    {
     "data": {
      "text/plain": [
       "0.9255"
      ]
     },
     "execution_count": 91,
     "metadata": {},
     "output_type": "execute_result"
    }
   ],
   "source": [
    "y_pred_test = clf13.predict(x_test_flat)\n",
    "accuracy_score(y_test,y_pred_test)"
   ]
  },
  {
   "cell_type": "code",
   "execution_count": 143,
   "metadata": {},
   "outputs": [
    {
     "data": {
      "text/plain": [
       "array([7, 2, 1, ..., 4, 5, 6], dtype=uint8)"
      ]
     },
     "execution_count": 143,
     "metadata": {},
     "output_type": "execute_result"
    }
   ],
   "source": [
    "y_pred_test"
   ]
  },
  {
   "cell_type": "code",
   "execution_count": 138,
   "metadata": {},
   "outputs": [
    {
     "data": {
      "text/plain": [
       "0.9244351911243222"
      ]
     },
     "execution_count": 138,
     "metadata": {},
     "output_type": "execute_result"
    }
   ],
   "source": [
    "f1_score(y_test,y_pred_test,average='macro')"
   ]
  },
  {
   "cell_type": "code",
   "execution_count": 97,
   "metadata": {},
   "outputs": [
    {
     "data": {
      "text/plain": [
       "array([0, 1, 2, 3, 4, 5, 6, 7, 8, 9], dtype=uint8)"
      ]
     },
     "execution_count": 97,
     "metadata": {},
     "output_type": "execute_result"
    }
   ],
   "source": [
    "clf13.classes_"
   ]
  },
  {
   "cell_type": "code",
   "execution_count": 98,
   "metadata": {},
   "outputs": [
    {
     "data": {
      "text/plain": [
       "array([0.96832579, 0.9737303 , 0.91321499, 0.90513834, 0.93047035,\n",
       "       0.88635066, 0.94643786, 0.92825769, 0.87955466, 0.91287129])"
      ]
     },
     "execution_count": 98,
     "metadata": {},
     "output_type": "execute_result"
    }
   ],
   "source": [
    "f1_score(y_test,y_pred_test, average=None,labels =clf13.classes_)"
   ]
  },
  {
   "cell_type": "code",
   "execution_count": null,
   "metadata": {},
   "outputs": [],
   "source": []
  },
  {
   "cell_type": "code",
   "execution_count": 80,
   "metadata": {},
   "outputs": [
    {
     "data": {
      "image/png": "[encoded data removed]",
      "text/plain": [
       "<Figure size 432x288 with 2 Axes>"
      ]
     },
     "metadata": {
      "needs_background": "light"
     },
     "output_type": "display_data"
    }
   ],
   "source": [
    "plot_confusion_matrix(clf13,x_train_flat, y_train)\n",
    "plt.show()"
   ]
  },
  {
   "cell_type": "code",
   "execution_count": 149,
   "metadata": {},
   "outputs": [
    {
     "data": {
      "image/png": "[encoded data removed]",
      "text/plain": [
       "<Figure size 432x288 with 2 Axes>"
      ]
     },
     "metadata": {
      "needs_background": "light"
     },
     "output_type": "display_data"
    }
   ],
   "source": [
    "plot_confusion_matrix(clf13,x_test_flat, y_test, normalize='true')\n",
    "plt.show()"
   ]
  },
  {
   "cell_type": "code",
   "execution_count": 155,
   "metadata": {},
   "outputs": [
    {
     "name": "stdout",
     "output_type": "stream",
     "text": [
      "[[9.82653061e-01 0.00000000e+00 0.00000000e+00 3.06122449e-03\n",
      "  1.02040816e-03 3.06122449e-03 4.08163265e-03 4.08163265e-03\n",
      "  2.04081633e-03 0.00000000e+00]\n",
      " [0.00000000e+00 9.79735683e-01 3.52422907e-03 1.76211454e-03\n",
      "  0.00000000e+00 8.81057269e-04 2.64317181e-03 1.76211454e-03\n",
      "  9.69162996e-03 0.00000000e+00]\n",
      " [2.90697674e-03 9.68992248e-03 8.97286822e-01 1.45348837e-02\n",
      "  5.81395349e-03 3.87596899e-03 1.45348837e-02 7.75193798e-03\n",
      "  4.06976744e-02 2.90697674e-03]\n",
      " [3.96039604e-03 9.90099010e-04 2.07920792e-02 9.06930693e-01\n",
      "  9.90099010e-04 2.57425743e-02 2.97029703e-03 8.91089109e-03\n",
      "  2.17821782e-02 6.93069307e-03]\n",
      " [1.01832994e-03 1.01832994e-03 7.12830957e-03 3.05498982e-03\n",
      "  9.26680244e-01 0.00000000e+00 9.16496945e-03 7.12830957e-03\n",
      "  1.01832994e-02 3.46232179e-02]\n",
      " [1.23318386e-02 2.24215247e-03 1.12107623e-03 3.69955157e-02\n",
      "  1.23318386e-02 8.69955157e-01 1.23318386e-02 6.72645740e-03\n",
      "  3.92376682e-02 6.72645740e-03]\n",
      " [9.39457203e-03 3.13152401e-03 7.30688935e-03 3.13152401e-03\n",
      "  7.30688935e-03 1.67014614e-02 9.49895616e-01 2.08768267e-03\n",
      "  1.04384134e-03 0.00000000e+00]\n",
      " [9.72762646e-04 5.83657588e-03 2.33463035e-02 4.86381323e-03\n",
      "  6.80933852e-03 9.72762646e-04 0.00000000e+00 9.25097276e-01\n",
      "  2.91828794e-03 2.91828794e-02]\n",
      " [8.21355236e-03 7.18685832e-03 6.16016427e-03 2.36139630e-02\n",
      "  6.16016427e-03 2.66940452e-02 1.02669405e-02 1.02669405e-02\n",
      "  8.92197125e-01 9.24024641e-03]\n",
      " [8.91972250e-03 6.93756194e-03 0.00000000e+00 1.09018831e-02\n",
      "  2.47770069e-02 5.94648167e-03 0.00000000e+00 2.18037661e-02\n",
      "  6.93756194e-03 9.13776016e-01]]\n"
     ]
    },
    {
     "data": {
      "image/png": "[encoded data removed]",
      "text/plain": [
       "<Figure size 432x288 with 2 Axes>"
      ]
     },
     "metadata": {
      "needs_background": "light"
     },
     "output_type": "display_data"
    }
   ],
   "source": [
    "disp = plot_confusion_matrix(clf13, x_test_flat, y_test,\n",
    "                             cmap=plt.cm.Blues,\n",
    "                             normalize='true')\n",
    "\n",
    "\n",
    "\n",
    "print(disp.confusion_matrix)\n",
    "plt.show()"
   ]
  },
  {
   "cell_type": "code",
   "execution_count": 76,
   "metadata": {},
   "outputs": [
    {
     "name": "stdout",
     "output_type": "stream",
     "text": [
      "0.9386\n",
      "584.0550043582916\n"
     ]
    }
   ],
   "source": [
    "start_time = time.time()\n",
    "\n",
    "clf3 = LogisticRegression(**df[df['rank_test_score'] == 3]['params'].iloc[0]).fit(x_train_flat, y_train)\n",
    "timefit = time.time() - start_time\n",
    "y_pred_train = clf3.predict(x_train_flat)\n",
    "print(accuracy_score(y_train,y_pred_train))\n",
    "print(timefit)\n",
    "#94 de plus sur 20 000"
   ]
  },
  {
   "cell_type": "code",
   "execution_count": 139,
   "metadata": {},
   "outputs": [
    {
     "data": {
      "text/plain": [
       "0.9255"
      ]
     },
     "execution_count": 139,
     "metadata": {},
     "output_type": "execute_result"
    }
   ],
   "source": [
    "y_pred_test = clf3.predict(x_test_flat)\n",
    "accuracy_score(y_test,y_pred_test)"
   ]
  },
  {
   "cell_type": "code",
   "execution_count": 140,
   "metadata": {},
   "outputs": [
    {
     "data": {
      "text/plain": [
       "0.9243390962504388"
      ]
     },
     "execution_count": 140,
     "metadata": {},
     "output_type": "execute_result"
    }
   ],
   "source": [
    "f1_score(y_test,y_pred_test,average='macro')"
   ]
  },
  {
   "cell_type": "code",
   "execution_count": 77,
   "metadata": {},
   "outputs": [
    {
     "name": "stdout",
     "output_type": "stream",
     "text": [
      "0.9383833333333333\n",
      "1077.5700941085815\n"
     ]
    }
   ],
   "source": [
    "start_time = time.time()\n",
    "\n",
    "clf1 = LogisticRegression(**grid.best_params_).fit(x_train_flat, y_train)\n",
    "timefit = time.time() - start_time\n",
    "y_pred_train = clf1.predict(x_train_flat)\n",
    "print(accuracy_score(y_train,y_pred_train))\n",
    "print(timefit)"
   ]
  },
  {
   "cell_type": "code",
   "execution_count": 141,
   "metadata": {},
   "outputs": [
    {
     "data": {
      "text/plain": [
       "0.9254"
      ]
     },
     "execution_count": 141,
     "metadata": {},
     "output_type": "execute_result"
    }
   ],
   "source": [
    "y_pred_test = clf1.predict(x_test_flat)\n",
    "accuracy_score(y_test,y_pred_test)"
   ]
  },
  {
   "cell_type": "code",
   "execution_count": 156,
   "metadata": {},
   "outputs": [
    {
     "data": {
      "text/plain": [
       "0.9242743799627299"
      ]
     },
     "execution_count": 156,
     "metadata": {},
     "output_type": "execute_result"
    }
   ],
   "source": [
    "f1_score(y_test,y_pred_test,average='macro')"
   ]
  },
  {
   "cell_type": "code",
   "execution_count": 87,
   "metadata": {},
   "outputs": [],
   "source": [
    "# Model convolutionnel Keras"
   ]
  },
  {
   "cell_type": "code",
   "execution_count": 162,
   "metadata": {},
   "outputs": [
    {
     "data": {
      "text/plain": [
       "7"
      ]
     },
     "execution_count": 162,
     "metadata": {},
     "output_type": "execute_result"
    }
   ],
   "source": [
    "clf13.predict(x_test_flat[0].reshape(1, -1))[0]"
   ]
  },
  {
   "cell_type": "code",
   "execution_count": 158,
   "metadata": {},
   "outputs": [],
   "source": [
    "#enregistrement du model\n",
    "#pickle.dump(clf13, open('model_log.pkl','wb'))"
   ]
  }
 ],
 "metadata": {
  "kernelspec": {
   "display_name": "Python 3",
   "language": "python",
   "name": "python3"
  },
  "language_info": {
   "codemirror_mode": {
    "name": "ipython",
    "version": 3
   },
   "file_extension": ".py",
   "mimetype": "text/x-python",
   "name": "python",
   "nbconvert_exporter": "python",
   "pygments_lexer": "ipython3",
   "version": "3.7.4"
  }
 },
 "nbformat": 4,
 "nbformat_minor": 4
}
