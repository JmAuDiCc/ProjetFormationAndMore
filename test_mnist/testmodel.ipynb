{
 "cells": [
  {
   "cell_type": "code",
   "execution_count": 1,
   "metadata": {},
   "outputs": [],
   "source": [
    "from tkinter import *\n",
    "from PIL import Image\n",
    "import io\n",
    "import os\n",
    "import subprocess\n",
    "import numpy as np\n",
    "from matplotlib import image\n",
    "from matplotlib import pyplot\n",
    "import tensorflow as tf\n",
    "import numpy as np\n",
    "from tensorflow.keras.utils import to_categorical\n",
    "import pickle"
   ]
  },
  {
   "cell_type": "code",
   "execution_count": 2,
   "metadata": {},
   "outputs": [],
   "source": [
    "model_conv = tf.keras.models.load_model('model_conv.h5')\n",
    "model_log = pickle.load(open('model_log.pkl','rb'))"
   ]
  },
  {
   "cell_type": "code",
   "execution_count": 24,
   "metadata": {},
   "outputs": [
    {
     "name": "stdout",
     "output_type": "stream",
     "text": [
      "<class 'PIL.Image.Image'>\n"
     ]
    },
    {
     "data": {
      "text/plain": [
       "3"
      ]
     },
     "execution_count": 24,
     "metadata": {},
     "output_type": "execute_result"
    }
   ],
   "source": [
    "image = Image.open('chiffre.jpeg').convert('L')\n",
    "print(type(image))\n",
    "new_image = image.resize((28, 28 ))\n",
    "#traitement image\n",
    "ch = np.array(new_image)\n",
    "ch = ch*-1\n",
    "ch = ch+ 255\n",
    "\n",
    "img_log = ch.reshape(28*28)\n",
    "model_log.predict(img_log.reshape(1, -1))[0]"
   ]
  },
  {
   "cell_type": "code",
   "execution_count": 23,
   "metadata": {},
   "outputs": [
    {
     "data": {
      "text/plain": [
       "0"
      ]
     },
     "execution_count": 23,
     "metadata": {},
     "output_type": "execute_result"
    }
   ],
   "source": [
    "img"
   ]
  },
  {
   "cell_type": "code",
   "execution_count": 3,
   "metadata": {},
   "outputs": [
    {
     "name": "stdout",
     "output_type": "stream",
     "text": [
      "<class 'str'> tt\n",
      "<class 'PIL.EpsImagePlugin.EpsImageFile'>\n",
      "<class 'PIL.Image.Image'>\n",
      "<class 'str'> tt\n",
      "<class 'PIL.EpsImagePlugin.EpsImageFile'>\n",
      "<class 'PIL.Image.Image'>\n",
      "<class 'str'> tt\n",
      "<class 'PIL.EpsImagePlugin.EpsImageFile'>\n",
      "<class 'PIL.Image.Image'>\n",
      "<class 'str'> tt\n",
      "<class 'PIL.EpsImagePlugin.EpsImageFile'>\n",
      "<class 'PIL.Image.Image'>\n",
      "<class 'str'> tt\n",
      "<class 'PIL.EpsImagePlugin.EpsImageFile'>\n",
      "<class 'PIL.Image.Image'>\n",
      "<class 'str'> tt\n",
      "<class 'PIL.EpsImagePlugin.EpsImageFile'>\n",
      "<class 'PIL.Image.Image'>\n",
      "<class 'str'> tt\n",
      "<class 'PIL.EpsImagePlugin.EpsImageFile'>\n",
      "<class 'PIL.Image.Image'>\n",
      "<class 'str'> tt\n",
      "<class 'PIL.EpsImagePlugin.EpsImageFile'>\n",
      "<class 'PIL.Image.Image'>\n",
      "<class 'str'> tt\n",
      "<class 'PIL.EpsImagePlugin.EpsImageFile'>\n",
      "<class 'PIL.Image.Image'>\n"
     ]
    }
   ],
   "source": [
    "# \n",
    "Fenetre = Tk()\n",
    "\n",
    "canvas = Canvas(Fenetre,width=140,height=140,bg=\"white\",bd=8)\n",
    "canvas.pack() \n",
    "x = None\n",
    "y = None\n",
    " \n",
    "def ecrire(event):\n",
    "    x = event.x\n",
    "    y = event.y\n",
    "    \n",
    "    if x and y:\n",
    "        canvas.create_line(x,y,event.x,event.y,width=12,fill='black',capstyle=ROUND,smooth=1)\n",
    "        \n",
    "        \n",
    "def save_as_png():\n",
    "    ps = canvas.postscript(colormode='color')\n",
    "    print(type(ps),'tt')\n",
    "    img = Image.open(io.BytesIO(ps.encode('utf-8')))\n",
    "    print(type(img))\n",
    "    img.save('chiffre.jpeg', 'jpeg') \n",
    "\n",
    "    \n",
    "def predire():\n",
    "    #on charge image\n",
    "    save_as_png()\n",
    "    \n",
    "    image = Image.open('chiffre.jpeg').convert('L')\n",
    "    print(type(image))\n",
    "    new_image = image.resize((28, 28 ))\n",
    "    #traitement image\n",
    "    ch = np.array(new_image)\n",
    "    ch = ch*-1\n",
    "    ch = ch+ 255\n",
    "    \n",
    "    img_log = ch.reshape(28*28)\n",
    "\n",
    "    img = np.array(ch)\n",
    "    img = np.resize(img, (28,28,1))\n",
    "    img = img.reshape(1,28,28,1)\n",
    "    img = img/255.\n",
    "    #\n",
    "    res = str(model_conv.predict_classes(img)[0]) \n",
    "    res_log = str(model_log.predict(img_log.reshape(1, -1))[0])\n",
    "\n",
    "    t1s = str(\"Modèle convolutif: \" + res)\n",
    "    t2s = str(\"Modèle logistique: \" + res_log)\n",
    "    t1.set(t1s)\n",
    "    t2.set(t2s)\n",
    "\n",
    "\n",
    "def eff():\n",
    "    canvas.delete(\"all\")\n",
    "    \n",
    "    \n",
    "canvas.pack(expand=YES , fill=BOTH)\n",
    "canvas.bind('<B1-Motion>' , ecrire)\n",
    "\n",
    "#b = Button(Fenetre, text=\"Sauver\", command=save_as_png)\n",
    "#b.pack()\n",
    "\n",
    "a = Button(Fenetre, text=\"Predire\", command=predire)\n",
    "a.pack()\n",
    "\n",
    "c = Button(Fenetre, text=\"Effacer\", command=eff)\n",
    "c.pack()\n",
    "\n",
    "t1 = StringVar()\n",
    "t2 = StringVar()\n",
    "texteLabel = Label(Fenetre, textvariable = t1)\n",
    "texteLabel2 = Label(Fenetre, textvariable = t2)\n",
    "texteLabel.pack()\n",
    "texteLabel2.pack()\n",
    "\n",
    "Fenetre.mainloop()\n",
    "\n"
   ]
  },
  {
   "cell_type": "code",
   "execution_count": 44,
   "metadata": {},
   "outputs": [],
   "source": [
    "#tests"
   ]
  },
  {
   "cell_type": "code",
   "execution_count": 8,
   "metadata": {},
   "outputs": [],
   "source": [
    "image = Image.open('chiffre.jpeg').convert('L')\n",
    "new_image = image.resize((28, 28 ))"
   ]
  },
  {
   "cell_type": "code",
   "execution_count": 9,
   "metadata": {},
   "outputs": [
    {
     "data": {
      "image/png": "[encoded data removed]",
      "text/plain": [
       "<PIL.Image.Image image mode=L size=28x28 at 0x22D9E1B9F48>"
      ]
     },
     "execution_count": 9,
     "metadata": {},
     "output_type": "execute_result"
    }
   ],
   "source": [
    "new_image"
   ]
  },
  {
   "cell_type": "code",
   "execution_count": 10,
   "metadata": {},
   "outputs": [],
   "source": [
    "ch = np.array(new_image)\n",
    "ch = ch*-1\n",
    "ch = ch+ 255"
   ]
  },
  {
   "cell_type": "code",
   "execution_count": 11,
   "metadata": {},
   "outputs": [
    {
     "data": {
      "text/plain": [
       "array([0, 0, 0, 0, 0, 0, 0, 0, 0, 0, 0, 0, 0, 0, 0, 0, 0, 0, 0, 0, 0, 0,\n",
       "       0, 0, 0, 0, 0, 0], dtype=int16)"
      ]
     },
     "execution_count": 11,
     "metadata": {},
     "output_type": "execute_result"
    }
   ],
   "source": [
    "ch[0]"
   ]
  },
  {
   "cell_type": "code",
   "execution_count": 12,
   "metadata": {},
   "outputs": [
    {
     "data": {
      "image/png": "[encoded data removed]",
      "text/plain": [
       "<Figure size 432x288 with 1 Axes>"
      ]
     },
     "metadata": {
      "needs_background": "light"
     },
     "output_type": "display_data"
    }
   ],
   "source": [
    "pyplot.imshow(ch , cmap='Greys')\n",
    "pyplot.show()"
   ]
  },
  {
   "cell_type": "code",
   "execution_count": 50,
   "metadata": {},
   "outputs": [],
   "source": [
    "(x_train, y_train), (x_test, y_test) = tf.keras.datasets.mnist.load_data()"
   ]
  },
  {
   "cell_type": "code",
   "execution_count": 51,
   "metadata": {},
   "outputs": [],
   "source": [
    "l_n = []\n",
    "for i,val in enumerate(y_train):\n",
    "    if val == 2:\n",
    "        l_n.append(i)"
   ]
  },
  {
   "cell_type": "code",
   "execution_count": 52,
   "metadata": {},
   "outputs": [
    {
     "data": {
      "text/plain": [
       "[5, 16, 25, 28, 76, 82, 109, 117, 120, 122]"
      ]
     },
     "execution_count": 52,
     "metadata": {},
     "output_type": "execute_result"
    }
   ],
   "source": [
    "l_n[:10]"
   ]
  },
  {
   "cell_type": "code",
   "execution_count": 53,
   "metadata": {},
   "outputs": [
    {
     "data": {
      "image/png": "[encoded data removed]",
      "text/plain": [
       "<Figure size 432x288 with 1 Axes>"
      ]
     },
     "metadata": {
      "needs_background": "light"
     },
     "output_type": "display_data"
    }
   ],
   "source": [
    "pyplot.imshow(x_train[109] , cmap='Greys')\n",
    "pyplot.show()"
   ]
  },
  {
   "cell_type": "code",
   "execution_count": null,
   "metadata": {},
   "outputs": [],
   "source": []
  },
  {
   "cell_type": "code",
   "execution_count": 54,
   "metadata": {},
   "outputs": [],
   "source": [
    "#ch = x_train[4]"
   ]
  },
  {
   "cell_type": "code",
   "execution_count": 55,
   "metadata": {},
   "outputs": [],
   "source": [
    "img = np.array(ch)\n",
    "img = np.resize(img, (28,28,1))\n",
    "img = img.reshape(1,28,28,1)\n",
    "img = img/255."
   ]
  },
  {
   "cell_type": "code",
   "execution_count": 56,
   "metadata": {},
   "outputs": [
    {
     "name": "stdout",
     "output_type": "stream",
     "text": [
      "7\n"
     ]
    }
   ],
   "source": [
    "print(str(model.predict_classes(img)[0]))"
   ]
  }
 ],
 "metadata": {
  "kernelspec": {
   "display_name": "Python 3",
   "language": "python",
   "name": "python3"
  },
  "language_info": {
   "codemirror_mode": {
    "name": "ipython",
    "version": 3
   },
   "file_extension": ".py",
   "mimetype": "text/x-python",
   "name": "python",
   "nbconvert_exporter": "python",
   "pygments_lexer": "ipython3",
   "version": "3.7.4"
  }
 },
 "nbformat": 4,
 "nbformat_minor": 4
}
