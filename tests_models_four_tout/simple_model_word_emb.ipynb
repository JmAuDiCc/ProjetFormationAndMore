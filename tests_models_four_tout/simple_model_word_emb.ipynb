{
 "cells": [
  {
   "cell_type": "code",
   "execution_count": 1,
   "metadata": {},
   "outputs": [],
   "source": [
    "import numpy as np\n",
    "import pandas as pd\n",
    "import spacy\n",
    "import time\n",
    "import pickle"
   ]
  },
  {
   "cell_type": "code",
   "execution_count": 2,
   "metadata": {},
   "outputs": [
    {
     "name": "stdout",
     "output_type": "stream",
     "text": [
      "--- 9.54554295539856 secondes ---\n"
     ]
    }
   ],
   "source": [
    "start_time = time.time()\n",
    "nlp = spacy.load('fr_core_news_md')\n",
    "#temps de récupération du modèle\n",
    "print(\"--- %s secondes ---\" % (time.time() - start_time))\n"
   ]
  },
  {
   "cell_type": "code",
   "execution_count": 3,
   "metadata": {},
   "outputs": [
    {
     "data": {
      "text/plain": [
       "array([-0.8534,  0.7579, -1.6385], dtype=float32)"
      ]
     },
     "execution_count": 3,
     "metadata": {},
     "output_type": "execute_result"
    }
   ],
   "source": [
    "nlp(\"Bonjour\").vector[:3]"
   ]
  },
  {
   "cell_type": "code",
   "execution_count": 4,
   "metadata": {},
   "outputs": [
    {
     "data": {
      "text/plain": [
       "300"
      ]
     },
     "execution_count": 4,
     "metadata": {},
     "output_type": "execute_result"
    }
   ],
   "source": [
    "#taille des vecteurs \n",
    "len(nlp(\"Bonjour\").vector)"
   ]
  },
  {
   "cell_type": "code",
   "execution_count": null,
   "metadata": {},
   "outputs": [],
   "source": []
  },
  {
   "cell_type": "code",
   "execution_count": 5,
   "metadata": {},
   "outputs": [
    {
     "data": {
      "text/plain": [
       "array([ 0.12045503, -0.7953717 , -0.97345334], dtype=float32)"
      ]
     },
     "execution_count": 5,
     "metadata": {},
     "output_type": "execute_result"
    }
   ],
   "source": [
    "nlp(\"Mais où est donc Ornicar?\").vector[:3]"
   ]
  },
  {
   "cell_type": "code",
   "execution_count": 6,
   "metadata": {},
   "outputs": [
    {
     "data": {
      "text/plain": [
       "array([ 0.12045503, -0.7953717 , -0.97345334], dtype=float32)"
      ]
     },
     "execution_count": 6,
     "metadata": {},
     "output_type": "execute_result"
    }
   ],
   "source": [
    "v = []\n",
    "for token in nlp(\"Mais où est donc Ornicar?\"):\n",
    "    v.append(token.vector[:3])\n",
    "v = np.array(v)\n",
    "np.mean(v,axis=0)"
   ]
  },
  {
   "cell_type": "code",
   "execution_count": 16,
   "metadata": {},
   "outputs": [
    {
     "data": {
      "text/plain": [
       "array([-0.8534,  0.7579, -1.6385,  1.2507,  1.1918], dtype=float32)"
      ]
     },
     "execution_count": 16,
     "metadata": {},
     "output_type": "execute_result"
    }
   ],
   "source": [
    "nlp(\"Bonjour\").vector[:5]"
   ]
  },
  {
   "cell_type": "code",
   "execution_count": 7,
   "metadata": {},
   "outputs": [
    {
     "data": {
      "text/plain": [
       "array([ 0.70707 , -0.072746, -4.5744  , -0.55461 ,  0.92508 ],\n",
       "      dtype=float32)"
      ]
     },
     "execution_count": 7,
     "metadata": {},
     "output_type": "execute_result"
    }
   ],
   "source": [
    "nlp('coronavirus').vector[:5]"
   ]
  },
  {
   "cell_type": "code",
   "execution_count": 8,
   "metadata": {},
   "outputs": [
    {
     "data": {
      "text/plain": [
       "array([0., 0., 0., 0., 0.], dtype=float32)"
      ]
     },
     "execution_count": 8,
     "metadata": {},
     "output_type": "execute_result"
    }
   ],
   "source": [
    "nlp('covid').vector[:5]"
   ]
  },
  {
   "cell_type": "code",
   "execution_count": 7,
   "metadata": {},
   "outputs": [
    {
     "data": {
      "text/plain": [
       "array([0., 0., 0., 0., 0.], dtype=float32)"
      ]
     },
     "execution_count": 7,
     "metadata": {},
     "output_type": "execute_result"
    }
   ],
   "source": [
    "nlp('covid-19').vector[:5]"
   ]
  },
  {
   "cell_type": "code",
   "execution_count": null,
   "metadata": {},
   "outputs": [],
   "source": []
  },
  {
   "cell_type": "code",
   "execution_count": 10,
   "metadata": {},
   "outputs": [],
   "source": [
    "df = pd.read_csv('../set_train_simple/eqtype_train_test15k_.csv')\n",
    "\n",
    "from sklearn.model_selection import train_test_split\n",
    "\n",
    "train, test = train_test_split(df.copy(), test_size=(1/3), random_state=0)"
   ]
  },
  {
   "cell_type": "code",
   "execution_count": 11,
   "metadata": {},
   "outputs": [
    {
     "name": "stdout",
     "output_type": "stream",
     "text": [
      "0\n",
      "100\n",
      "200\n",
      "300\n",
      "400\n",
      "500\n",
      "600\n",
      "700\n",
      "800\n",
      "900\n",
      "1000\n",
      "1100\n",
      "1200\n",
      "1300\n",
      "1400\n",
      "1500\n",
      "1600\n",
      "1700\n",
      "1800\n",
      "1900\n",
      "2000\n",
      "2100\n",
      "2200\n",
      "2300\n",
      "2400\n",
      "2500\n",
      "2600\n",
      "2700\n",
      "2800\n",
      "2900\n",
      "3000\n",
      "3100\n",
      "3200\n",
      "3300\n",
      "3400\n",
      "3500\n",
      "3600\n",
      "3700\n",
      "3800\n",
      "3900\n",
      "4000\n",
      "4100\n",
      "4200\n",
      "4300\n",
      "4400\n",
      "4500\n",
      "4600\n",
      "4700\n",
      "4800\n",
      "4900\n",
      "5000\n",
      "5100\n",
      "5200\n",
      "5300\n",
      "5400\n",
      "5500\n",
      "5600\n",
      "5700\n",
      "5800\n",
      "5900\n",
      "6000\n",
      "6100\n",
      "6200\n",
      "6300\n",
      "6400\n",
      "6500\n",
      "6600\n",
      "6700\n",
      "6800\n",
      "6900\n",
      "7000\n",
      "7100\n",
      "7200\n",
      "7300\n",
      "7400\n",
      "7500\n",
      "7600\n",
      "7700\n",
      "7800\n",
      "7900\n",
      "8000\n",
      "8100\n",
      "8200\n",
      "8300\n",
      "8400\n",
      "8500\n",
      "8600\n",
      "8700\n",
      "8800\n",
      "8900\n",
      "9000\n",
      "9100\n",
      "9200\n",
      "9300\n",
      "9400\n",
      "9500\n",
      "9600\n",
      "9700\n",
      "9800\n",
      "9900\n"
     ]
    }
   ],
   "source": [
    "vectors = []\n",
    "for i,titre in enumerate (train[\"titre\"]):\n",
    "    if i % 100==0:\n",
    "        print(i)\n",
    "    vectors.append(nlp(str(titre)).vector)\n",
    "train['vector']=vectors"
   ]
  },
  {
   "cell_type": "code",
   "execution_count": 12,
   "metadata": {},
   "outputs": [
    {
     "name": "stdout",
     "output_type": "stream",
     "text": [
      "0\n",
      "100\n",
      "200\n",
      "300\n",
      "400\n",
      "500\n",
      "600\n",
      "700\n",
      "800\n",
      "900\n",
      "1000\n",
      "1100\n",
      "1200\n",
      "1300\n",
      "1400\n",
      "1500\n",
      "1600\n",
      "1700\n",
      "1800\n",
      "1900\n",
      "2000\n",
      "2100\n",
      "2200\n",
      "2300\n",
      "2400\n",
      "2500\n",
      "2600\n",
      "2700\n",
      "2800\n",
      "2900\n",
      "3000\n",
      "3100\n",
      "3200\n",
      "3300\n",
      "3400\n",
      "3500\n",
      "3600\n",
      "3700\n",
      "3800\n",
      "3900\n",
      "4000\n",
      "4100\n",
      "4200\n",
      "4300\n",
      "4400\n",
      "4500\n",
      "4600\n",
      "4700\n",
      "4800\n",
      "4900\n"
     ]
    }
   ],
   "source": [
    "vectors = []\n",
    "for i,titre in enumerate (test[\"titre\"]):\n",
    "    if i % 100==0:\n",
    "        print(i)\n",
    "    vectors.append(nlp(str(titre)).vector)\n",
    "test['vector']=vectors"
   ]
  },
  {
   "cell_type": "code",
   "execution_count": 13,
   "metadata": {},
   "outputs": [],
   "source": [
    "from sklearn.naive_bayes import CategoricalNB\n",
    "from sklearn.metrics import confusion_matrix , accuracy_score\n",
    "\n",
    "from sklearn.neural_network import MLPClassifier\n",
    "\n",
    "\n",
    "\n",
    "X_train = np.array(np.stack(train[\"vector\"]))\n",
    "y_train = train['type']\n",
    "\n",
    "X_test = np.array(np.stack(test[\"vector\"]))\n",
    "y_test = test['type']"
   ]
  },
  {
   "cell_type": "code",
   "execution_count": 14,
   "metadata": {},
   "outputs": [
    {
     "name": "stderr",
     "output_type": "stream",
     "text": [
      "C:\\Users\\Lenovo\\Anaconda3\\lib\\site-packages\\sklearn\\neural_network\\_multilayer_perceptron.py:617: ConvergenceWarning: Stochastic Optimizer: Maximum iterations (200) reached and the optimization hasn't converged yet.\n",
      "  % self.max_iter, ConvergenceWarning)\n"
     ]
    },
    {
     "name": "stdout",
     "output_type": "stream",
     "text": [
      "Accuracy: 0.9958\n"
     ]
    },
    {
     "name": "stderr",
     "output_type": "stream",
     "text": [
      "C:\\Users\\Lenovo\\Anaconda3\\lib\\site-packages\\sklearn\\neural_network\\_multilayer_perceptron.py:617: ConvergenceWarning: Stochastic Optimizer: Maximum iterations (200) reached and the optimization hasn't converged yet.\n",
      "  % self.max_iter, ConvergenceWarning)\n"
     ]
    }
   ],
   "source": [
    "clf = MLPClassifier(random_state=1, max_iter=200, hidden_layer_sizes=50,alpha=0.01).fit(X_train, y_train)\n",
    "clf.fit(X_train, y_train)\n",
    "\n",
    "\n",
    "y_pred_train = clf.predict(X_train)\n",
    "\n",
    "cm_train = confusion_matrix(y_train, y_pred_train)\n",
    "\n",
    "accuracy = accuracy_score(y_train,y_pred_train)\n",
    "print('Accuracy:',accuracy)"
   ]
  },
  {
   "cell_type": "code",
   "execution_count": 15,
   "metadata": {},
   "outputs": [
    {
     "data": {
      "text/plain": [
       "array(['actu', 'parodique', 'people', 'satirique', 'science'], dtype='<U9')"
      ]
     },
     "execution_count": 15,
     "metadata": {},
     "output_type": "execute_result"
    }
   ],
   "source": [
    "clf.classes_"
   ]
  },
  {
   "cell_type": "code",
   "execution_count": 16,
   "metadata": {},
   "outputs": [
    {
     "data": {
      "text/plain": [
       "array([[1933,    6,    0,    7,   20],\n",
       "       [   2, 1980,    0,    2,    2],\n",
       "       [   0,    1, 2005,    0,    0],\n",
       "       [   0,    0,    0, 2023,    0],\n",
       "       [   2,    0,    0,    0, 2017]], dtype=int64)"
      ]
     },
     "execution_count": 16,
     "metadata": {},
     "output_type": "execute_result"
    }
   ],
   "source": [
    "cm_train"
   ]
  },
  {
   "cell_type": "code",
   "execution_count": 17,
   "metadata": {},
   "outputs": [
    {
     "name": "stdout",
     "output_type": "stream",
     "text": [
      "Accuracy: 0.675\n"
     ]
    }
   ],
   "source": [
    "y_pred_test = clf.predict(X_test)\n",
    "\n",
    "cm_test = confusion_matrix(y_test, y_pred_test)\n",
    "\n",
    "#accuracy_score(y_train,y_pred_train)\n",
    "print('Accuracy:', accuracy_score(y_test,y_pred_test))"
   ]
  },
  {
   "cell_type": "code",
   "execution_count": 18,
   "metadata": {},
   "outputs": [
    {
     "data": {
      "text/plain": [
       "array([[502, 157,  58, 148, 169],\n",
       "       [161, 650,  79,  65,  59],\n",
       "       [ 44,  67, 831,  28,  24],\n",
       "       [102,  42,  30, 704,  99],\n",
       "       [112,  73,  22,  86, 688]], dtype=int64)"
      ]
     },
     "execution_count": 18,
     "metadata": {},
     "output_type": "execute_result"
    }
   ],
   "source": [
    "cm_test"
   ]
  },
  {
   "cell_type": "code",
   "execution_count": 19,
   "metadata": {},
   "outputs": [
    {
     "data": {
      "text/plain": [
       "array(['science'], dtype='<U9')"
      ]
     },
     "execution_count": 19,
     "metadata": {},
     "output_type": "execute_result"
    }
   ],
   "source": [
    "clf.predict((nlp('Incendit chez OVH, un beau nuage de données').vector).reshape(1, -1))"
   ]
  },
  {
   "cell_type": "code",
   "execution_count": 20,
   "metadata": {},
   "outputs": [
    {
     "data": {
      "text/plain": [
       "array(['actu'], dtype='<U9')"
      ]
     },
     "execution_count": 20,
     "metadata": {},
     "output_type": "execute_result"
    }
   ],
   "source": [
    "clf.predict((nlp('Pouet pouet, camion!').vector).reshape(1, -1))"
   ]
  },
  {
   "cell_type": "code",
   "execution_count": 21,
   "metadata": {},
   "outputs": [
    {
     "data": {
      "text/plain": [
       "array(['people'], dtype='<U9')"
      ]
     },
     "execution_count": 21,
     "metadata": {},
     "output_type": "execute_result"
    }
   ],
   "source": [
    "clf.predict((nlp('Loana : son incroyable changement physique en 20 photos').vector).reshape(1, -1))"
   ]
  },
  {
   "cell_type": "code",
   "execution_count": 22,
   "metadata": {},
   "outputs": [
    {
     "data": {
      "text/plain": [
       "array(['science'], dtype='<U9')"
      ]
     },
     "execution_count": 22,
     "metadata": {},
     "output_type": "execute_result"
    }
   ],
   "source": [
    "clf.predict((nlp('Le boson de Higgs mis en évidence au CERN').vector).reshape(1, -1))"
   ]
  },
  {
   "cell_type": "code",
   "execution_count": 23,
   "metadata": {},
   "outputs": [
    {
     "data": {
      "text/plain": [
       "array(['parodique'], dtype='<U9')"
      ]
     },
     "execution_count": 23,
     "metadata": {},
     "output_type": "execute_result"
    }
   ],
   "source": [
    "clf.predict((nlp('Le FC Nantes a encore gagné avec brio').vector).reshape(1, -1))"
   ]
  },
  {
   "cell_type": "code",
   "execution_count": 24,
   "metadata": {},
   "outputs": [
    {
     "name": "stdout",
     "output_type": "stream",
     "text": [
      "Accuracy: 0.9879\n"
     ]
    }
   ],
   "source": [
    "#random forest\n",
    "from sklearn.ensemble import RandomForestClassifier\n",
    "\n",
    "clf = RandomForestClassifier(max_depth=13, random_state=0).fit(X_train, y_train)\n",
    "y_pred_train = clf.predict(X_train)\n",
    "\n",
    "cm_train = confusion_matrix(y_train, y_pred_train)\n",
    "\n",
    "accuracy = accuracy_score(y_train,y_pred_train)\n",
    "print('Accuracy:',accuracy)"
   ]
  },
  {
   "cell_type": "code",
   "execution_count": 25,
   "metadata": {},
   "outputs": [
    {
     "data": {
      "text/plain": [
       "RandomForestClassifier(max_depth=13, random_state=0)"
      ]
     },
     "execution_count": 25,
     "metadata": {},
     "output_type": "execute_result"
    }
   ],
   "source": [
    "clf"
   ]
  },
  {
   "cell_type": "code",
   "execution_count": 26,
   "metadata": {},
   "outputs": [
    {
     "name": "stdout",
     "output_type": "stream",
     "text": [
      "Accuracy: 0.6086\n"
     ]
    }
   ],
   "source": [
    "y_pred_test = clf.predict(X_test)\n",
    "\n",
    "cm_test = confusion_matrix(y_test, y_pred_test)\n",
    "\n",
    "#accuracy_score(y_train,y_pred_train)\n",
    "print('Accuracy:', accuracy_score(y_test,y_pred_test))"
   ]
  },
  {
   "cell_type": "code",
   "execution_count": null,
   "metadata": {},
   "outputs": [],
   "source": [
    "#mtériques\n",
    "\n"
   ]
  },
  {
   "cell_type": "code",
   "execution_count": 27,
   "metadata": {},
   "outputs": [
    {
     "data": {
      "text/plain": [
       "array([[-1.35344791e+00, -1.89303398e+00,  1.93870413e+00,\n",
       "         2.23322535e+00, -4.91074383e-01, -4.91520353e-02,\n",
       "         1.73730016e+00,  3.58630002e-01, -1.68119752e+00,\n",
       "         2.20197961e-01, -5.65930009e-01,  2.70967984e+00,\n",
       "        -2.27078390e+00, -1.74688411e+00,  6.22440040e-01,\n",
       "        -4.72168058e-01, -1.68732011e+00, -2.25898600e+00,\n",
       "        -1.12077974e-01,  1.17536402e+00,  1.29848993e+00,\n",
       "        -1.53820825e+00, -3.91060188e-02, -5.17317951e-01,\n",
       "         1.42635986e-01,  1.36126649e+00, -8.44227970e-01,\n",
       "        -5.27398568e-03,  1.98174798e+00, -1.26934397e+00,\n",
       "        -1.64914966e+00, -2.54778814e+00, -2.06648207e+00,\n",
       "        -1.35789990e+00,  2.63188791e+00,  1.38875699e+00,\n",
       "         6.63442016e-01,  1.27122462e+00,  1.54493403e+00,\n",
       "         3.85219991e-01,  8.49204063e-01,  3.69103968e-01,\n",
       "         4.50657994e-01, -6.14460588e-01, -1.93850011e-01,\n",
       "         9.05974030e-01, -2.18189192e+00, -1.77425170e+00,\n",
       "        -9.78328586e-01, -1.69522059e+00,  3.28578055e-01,\n",
       "         5.02318025e-01,  5.42540014e-01, -1.51944757e-01,\n",
       "         1.19096398e+00,  1.16931999e+00, -8.64640832e-01,\n",
       "        -8.76590073e-01, -2.99690008e+00, -1.18797374e+00,\n",
       "        -5.59035778e-01, -1.62151977e-01, -8.57402027e-01,\n",
       "         1.15918195e+00, -1.84425199e+00,  2.51425952e-01,\n",
       "         2.27166224e+00, -1.06122601e+00, -2.62019777e+00,\n",
       "        -6.76091790e-01, -1.61455989e+00,  2.20954585e+00,\n",
       "         1.48950601e+00,  1.02234006e-01, -8.33674610e-01,\n",
       "         1.15596402e+00, -9.51309949e-02,  2.25809813e+00,\n",
       "         9.61192012e-01, -7.40735948e-01, -3.35993886e-01,\n",
       "         2.00079393e+00,  8.88737977e-01,  1.18523002e+00,\n",
       "         1.77858794e+00, -6.30406022e-01, -6.73241973e-01,\n",
       "         2.38956049e-01, -9.86922562e-01,  1.07956207e+00,\n",
       "         7.83880055e-01,  9.88497913e-01,  1.30700397e+00,\n",
       "        -5.26911080e-01,  1.10822201e+00,  2.59887838e+00,\n",
       "         3.07580024e-01, -9.65366006e-01, -1.63044548e+00,\n",
       "         5.55724025e-01,  1.94505024e+00, -1.60288787e+00,\n",
       "        -1.72732025e-01, -1.61880497e-02, -1.89480877e+00,\n",
       "         5.17859936e-01, -2.93296051e+00,  2.00006580e+00,\n",
       "         6.77430034e-01,  4.46384043e-01, -7.46766031e-01,\n",
       "         5.73800225e-03, -5.60766041e-01, -7.11420119e-01,\n",
       "         1.50919986e+00,  5.91776013e-01, -3.02327991e+00,\n",
       "         2.10230780e+00, -1.09990001e+00, -1.98883161e-01,\n",
       "         4.20449913e-01, -3.69555593e+00, -1.59020805e+00,\n",
       "         1.93066597e+00, -4.20085996e-01, -6.25670552e-01,\n",
       "         2.87458205e+00, -1.45969403e+00, -4.86528575e-01,\n",
       "         5.88168025e-01, -2.94946623e+00,  2.93621987e-01,\n",
       "        -3.81440014e-01,  3.00046027e-01, -2.83750582e+00,\n",
       "         8.08248043e-01, -3.71950650e+00, -1.62515008e+00,\n",
       "         6.55841947e-01,  1.88831842e+00, -3.46160047e-02,\n",
       "        -1.21781385e+00, -1.50773597e+00,  3.59245956e-01,\n",
       "         1.65924028e-01, -1.40824032e+00, -1.09983408e+00,\n",
       "        -2.59249985e-01, -3.27150017e-01, -4.59040016e-01,\n",
       "        -7.76718020e-01,  6.64900094e-02,  4.55921894e-04,\n",
       "        -1.05463254e+00,  9.57578003e-01,  3.07699982e-02,\n",
       "        -9.23860297e-02,  1.46833584e-01, -1.19209135e+00,\n",
       "         1.41169000e+00,  9.93721962e-01,  1.03199957e-02,\n",
       "         1.61874413e+00,  6.05060160e-02,  8.91240001e-01,\n",
       "        -1.41715407e+00,  1.77416587e+00,  9.44000483e-03,\n",
       "        -8.81944001e-01, -8.88504028e-01,  7.20722020e-01,\n",
       "        -4.34679985e-01, -2.95294189e+00, -9.55807984e-01,\n",
       "         2.11181998e-01,  7.39061952e-01,  1.75619602e+00,\n",
       "         1.17548001e+00, -8.67731750e-01, -1.83618009e-01,\n",
       "        -1.66587186e+00,  1.10269809e+00,  1.09182608e+00,\n",
       "         1.35106194e+00,  3.16948199e+00,  4.46403980e-01,\n",
       "         1.47297013e+00,  8.45790029e-01,  5.39394021e-01,\n",
       "        -2.24049997e+00,  2.09915400e+00, -4.39125955e-01,\n",
       "         1.31466007e+00,  2.61378384e+00,  8.16048384e-02,\n",
       "         1.55372190e+00,  2.07364225e+00, -8.72842014e-01,\n",
       "         1.29332995e+00, -6.15413964e-01,  2.85686398e+00,\n",
       "        -7.14373946e-01, -9.54283893e-01, -3.26702046e+00,\n",
       "         6.12556100e-01,  7.99479634e-02, -1.23601401e+00,\n",
       "         2.52798805e-03,  2.93808222e-01,  4.91512001e-01,\n",
       "        -2.10154486e+00, -1.60285020e+00,  3.06291938e-01,\n",
       "        -1.47684193e+00, -2.23954415e+00,  1.01930022e-01,\n",
       "         4.13379967e-01,  5.72780013e-01, -2.73620076e-02,\n",
       "         8.40456009e-01, -1.57870889e+00,  2.43420005e-01,\n",
       "        -1.44290423e+00, -2.48071623e+00,  1.89083600e+00,\n",
       "         4.55394089e-01, -4.01516050e-01,  1.21499801e+00,\n",
       "         9.19410050e-01, -2.92437196e-01,  2.07431957e-01,\n",
       "        -1.10453010e+00, -3.99694026e-01, -1.15637469e+00,\n",
       "        -1.30097997e+00, -2.20330024e+00, -1.30649006e+00,\n",
       "         4.52759750e-02,  1.78212583e+00,  2.81765968e-01,\n",
       "        -9.69678044e-01, -4.10261929e-01,  8.44506085e-01,\n",
       "        -3.59439999e-01,  7.91539997e-02, -1.37125123e+00,\n",
       "         1.92477202e+00, -2.86646426e-01, -2.41353822e+00,\n",
       "         1.08048797e+00, -1.22026396e+00, -2.77740061e-01,\n",
       "        -1.93002009e+00, -5.94532005e-02, -4.65053946e-01,\n",
       "         9.54018116e-01, -2.22480036e-02, -1.26375604e+00,\n",
       "         2.83943981e-01, -1.64633596e+00, -6.48825943e-01,\n",
       "         7.28730023e-01, -1.38071990e+00, -5.38828015e-01,\n",
       "         2.62518382e+00, -3.54034036e-01,  1.14234996e+00,\n",
       "         2.58389592e-01, -1.05608010e+00,  9.39360142e-01,\n",
       "        -1.22795103e-03, -4.21910048e-01, -8.20947945e-01,\n",
       "        -4.11433029e+00, -6.86314762e-01,  2.01742506e+00,\n",
       "        -9.04948056e-01, -1.43995190e+00,  2.24481985e-01,\n",
       "        -1.70537698e+00,  3.49221975e-01,  1.85265195e+00,\n",
       "         7.03440011e-01, -3.95827794e+00, -1.38355803e+00,\n",
       "         3.39725995e+00, -6.08633578e-01, -2.34069371e+00,\n",
       "        -5.87616026e-01, -1.03146398e+00,  1.17760205e+00,\n",
       "         1.14537501e+00,  3.72040093e-01,  8.21070224e-02,\n",
       "        -1.20912611e+00, -4.93800819e-01,  1.81947976e-01,\n",
       "        -2.45605636e+00,  2.72579845e-02, -2.62437987e+00]], dtype=float32)"
      ]
     },
     "execution_count": 27,
     "metadata": {},
     "output_type": "execute_result"
    }
   ],
   "source": [
    "test.loc[7602]['vector'].reshape(1,300)"
   ]
  },
  {
   "cell_type": "code",
   "execution_count": 28,
   "metadata": {},
   "outputs": [
    {
     "data": {
      "text/html": [
       "<div>\n",
       "<style scoped>\n",
       "    .dataframe tbody tr th:only-of-type {\n",
       "        vertical-align: middle;\n",
       "    }\n",
       "\n",
       "    .dataframe tbody tr th {\n",
       "        vertical-align: top;\n",
       "    }\n",
       "\n",
       "    .dataframe thead th {\n",
       "        text-align: right;\n",
       "    }\n",
       "</style>\n",
       "<table border=\"1\" class=\"dataframe\">\n",
       "  <thead>\n",
       "    <tr style=\"text-align: right;\">\n",
       "      <th></th>\n",
       "      <th>date</th>\n",
       "      <th>titre</th>\n",
       "      <th>type</th>\n",
       "      <th>vector</th>\n",
       "    </tr>\n",
       "  </thead>\n",
       "  <tbody>\n",
       "    <tr>\n",
       "      <td>14514</td>\n",
       "      <td>2017-09-15</td>\n",
       "      <td>Fronde en France contre un médicament soignant...</td>\n",
       "      <td>science</td>\n",
       "      <td>[-0.1119846, -0.25657687, -1.1866069, 2.074190...</td>\n",
       "    </tr>\n",
       "    <tr>\n",
       "      <td>18</td>\n",
       "      <td>2019-10-18</td>\n",
       "      <td>La dune de Brétignolles-sur-mer résiste toujours</td>\n",
       "      <td>satirique</td>\n",
       "      <td>[-0.13838333, 1.0892982, 0.089066625, 3.518083...</td>\n",
       "    </tr>\n",
       "    <tr>\n",
       "      <td>3923</td>\n",
       "      <td>2017-07-20</td>\n",
       "      <td>Quelle audace ! Gigi Hadid ose le lipstick gri...</td>\n",
       "      <td>people</td>\n",
       "      <td>[-0.6196311, -0.7183322, -1.431294, 1.20738, -...</td>\n",
       "    </tr>\n",
       "    <tr>\n",
       "      <td>950</td>\n",
       "      <td>2018-12-19</td>\n",
       "      <td>Cimon se révolte</td>\n",
       "      <td>satirique</td>\n",
       "      <td>[2.8937533, -3.7095997, -2.2908366, 1.48149, -...</td>\n",
       "    </tr>\n",
       "    <tr>\n",
       "      <td>4084</td>\n",
       "      <td>2017-03-02</td>\n",
       "      <td>Rebelle ? Ivanka Trump porte une robe qui ne p...</td>\n",
       "      <td>people</td>\n",
       "      <td>[-0.076619886, -1.7513213, -2.1070058, 1.62147...</td>\n",
       "    </tr>\n",
       "    <tr>\n",
       "      <td>5909</td>\n",
       "      <td>2017-04-27</td>\n",
       "      <td>Économie : le FN va plus loin et promet le ret...</td>\n",
       "      <td>parodique</td>\n",
       "      <td>[-0.41785848, -1.4213331, -1.3671702, 2.038365...</td>\n",
       "    </tr>\n",
       "    <tr>\n",
       "      <td>3991</td>\n",
       "      <td>2017-08-08</td>\n",
       "      <td>Jean Lassalle, la nouvelle star de l'Assemblée...</td>\n",
       "      <td>people</td>\n",
       "      <td>[-0.6252943, 1.155895, 1.19398, 2.577023, -1.7...</td>\n",
       "    </tr>\n",
       "    <tr>\n",
       "      <td>9942</td>\n",
       "      <td>2017-08-01</td>\n",
       "      <td>Un membre de l’UPR assassine un homme qui ne c...</td>\n",
       "      <td>parodique</td>\n",
       "      <td>[-0.17134805, -3.2362707, -1.1137207, 2.065492...</td>\n",
       "    </tr>\n",
       "    <tr>\n",
       "      <td>8517</td>\n",
       "      <td>2019-08-02</td>\n",
       "      <td>Yann Mingard, une expo à nous glacier le sang</td>\n",
       "      <td>actu</td>\n",
       "      <td>[0.93249214, -1.142941, -1.097996, 1.7002671, ...</td>\n",
       "    </tr>\n",
       "    <tr>\n",
       "      <td>14606</td>\n",
       "      <td>2020-11-14</td>\n",
       "      <td>Un masque chirurgical peut-il être réutilisé ?</td>\n",
       "      <td>science</td>\n",
       "      <td>[0.94788253, -2.3628361, -3.1249402, 2.8241937...</td>\n",
       "    </tr>\n",
       "    <tr>\n",
       "      <td>1269</td>\n",
       "      <td>2017-06-14</td>\n",
       "      <td>Arabie saoudite l'axe du bien a un nouvel ami</td>\n",
       "      <td>satirique</td>\n",
       "      <td>[-1.4792901, -0.058728956, -2.519006, 3.396043...</td>\n",
       "    </tr>\n",
       "    <tr>\n",
       "      <td>9010</td>\n",
       "      <td>2019-07-16</td>\n",
       "      <td>Après James Bond, Joséphine Ange-Gardien chang...</td>\n",
       "      <td>parodique</td>\n",
       "      <td>[0.19200085, 0.04218282, 0.42932212, 1.8670899...</td>\n",
       "    </tr>\n",
       "    <tr>\n",
       "      <td>1379</td>\n",
       "      <td>2019-07-31</td>\n",
       "      <td>En direct de la France</td>\n",
       "      <td>satirique</td>\n",
       "      <td>[-0.63485205, 1.9137242, 2.18924, 1.496, -2.43...</td>\n",
       "    </tr>\n",
       "    <tr>\n",
       "      <td>3873</td>\n",
       "      <td>2016-02-07</td>\n",
       "      <td>Marc-Olivier Fogiel \"adore\" Hanouna mais Decha...</td>\n",
       "      <td>people</td>\n",
       "      <td>[-1.0456011, 3.6354277, 0.08558578, -0.4105749...</td>\n",
       "    </tr>\n",
       "    <tr>\n",
       "      <td>7106</td>\n",
       "      <td>2019-10-01</td>\n",
       "      <td>Rouen : une usine Seveso seuil haut « mise à l...</td>\n",
       "      <td>actu</td>\n",
       "      <td>[-0.32201153, -0.43156382, 1.6412673, 1.997275...</td>\n",
       "    </tr>\n",
       "    <tr>\n",
       "      <td>2267</td>\n",
       "      <td>2017-06-14</td>\n",
       "      <td>Éloge de l'imprévu</td>\n",
       "      <td>satirique</td>\n",
       "      <td>[0.21617487, -1.1609882, 0.9610499, 2.3448224,...</td>\n",
       "    </tr>\n",
       "    <tr>\n",
       "      <td>14431</td>\n",
       "      <td>2018-04-29</td>\n",
       "      <td>Tabac: ajustements du prix des cigarettes dès ...</td>\n",
       "      <td>science</td>\n",
       "      <td>[-0.015840804, -0.26245832, 0.6517392, 1.39884...</td>\n",
       "    </tr>\n",
       "    <tr>\n",
       "      <td>45</td>\n",
       "      <td>2017-07-12</td>\n",
       "      <td>Et si on supprimait tous les plastiques ?</td>\n",
       "      <td>satirique</td>\n",
       "      <td>[2.0918632, -1.2460322, -1.6632546, -0.0942611...</td>\n",
       "    </tr>\n",
       "    <tr>\n",
       "      <td>11264</td>\n",
       "      <td>2017-10-11</td>\n",
       "      <td>Love : Qui doit payer l'addition au premier re...</td>\n",
       "      <td>people</td>\n",
       "      <td>[-0.5460352, -1.3136617, -0.56647366, 1.189367...</td>\n",
       "    </tr>\n",
       "    <tr>\n",
       "      <td>1457</td>\n",
       "      <td>2019-06-19</td>\n",
       "      <td>Radio gaga</td>\n",
       "      <td>satirique</td>\n",
       "      <td>[-0.25084, 2.3663, -0.73910004, 0.43659997, 1....</td>\n",
       "    </tr>\n",
       "    <tr>\n",
       "      <td>7157</td>\n",
       "      <td>2017-06-01</td>\n",
       "      <td>Bayrou présente une vaste réforme pour redonne...</td>\n",
       "      <td>actu</td>\n",
       "      <td>[-0.048077133, 1.0135456, -1.330767, 1.7213014...</td>\n",
       "    </tr>\n",
       "    <tr>\n",
       "      <td>2444</td>\n",
       "      <td>2017-06-28</td>\n",
       "      <td>Cinéma les morts, les vivants  et les morts-vi...</td>\n",
       "      <td>satirique</td>\n",
       "      <td>[1.1839, -0.15066753, 0.28264585, 0.46804333, ...</td>\n",
       "    </tr>\n",
       "    <tr>\n",
       "      <td>5855</td>\n",
       "      <td>2018-06-19</td>\n",
       "      <td>Bac Philo : le corrigé de Jean-Luc Reichmann</td>\n",
       "      <td>parodique</td>\n",
       "      <td>[-0.6488576, -0.958103, 0.81832993, 1.9580375,...</td>\n",
       "    </tr>\n",
       "    <tr>\n",
       "      <td>9992</td>\n",
       "      <td>2018-11-03</td>\n",
       "      <td>Meghan Markle a déjà accouché et prouve son ap...</td>\n",
       "      <td>parodique</td>\n",
       "      <td>[-1.4192704, 0.7397244, -1.4019881, 2.3661876,...</td>\n",
       "    </tr>\n",
       "    <tr>\n",
       "      <td>5244</td>\n",
       "      <td>2019-05-25</td>\n",
       "      <td>Alice in Chains, une première à l’Olympia pour...</td>\n",
       "      <td>actu</td>\n",
       "      <td>[-0.65405226, -1.1489507, 0.15736689, 1.771301...</td>\n",
       "    </tr>\n",
       "    <tr>\n",
       "      <td>5439</td>\n",
       "      <td>2017-02-03</td>\n",
       "      <td>Gorafi Magazine : On a mis une photo de Franço...</td>\n",
       "      <td>parodique</td>\n",
       "      <td>[-0.3338751, 1.7061744, -1.0697775, 1.6045499,...</td>\n",
       "    </tr>\n",
       "    <tr>\n",
       "      <td>4063</td>\n",
       "      <td>2016-09-24</td>\n",
       "      <td>Jean-Marc Morandini répond aux attaques et réf...</td>\n",
       "      <td>people</td>\n",
       "      <td>[0.13567938, 0.3122758, -0.29156333, 0.2662950...</td>\n",
       "    </tr>\n",
       "    <tr>\n",
       "      <td>8971</td>\n",
       "      <td>2016-12-12</td>\n",
       "      <td>Lettre ouverte d’un habitant de Sevran à France 2</td>\n",
       "      <td>actu</td>\n",
       "      <td>[0.6864961, -0.77516305, 0.2848569, 2.3954406,...</td>\n",
       "    </tr>\n",
       "    <tr>\n",
       "      <td>8164</td>\n",
       "      <td>2020-04-03</td>\n",
       "      <td>Inquiétude mondiale sur les inévitables pénuri...</td>\n",
       "      <td>actu</td>\n",
       "      <td>[1.0766963, 0.30030125, 0.17132002, 1.2045561,...</td>\n",
       "    </tr>\n",
       "    <tr>\n",
       "      <td>11204</td>\n",
       "      <td>2017-01-05</td>\n",
       "      <td>Sexo : Pour booster votre système immunitaire,...</td>\n",
       "      <td>people</td>\n",
       "      <td>[-0.66543174, -0.9098248, 0.06310353, 1.745167...</td>\n",
       "    </tr>\n",
       "  </tbody>\n",
       "</table>\n",
       "</div>"
      ],
      "text/plain": [
       "             date                                              titre  \\\n",
       "14514  2017-09-15  Fronde en France contre un médicament soignant...   \n",
       "18     2019-10-18   La dune de Brétignolles-sur-mer résiste toujours   \n",
       "3923   2017-07-20  Quelle audace ! Gigi Hadid ose le lipstick gri...   \n",
       "950    2018-12-19                                   Cimon se révolte   \n",
       "4084   2017-03-02  Rebelle ? Ivanka Trump porte une robe qui ne p...   \n",
       "5909   2017-04-27  Économie : le FN va plus loin et promet le ret...   \n",
       "3991   2017-08-08  Jean Lassalle, la nouvelle star de l'Assemblée...   \n",
       "9942   2017-08-01  Un membre de l’UPR assassine un homme qui ne c...   \n",
       "8517   2019-08-02      Yann Mingard, une expo à nous glacier le sang   \n",
       "14606  2020-11-14     Un masque chirurgical peut-il être réutilisé ?   \n",
       "1269   2017-06-14      Arabie saoudite l'axe du bien a un nouvel ami   \n",
       "9010   2019-07-16  Après James Bond, Joséphine Ange-Gardien chang...   \n",
       "1379   2019-07-31                             En direct de la France   \n",
       "3873   2016-02-07  Marc-Olivier Fogiel \"adore\" Hanouna mais Decha...   \n",
       "7106   2019-10-01  Rouen : une usine Seveso seuil haut « mise à l...   \n",
       "2267   2017-06-14                                 Éloge de l'imprévu   \n",
       "14431  2018-04-29  Tabac: ajustements du prix des cigarettes dès ...   \n",
       "45     2017-07-12          Et si on supprimait tous les plastiques ?   \n",
       "11264  2017-10-11  Love : Qui doit payer l'addition au premier re...   \n",
       "1457   2019-06-19                                         Radio gaga   \n",
       "7157   2017-06-01  Bayrou présente une vaste réforme pour redonne...   \n",
       "2444   2017-06-28  Cinéma les morts, les vivants  et les morts-vi...   \n",
       "5855   2018-06-19       Bac Philo : le corrigé de Jean-Luc Reichmann   \n",
       "9992   2018-11-03  Meghan Markle a déjà accouché et prouve son ap...   \n",
       "5244   2019-05-25  Alice in Chains, une première à l’Olympia pour...   \n",
       "5439   2017-02-03  Gorafi Magazine : On a mis une photo de Franço...   \n",
       "4063   2016-09-24  Jean-Marc Morandini répond aux attaques et réf...   \n",
       "8971   2016-12-12  Lettre ouverte d’un habitant de Sevran à France 2   \n",
       "8164   2020-04-03  Inquiétude mondiale sur les inévitables pénuri...   \n",
       "11204  2017-01-05  Sexo : Pour booster votre système immunitaire,...   \n",
       "\n",
       "            type                                             vector  \n",
       "14514    science  [-0.1119846, -0.25657687, -1.1866069, 2.074190...  \n",
       "18     satirique  [-0.13838333, 1.0892982, 0.089066625, 3.518083...  \n",
       "3923      people  [-0.6196311, -0.7183322, -1.431294, 1.20738, -...  \n",
       "950    satirique  [2.8937533, -3.7095997, -2.2908366, 1.48149, -...  \n",
       "4084      people  [-0.076619886, -1.7513213, -2.1070058, 1.62147...  \n",
       "5909   parodique  [-0.41785848, -1.4213331, -1.3671702, 2.038365...  \n",
       "3991      people  [-0.6252943, 1.155895, 1.19398, 2.577023, -1.7...  \n",
       "9942   parodique  [-0.17134805, -3.2362707, -1.1137207, 2.065492...  \n",
       "8517        actu  [0.93249214, -1.142941, -1.097996, 1.7002671, ...  \n",
       "14606    science  [0.94788253, -2.3628361, -3.1249402, 2.8241937...  \n",
       "1269   satirique  [-1.4792901, -0.058728956, -2.519006, 3.396043...  \n",
       "9010   parodique  [0.19200085, 0.04218282, 0.42932212, 1.8670899...  \n",
       "1379   satirique  [-0.63485205, 1.9137242, 2.18924, 1.496, -2.43...  \n",
       "3873      people  [-1.0456011, 3.6354277, 0.08558578, -0.4105749...  \n",
       "7106        actu  [-0.32201153, -0.43156382, 1.6412673, 1.997275...  \n",
       "2267   satirique  [0.21617487, -1.1609882, 0.9610499, 2.3448224,...  \n",
       "14431    science  [-0.015840804, -0.26245832, 0.6517392, 1.39884...  \n",
       "45     satirique  [2.0918632, -1.2460322, -1.6632546, -0.0942611...  \n",
       "11264     people  [-0.5460352, -1.3136617, -0.56647366, 1.189367...  \n",
       "1457   satirique  [-0.25084, 2.3663, -0.73910004, 0.43659997, 1....  \n",
       "7157        actu  [-0.048077133, 1.0135456, -1.330767, 1.7213014...  \n",
       "2444   satirique  [1.1839, -0.15066753, 0.28264585, 0.46804333, ...  \n",
       "5855   parodique  [-0.6488576, -0.958103, 0.81832993, 1.9580375,...  \n",
       "9992   parodique  [-1.4192704, 0.7397244, -1.4019881, 2.3661876,...  \n",
       "5244        actu  [-0.65405226, -1.1489507, 0.15736689, 1.771301...  \n",
       "5439   parodique  [-0.3338751, 1.7061744, -1.0697775, 1.6045499,...  \n",
       "4063      people  [0.13567938, 0.3122758, -0.29156333, 0.2662950...  \n",
       "8971        actu  [0.6864961, -0.77516305, 0.2848569, 2.3954406,...  \n",
       "8164        actu  [1.0766963, 0.30030125, 0.17132002, 1.2045561,...  \n",
       "11204     people  [-0.66543174, -0.9098248, 0.06310353, 1.745167...  "
      ]
     },
     "execution_count": 28,
     "metadata": {},
     "output_type": "execute_result"
    }
   ],
   "source": [
    "test[400:430]"
   ]
  },
  {
   "cell_type": "code",
   "execution_count": 29,
   "metadata": {},
   "outputs": [
    {
     "data": {
      "text/plain": [
       "array(['actu'], dtype=object)"
      ]
     },
     "execution_count": 29,
     "metadata": {},
     "output_type": "execute_result"
    }
   ],
   "source": [
    "clf.predict(np.stack(test[328:329]['vector']))"
   ]
  },
  {
   "cell_type": "code",
   "execution_count": 30,
   "metadata": {},
   "outputs": [
    {
     "data": {
      "text/plain": [
       "array(['people'], dtype=object)"
      ]
     },
     "execution_count": 30,
     "metadata": {},
     "output_type": "execute_result"
    }
   ],
   "source": [
    "clf.predict(test.loc[9010]['vector'].reshape(1,300))"
   ]
  },
  {
   "cell_type": "code",
   "execution_count": 31,
   "metadata": {},
   "outputs": [
    {
     "name": "stdout",
     "output_type": "stream",
     "text": [
      "chien True 29.814888 False\n",
      "chat True 36.303852 False\n",
      "cerise True 22.43536 False\n",
      "pomme True 29.365248 False\n",
      "reine True 30.181189 False\n",
      "roi True 58.487267 False\n",
      "covid False 0.0 True\n"
     ]
    }
   ],
   "source": [
    "tokens = nlp(\"chien chat cerise pomme reine roi covid\")\n",
    "\n",
    "for token in tokens:\n",
    "    print(token.text, token.has_vector, token.vector_norm, token.is_oov)"
   ]
  },
  {
   "cell_type": "markdown",
   "metadata": {},
   "source": [
    "# test Fasttext"
   ]
  },
  {
   "cell_type": "code",
   "execution_count": 32,
   "metadata": {},
   "outputs": [
    {
     "name": "stderr",
     "output_type": "stream",
     "text": [
      "Warning : `load_model` does not return WordVectorModel or SupervisedModel any more, but a `FastText` object which is very similar.\n"
     ]
    }
   ],
   "source": [
    "import fasttext\n",
    "ft = fasttext.load_model('./fasttext/cc.fr.300.bin')"
   ]
  },
  {
   "cell_type": "code",
   "execution_count": 33,
   "metadata": {},
   "outputs": [
    {
     "data": {
      "text/plain": [
       "array([ 0.01558981,  0.00724296,  0.00020723,  0.00859443,  0.00386667,\n",
       "       -0.01916484,  0.02798465, -0.0090925 ,  0.02790334, -0.0085213 ,\n",
       "        0.01516476, -0.00863314, -0.01517181,  0.00408668,  0.0042271 ,\n",
       "       -0.00527015, -0.00155622, -0.00274517,  0.0151117 , -0.00397785,\n",
       "        0.00153633,  0.01015168,  0.02503621,  0.00744972, -0.00630598,\n",
       "       -0.01395096, -0.01072407, -0.02084028, -0.00318747, -0.01111878,\n",
       "        0.01707964,  0.02662326,  0.02691772, -0.01092142, -0.00099457,\n",
       "        0.00751985,  0.01087526, -0.03254809, -0.03660877,  0.00885346,\n",
       "       -0.03155928, -0.00512531,  0.02507202, -0.014594  ,  0.0206846 ,\n",
       "        0.12876317,  0.01242106, -0.01114142,  0.01382924, -0.0043252 ,\n",
       "        0.03757777, -0.02352742, -0.01018777, -0.00198512,  0.00142792,\n",
       "        0.03629615, -0.00570226, -0.01976028,  0.01170014, -0.00260037,\n",
       "       -0.050543  , -0.01526435,  0.01144967,  0.00558585,  0.01775417,\n",
       "       -0.02286035,  0.01177743, -0.02892347, -0.00720178, -0.03132412,\n",
       "       -0.03182902,  0.00882238,  0.02460383, -0.00275369,  0.00056202,\n",
       "        0.00218437,  0.01296935, -0.02005599, -0.01344944,  0.00661494,\n",
       "       -0.01705179,  0.0111834 ,  0.00458233, -0.04788548, -0.01123376,\n",
       "        0.01338623, -0.02027658, -0.02497526,  0.00179338,  0.01466604,\n",
       "       -0.02049101,  0.00691027, -0.00482936, -0.00851576,  0.02266659,\n",
       "        0.0149582 ,  0.0128138 ,  0.00151839,  0.00808222, -0.02766081,\n",
       "       -0.00432884,  0.00263824, -0.00318522,  0.01630288, -0.00109649,\n",
       "        0.01131203,  0.01172646, -0.00590553, -0.01426498, -0.00911609,\n",
       "       -0.00555955,  0.00480444,  0.00468109, -0.00685902,  0.00492269,\n",
       "       -0.02191412, -0.00084562, -0.01039488, -0.00947075, -0.00421506,\n",
       "       -0.02209497, -0.00343431, -0.01256968, -0.00352354, -0.01681142,\n",
       "       -0.01905697, -0.00550919, -0.00552235, -0.0165731 , -0.02532323,\n",
       "       -0.023252  , -0.01298356,  0.0065578 ,  0.00781507,  0.01915279,\n",
       "       -0.00124157,  0.00043148,  0.02628827, -0.01408899, -0.04202852,\n",
       "       -0.02937813, -0.02761723,  0.00483243,  0.02161947, -0.00497859,\n",
       "        0.01084735,  0.00316703, -0.00982586, -0.0018451 ,  0.00340369,\n",
       "        0.04814049,  0.00463891, -0.01177328,  0.01267513, -0.00141661,\n",
       "        0.00468499,  0.00088564,  0.02551339, -0.03168792, -0.00800608,\n",
       "        0.00530569,  0.01136301, -0.02382528, -0.00732646,  0.00779734,\n",
       "       -0.01900374,  0.01113233,  0.01683968, -0.01372753, -0.00143852,\n",
       "        0.01960525, -0.00273605,  0.05856486, -0.00437261, -0.01823664,\n",
       "       -0.02661074, -0.01177969, -0.02694153,  0.01374511, -0.0004317 ,\n",
       "        0.0066181 ,  0.01897666,  0.0224975 ,  0.01326934,  0.01776361,\n",
       "        0.00261882,  0.011834  ,  0.01879151,  0.00048526, -0.01015396,\n",
       "        0.01393357,  0.02341809,  0.00094856, -0.03469972, -0.00581697,\n",
       "       -0.01380929, -0.00213827,  0.01769436, -0.02111018, -0.00840622,\n",
       "       -0.01118008,  0.0036438 , -0.01113196, -0.03020313, -0.00137906,\n",
       "       -0.01603831,  0.02778956,  0.01086647, -0.02824348, -0.00789928,\n",
       "       -0.02079784,  0.02569894, -0.02029205, -0.01435559,  0.00665252,\n",
       "        0.02889464, -0.02201812,  0.00789955, -0.00215118, -0.00809902,\n",
       "       -0.0158032 , -0.00781831, -0.01827826,  0.02426849, -0.02974525,\n",
       "        0.00238061,  0.01318737, -0.00489087,  0.0034791 , -0.00833381,\n",
       "       -0.00407811, -0.04356664, -0.03460761,  0.01607193, -0.00679516,\n",
       "        0.01204305,  0.01156828, -0.0241385 , -0.00932125,  0.01239704,\n",
       "       -0.02859019, -0.04327751, -0.00192353,  0.02034921, -0.03766216,\n",
       "        0.00264971,  0.01117092,  0.00802487, -0.00800167, -0.00428489,\n",
       "       -0.01797631,  0.01006153,  0.01323638,  0.01983167, -0.04176911,\n",
       "        0.01134743,  0.0259242 , -0.00480039,  0.02834015,  0.02355404,\n",
       "        0.01483143, -0.02207546, -0.02069966, -0.00277963, -0.00307822,\n",
       "        0.0138116 ,  0.04973471, -0.01037549,  0.00922215, -0.01408136,\n",
       "       -0.00483241,  0.00955601,  0.01572806, -0.00158863, -0.02969028,\n",
       "       -0.00154359,  0.00479424,  0.00076109, -0.00995906,  0.00753154,\n",
       "        0.00287912, -0.00122363, -0.02420837,  0.00111996,  0.02795396,\n",
       "        0.00031858, -0.00316368, -0.00997925, -0.02537215, -0.02661745,\n",
       "       -0.00488085,  0.03078562, -0.00775021,  0.04327682,  0.01141644,\n",
       "        0.01364106, -0.00510192, -0.02400314, -0.00985375, -0.02164798],\n",
       "      dtype=float32)"
      ]
     },
     "execution_count": 33,
     "metadata": {},
     "output_type": "execute_result"
    }
   ],
   "source": [
    "ft.get_word_vector('a la')"
   ]
  },
  {
   "cell_type": "code",
   "execution_count": 34,
   "metadata": {},
   "outputs": [
    {
     "data": {
      "text/plain": [
       "['je', 'suis', 'un', 'amis', 'de', 'la', 'famille']"
      ]
     },
     "execution_count": 34,
     "metadata": {},
     "output_type": "execute_result"
    }
   ],
   "source": [
    "\n",
    "(\"je suis un amis de la famille\").split()"
   ]
  },
  {
   "cell_type": "code",
   "execution_count": 35,
   "metadata": {},
   "outputs": [
    {
     "data": {
      "text/plain": [
       "array([-0.00739406,  0.0079207 ,  0.00353705], dtype=float32)"
      ]
     },
     "execution_count": 35,
     "metadata": {},
     "output_type": "execute_result"
    }
   ],
   "source": [
    "ft.get_word_vector(\"je suis un amis de la famille \")[:3]"
   ]
  },
  {
   "cell_type": "code",
   "execution_count": 36,
   "metadata": {},
   "outputs": [
    {
     "data": {
      "text/plain": [
       "array([ 0.00573167, -0.01054828,  0.02611363], dtype=float32)"
      ]
     },
     "execution_count": 36,
     "metadata": {},
     "output_type": "execute_result"
    }
   ],
   "source": [
    "v = []\n",
    "for token in (\"je suis un amis de la famille \").split():\n",
    "    v.append(ft.get_word_vector(str(token))[:3])\n",
    "v = np.array(v)\n",
    "np.mean(v,axis=0)"
   ]
  },
  {
   "cell_type": "code",
   "execution_count": 37,
   "metadata": {},
   "outputs": [
    {
     "data": {
      "text/plain": [
       "[(0.46579504013061523, 'Leposaviq'),\n",
       " (0.436837375164032, 'Dovid'),\n",
       " (0.4279879033565521, 'Rodovid'),\n",
       " (0.40892016887664795, 'Leposavić'),\n",
       " (0.387155145406723,\n",
       "  'babylone-2-0-le-groupe-facebook-secret-qui-diffuse-des-photos-volees-de-femmes-nues-482095.htmlLCI'),\n",
       " (0.3854500353336334, 'jahia'),\n",
       " (0.3773195147514343, 'WebChat'),\n",
       " (0.3767986595630646, 'GrodlLukáš'),\n",
       " (0.37524208426475525,\n",
       "  'CrônicasEsdrasNeemiasEsterJóSalmosProvérbiosEclesiastesCânticosIsaíasJeremiasLamentaçõesEzequielDanielOséiasJoelAmósObadiasJonasMiquéiasNaumHabacuqueSofoniasAgeuZacariasMalaquiasNovo'),\n",
       " (0.37134307622909546, 'directory.eoportal.org')]"
      ]
     },
     "execution_count": 37,
     "metadata": {},
     "output_type": "execute_result"
    }
   ],
   "source": [
    "ft.get_nearest_neighbors('covid')"
   ]
  },
  {
   "cell_type": "code",
   "execution_count": 38,
   "metadata": {},
   "outputs": [
    {
     "data": {
      "text/plain": [
       "[(0.6743189692497253, 'pourkoi'),\n",
       " (0.6606318950653076, 'alor'),\n",
       " (0.620459258556366, 'qoi'),\n",
       " (0.6180223822593689, 'kelkun'),\n",
       " (0.6123362183570862, 'quoid'),\n",
       " (0.6016865968704224, 'kelkin'),\n",
       " (0.5949128866195679, 'fodrai'),\n",
       " (0.5885655879974365, 'jvoulé'),\n",
       " (0.5868099331855774, 'jvois'),\n",
       " (0.586654782295227, 'pkoi')]"
      ]
     },
     "execution_count": 38,
     "metadata": {},
     "output_type": "execute_result"
    }
   ],
   "source": [
    "ft.get_nearest_neighbors('koi')"
   ]
  },
  {
   "cell_type": "code",
   "execution_count": 39,
   "metadata": {},
   "outputs": [
    {
     "data": {
      "text/plain": [
       "array([0.04253509, 0.1088779 , 0.18245952], dtype=float32)"
      ]
     },
     "execution_count": 39,
     "metadata": {},
     "output_type": "execute_result"
    }
   ],
   "source": [
    "ft.get_word_vector(\"je\")[:3]"
   ]
  },
  {
   "cell_type": "code",
   "execution_count": 40,
   "metadata": {},
   "outputs": [
    {
     "name": "stdout",
     "output_type": "stream",
     "text": [
      "0\n",
      "100\n",
      "200\n",
      "300\n",
      "400\n",
      "500\n",
      "600\n",
      "700\n",
      "800\n",
      "900\n",
      "1000\n",
      "1100\n",
      "1200\n",
      "1300\n",
      "1400\n",
      "1500\n",
      "1600\n",
      "1700\n",
      "1800\n",
      "1900\n",
      "2000\n",
      "2100\n",
      "2200\n",
      "2300\n",
      "2400\n",
      "2500\n",
      "2600\n",
      "2700\n",
      "2800\n",
      "2900\n",
      "3000\n",
      "3100\n",
      "3200\n",
      "3300\n",
      "3400\n",
      "3500\n",
      "3600\n",
      "3700\n",
      "3800\n",
      "3900\n",
      "4000\n",
      "4100\n",
      "4200\n",
      "4300\n",
      "4400\n",
      "4500\n",
      "4600\n",
      "4700\n",
      "4800\n",
      "4900\n",
      "5000\n",
      "5100\n",
      "5200\n",
      "5300\n",
      "5400\n",
      "5500\n",
      "5600\n",
      "5700\n",
      "5800\n",
      "5900\n",
      "6000\n",
      "6100\n",
      "6200\n",
      "6300\n",
      "6400\n",
      "6500\n",
      "6600\n",
      "6700\n",
      "6800\n",
      "6900\n",
      "7000\n",
      "7100\n",
      "7200\n",
      "7300\n",
      "7400\n",
      "7500\n",
      "7600\n",
      "7700\n",
      "7800\n",
      "7900\n",
      "8000\n",
      "8100\n",
      "8200\n",
      "8300\n",
      "8400\n",
      "8500\n",
      "8600\n",
      "8700\n",
      "8800\n",
      "8900\n",
      "9000\n",
      "9100\n",
      "9200\n",
      "9300\n",
      "9400\n",
      "9500\n",
      "9600\n",
      "9700\n",
      "9800\n",
      "9900\n"
     ]
    }
   ],
   "source": [
    "vectors_ft = []\n",
    "for i,titre in enumerate (train[\"titre\"]):\n",
    "    if i % 100==0:\n",
    "        print(i)\n",
    "    vectors_ft.append(ft.get_word_vector(str(titre)))\n",
    "train['vector_ft']=vectors_ft"
   ]
  },
  {
   "cell_type": "code",
   "execution_count": 41,
   "metadata": {},
   "outputs": [
    {
     "name": "stdout",
     "output_type": "stream",
     "text": [
      "0\n",
      "100\n",
      "200\n",
      "300\n",
      "400\n",
      "500\n",
      "600\n",
      "700\n",
      "800\n",
      "900\n",
      "1000\n",
      "1100\n",
      "1200\n",
      "1300\n",
      "1400\n",
      "1500\n",
      "1600\n",
      "1700\n",
      "1800\n",
      "1900\n",
      "2000\n",
      "2100\n",
      "2200\n",
      "2300\n",
      "2400\n",
      "2500\n",
      "2600\n",
      "2700\n",
      "2800\n",
      "2900\n",
      "3000\n",
      "3100\n",
      "3200\n",
      "3300\n",
      "3400\n",
      "3500\n",
      "3600\n",
      "3700\n",
      "3800\n",
      "3900\n",
      "4000\n",
      "4100\n",
      "4200\n",
      "4300\n",
      "4400\n",
      "4500\n",
      "4600\n",
      "4700\n",
      "4800\n",
      "4900\n"
     ]
    }
   ],
   "source": [
    "vectors_ft = []\n",
    "for i,titre in enumerate (test[\"titre\"]):\n",
    "    if i % 100==0:\n",
    "        print(i)\n",
    "    vectors_ft.append(ft.get_word_vector(str(titre)))\n",
    "test['vector_ft']=vectors_ft"
   ]
  },
  {
   "cell_type": "code",
   "execution_count": 42,
   "metadata": {},
   "outputs": [],
   "source": [
    "X_train = np.array(np.stack(train[\"vector_ft\"]))\n",
    "y_train = train['type']\n",
    "\n",
    "X_test = np.array(np.stack(test[\"vector_ft\"]))\n",
    "y_test = test['type']"
   ]
  },
  {
   "cell_type": "code",
   "execution_count": 43,
   "metadata": {},
   "outputs": [
    {
     "name": "stderr",
     "output_type": "stream",
     "text": [
      "C:\\Users\\Lenovo\\Anaconda3\\lib\\site-packages\\sklearn\\neural_network\\_multilayer_perceptron.py:617: ConvergenceWarning: Stochastic Optimizer: Maximum iterations (300) reached and the optimization hasn't converged yet.\n",
      "  % self.max_iter, ConvergenceWarning)\n",
      "C:\\Users\\Lenovo\\Anaconda3\\lib\\site-packages\\sklearn\\neural_network\\_multilayer_perceptron.py:617: ConvergenceWarning: Stochastic Optimizer: Maximum iterations (300) reached and the optimization hasn't converged yet.\n",
      "  % self.max_iter, ConvergenceWarning)\n"
     ]
    },
    {
     "name": "stdout",
     "output_type": "stream",
     "text": [
      "Accuracy: 0.6999\n"
     ]
    }
   ],
   "source": [
    "clf = MLPClassifier(random_state=1, max_iter=300, \n",
    "                    hidden_layer_sizes=80,alpha=0.01,\n",
    "                    learning_rate='invscaling',\n",
    "                   learning_rate_init=0.001).fit(X_train, y_train)\n",
    "clf.fit(X_train, y_train)\n",
    "\n",
    "\n",
    "y_pred_train = clf.predict(X_train)\n",
    "\n",
    "cm_train = confusion_matrix(y_train, y_pred_train)\n",
    "\n",
    "accuracy = accuracy_score(y_train,y_pred_train)\n",
    "print('Accuracy:',accuracy)"
   ]
  },
  {
   "cell_type": "code",
   "execution_count": 44,
   "metadata": {},
   "outputs": [
    {
     "name": "stdout",
     "output_type": "stream",
     "text": [
      "Accuracy: 0.5464\n"
     ]
    }
   ],
   "source": [
    "y_pred_test = clf.predict(X_test)\n",
    "\n",
    "cm_test = confusion_matrix(y_test, y_pred_test)\n",
    "\n",
    "#accuracy_score(y_train,y_pred_train)\n",
    "print('Accuracy:', accuracy_score(y_test,y_pred_test))"
   ]
  },
  {
   "cell_type": "code",
   "execution_count": 45,
   "metadata": {},
   "outputs": [
    {
     "data": {
      "text/html": [
       "<div>\n",
       "<style scoped>\n",
       "    .dataframe tbody tr th:only-of-type {\n",
       "        vertical-align: middle;\n",
       "    }\n",
       "\n",
       "    .dataframe tbody tr th {\n",
       "        vertical-align: top;\n",
       "    }\n",
       "\n",
       "    .dataframe thead th {\n",
       "        text-align: right;\n",
       "    }\n",
       "</style>\n",
       "<table border=\"1\" class=\"dataframe\">\n",
       "  <thead>\n",
       "    <tr style=\"text-align: right;\">\n",
       "      <th></th>\n",
       "      <th>date</th>\n",
       "      <th>titre</th>\n",
       "      <th>type</th>\n",
       "      <th>vector</th>\n",
       "      <th>vector_ft</th>\n",
       "    </tr>\n",
       "  </thead>\n",
       "  <tbody>\n",
       "    <tr>\n",
       "      <td>12838</td>\n",
       "      <td>2018-05-22</td>\n",
       "      <td>Les zones d'ombre du code source de Parcoursup</td>\n",
       "      <td>science</td>\n",
       "      <td>[0.6533856, -0.5908422, 0.6471245, 1.6466993, ...</td>\n",
       "      <td>[-0.010792193, 0.009429373, 0.007772304, 0.003...</td>\n",
       "    </tr>\n",
       "    <tr>\n",
       "      <td>4772</td>\n",
       "      <td>2018-06-25</td>\n",
       "      <td>Oscar Vela (Elior Group), Serge Morelli (Axa),...</td>\n",
       "      <td>actu</td>\n",
       "      <td>[-1.2111242, 2.027541, 2.1903155, 1.2944391, -...</td>\n",
       "      <td>[-0.0029092066, -0.000761234, 0.0058668675, -0...</td>\n",
       "    </tr>\n",
       "    <tr>\n",
       "      <td>5342</td>\n",
       "      <td>2017-04-24</td>\n",
       "      <td>François Fillon dénonce un acharnement des Fra...</td>\n",
       "      <td>parodique</td>\n",
       "      <td>[0.36201003, -1.409817, -1.4338468, 2.0844471,...</td>\n",
       "      <td>[-0.0006036326, -3.366894e-05, -0.0005136254, ...</td>\n",
       "    </tr>\n",
       "    <tr>\n",
       "      <td>9333</td>\n",
       "      <td>2019-04-16</td>\n",
       "      <td>Un passeport syrien en parfait état retrouvé d...</td>\n",
       "      <td>parodique</td>\n",
       "      <td>[1.0026183, -0.39407402, 0.01794928, 0.9272113...</td>\n",
       "      <td>[0.0021052142, -0.002624337, 0.0040472997, -0....</td>\n",
       "    </tr>\n",
       "    <tr>\n",
       "      <td>6499</td>\n",
       "      <td>2018-01-15</td>\n",
       "      <td>Balle aux prisonniers : Il réapprend à vivre d...</td>\n",
       "      <td>parodique</td>\n",
       "      <td>[1.784022, -1.2697986, -0.39021853, 1.225765, ...</td>\n",
       "      <td>[2.4496765e-05, 0.0074398676, -0.0056175417, -...</td>\n",
       "    </tr>\n",
       "    <tr>\n",
       "      <td>...</td>\n",
       "      <td>...</td>\n",
       "      <td>...</td>\n",
       "      <td>...</td>\n",
       "      <td>...</td>\n",
       "      <td>...</td>\n",
       "    </tr>\n",
       "    <tr>\n",
       "      <td>13123</td>\n",
       "      <td>2017-11-13</td>\n",
       "      <td>L'Esma avertit qu'une cryptomonnaie peut perdr...</td>\n",
       "      <td>science</td>\n",
       "      <td>[-0.35314548, -2.32449, -2.2268734, 2.1695452,...</td>\n",
       "      <td>[0.01671319, 0.0024664034, -0.00019427063, -0....</td>\n",
       "    </tr>\n",
       "    <tr>\n",
       "      <td>3264</td>\n",
       "      <td>2020-06-25</td>\n",
       "      <td>Elizabeth II : ce geste de François Hollande q...</td>\n",
       "      <td>people</td>\n",
       "      <td>[-0.48734412, -0.7927884, -0.8117989, 2.239425...</td>\n",
       "      <td>[0.0006343277, -0.0021176198, -0.0069427732, 0...</td>\n",
       "    </tr>\n",
       "    <tr>\n",
       "      <td>9845</td>\n",
       "      <td>2019-02-17</td>\n",
       "      <td>Carlos Ghosn dénonce: « Je n’ai jamais rien vo...</td>\n",
       "      <td>parodique</td>\n",
       "      <td>[-0.527139, 0.13341044, 0.4138379, 1.8070544, ...</td>\n",
       "      <td>[0.01503535, 0.0053510247, -0.0031554208, 0.01...</td>\n",
       "    </tr>\n",
       "    <tr>\n",
       "      <td>10799</td>\n",
       "      <td>2020-07-13</td>\n",
       "      <td>Photos: Enora Malagré, Nikos Aliagas, Karine L...</td>\n",
       "      <td>people</td>\n",
       "      <td>[-1.3412815, 0.6179895, 0.37152445, 1.7095574,...</td>\n",
       "      <td>[-0.0032453146, -0.003009305, 0.006629204, -0....</td>\n",
       "    </tr>\n",
       "    <tr>\n",
       "      <td>2732</td>\n",
       "      <td>2018-08-08</td>\n",
       "      <td>Tous à l’école de la ZAD !</td>\n",
       "      <td>satirique</td>\n",
       "      <td>[-1.9517988, -0.3865979, 2.2958333, 2.1456456,...</td>\n",
       "      <td>[-0.0011654719, -0.0042075724, 0.0070779547, -...</td>\n",
       "    </tr>\n",
       "  </tbody>\n",
       "</table>\n",
       "<p>10000 rows × 5 columns</p>\n",
       "</div>"
      ],
      "text/plain": [
       "             date                                              titre  \\\n",
       "12838  2018-05-22     Les zones d'ombre du code source de Parcoursup   \n",
       "4772   2018-06-25  Oscar Vela (Elior Group), Serge Morelli (Axa),...   \n",
       "5342   2017-04-24  François Fillon dénonce un acharnement des Fra...   \n",
       "9333   2019-04-16  Un passeport syrien en parfait état retrouvé d...   \n",
       "6499   2018-01-15  Balle aux prisonniers : Il réapprend à vivre d...   \n",
       "...           ...                                                ...   \n",
       "13123  2017-11-13  L'Esma avertit qu'une cryptomonnaie peut perdr...   \n",
       "3264   2020-06-25  Elizabeth II : ce geste de François Hollande q...   \n",
       "9845   2019-02-17  Carlos Ghosn dénonce: « Je n’ai jamais rien vo...   \n",
       "10799  2020-07-13  Photos: Enora Malagré, Nikos Aliagas, Karine L...   \n",
       "2732   2018-08-08                         Tous à l’école de la ZAD !   \n",
       "\n",
       "            type                                             vector  \\\n",
       "12838    science  [0.6533856, -0.5908422, 0.6471245, 1.6466993, ...   \n",
       "4772        actu  [-1.2111242, 2.027541, 2.1903155, 1.2944391, -...   \n",
       "5342   parodique  [0.36201003, -1.409817, -1.4338468, 2.0844471,...   \n",
       "9333   parodique  [1.0026183, -0.39407402, 0.01794928, 0.9272113...   \n",
       "6499   parodique  [1.784022, -1.2697986, -0.39021853, 1.225765, ...   \n",
       "...          ...                                                ...   \n",
       "13123    science  [-0.35314548, -2.32449, -2.2268734, 2.1695452,...   \n",
       "3264      people  [-0.48734412, -0.7927884, -0.8117989, 2.239425...   \n",
       "9845   parodique  [-0.527139, 0.13341044, 0.4138379, 1.8070544, ...   \n",
       "10799     people  [-1.3412815, 0.6179895, 0.37152445, 1.7095574,...   \n",
       "2732   satirique  [-1.9517988, -0.3865979, 2.2958333, 2.1456456,...   \n",
       "\n",
       "                                               vector_ft  \n",
       "12838  [-0.010792193, 0.009429373, 0.007772304, 0.003...  \n",
       "4772   [-0.0029092066, -0.000761234, 0.0058668675, -0...  \n",
       "5342   [-0.0006036326, -3.366894e-05, -0.0005136254, ...  \n",
       "9333   [0.0021052142, -0.002624337, 0.0040472997, -0....  \n",
       "6499   [2.4496765e-05, 0.0074398676, -0.0056175417, -...  \n",
       "...                                                  ...  \n",
       "13123  [0.01671319, 0.0024664034, -0.00019427063, -0....  \n",
       "3264   [0.0006343277, -0.0021176198, -0.0069427732, 0...  \n",
       "9845   [0.01503535, 0.0053510247, -0.0031554208, 0.01...  \n",
       "10799  [-0.0032453146, -0.003009305, 0.006629204, -0....  \n",
       "2732   [-0.0011654719, -0.0042075724, 0.0070779547, -...  \n",
       "\n",
       "[10000 rows x 5 columns]"
      ]
     },
     "execution_count": 45,
     "metadata": {},
     "output_type": "execute_result"
    }
   ],
   "source": [
    "train"
   ]
  },
  {
   "cell_type": "markdown",
   "metadata": {},
   "source": [
    "# test fastext 2 ( mean)"
   ]
  },
  {
   "cell_type": "code",
   "execution_count": 46,
   "metadata": {
    "collapsed": true,
    "jupyter": {
     "outputs_hidden": true
    }
   },
   "outputs": [
    {
     "name": "stdout",
     "output_type": "stream",
     "text": [
      "0\n",
      "100\n",
      "200\n",
      "300\n",
      "400\n",
      "500\n",
      "600\n",
      "700\n",
      "800\n",
      "900\n",
      "1000\n",
      "1100\n",
      "1200\n",
      "1300\n",
      "1400\n",
      "1500\n",
      "1600\n",
      "1700\n",
      "1800\n",
      "1900\n",
      "2000\n",
      "2100\n",
      "2200\n",
      "2300\n",
      "2400\n",
      "2500\n",
      "2600\n",
      "2700\n",
      "2800\n",
      "2900\n",
      "3000\n",
      "3100\n",
      "3200\n",
      "3300\n",
      "3400\n",
      "3500\n",
      "3600\n",
      "3700\n",
      "3800\n",
      "3900\n",
      "4000\n",
      "4100\n",
      "4200\n",
      "4300\n",
      "4400\n",
      "4500\n",
      "4600\n",
      "4700\n",
      "4800\n",
      "4900\n",
      "5000\n",
      "5100\n",
      "5200\n",
      "5300\n",
      "5400\n",
      "5500\n",
      "5600\n",
      "5700\n",
      "5800\n",
      "5900\n",
      "6000\n",
      "6100\n",
      "6200\n",
      "6300\n",
      "6400\n",
      "6500\n",
      "6600\n",
      "6700\n",
      "6800\n",
      "6900\n",
      "7000\n",
      "7100\n",
      "7200\n",
      "7300\n",
      "7400\n",
      "7500\n",
      "7600\n",
      "7700\n",
      "7800\n",
      "7900\n",
      "8000\n",
      "8100\n",
      "8200\n",
      "8300\n",
      "8400\n",
      "8500\n",
      "8600\n",
      "8700\n",
      "8800\n",
      "8900\n",
      "9000\n",
      "9100\n",
      "9200\n",
      "9300\n",
      "9400\n",
      "9500\n",
      "9600\n",
      "9700\n",
      "9800\n",
      "9900\n"
     ]
    }
   ],
   "source": [
    "vectors_ft2 = []\n",
    "for i,titre in enumerate (train[\"titre\"]):\n",
    "    v = []\n",
    "    if i % 100==0:\n",
    "        print(i)\n",
    "    for token in str(titre).split():\n",
    "        v.append(ft.get_word_vector(str(token)))\n",
    "    vectors_ft2.append(np.mean(np.array(v),axis=0))\n",
    "train['vector_ft2']=vectors_ft2"
   ]
  },
  {
   "cell_type": "code",
   "execution_count": 47,
   "metadata": {
    "collapsed": true,
    "jupyter": {
     "outputs_hidden": true
    }
   },
   "outputs": [
    {
     "name": "stdout",
     "output_type": "stream",
     "text": [
      "0\n",
      "100\n",
      "200\n",
      "300\n",
      "400\n",
      "500\n",
      "600\n",
      "700\n",
      "800\n",
      "900\n",
      "1000\n",
      "1100\n",
      "1200\n",
      "1300\n",
      "1400\n",
      "1500\n",
      "1600\n",
      "1700\n",
      "1800\n",
      "1900\n",
      "2000\n",
      "2100\n",
      "2200\n",
      "2300\n",
      "2400\n",
      "2500\n",
      "2600\n",
      "2700\n",
      "2800\n",
      "2900\n",
      "3000\n",
      "3100\n",
      "3200\n",
      "3300\n",
      "3400\n",
      "3500\n",
      "3600\n",
      "3700\n",
      "3800\n",
      "3900\n",
      "4000\n",
      "4100\n",
      "4200\n",
      "4300\n",
      "4400\n",
      "4500\n",
      "4600\n",
      "4700\n",
      "4800\n",
      "4900\n"
     ]
    }
   ],
   "source": [
    "vectors_ft2 = []\n",
    "for i,titre in enumerate (test[\"titre\"]):\n",
    "    v = []\n",
    "    if i % 100==0:\n",
    "        print(i)\n",
    "    for token in str(titre).split():\n",
    "        v.append(ft.get_word_vector(str(token)))\n",
    "    vectors_ft2.append(np.mean(np.array(v),axis=0))\n",
    "test['vector_ft2']=vectors_ft2"
   ]
  },
  {
   "cell_type": "code",
   "execution_count": 48,
   "metadata": {},
   "outputs": [],
   "source": [
    "def to_vec_ft_mean(phrase):\n",
    "    v=[]\n",
    "    for token in str(phrase).split():\n",
    "        v.append(ft.get_word_vector(str(token)))\n",
    "    return (np.mean(np.array(v),axis=0))"
   ]
  },
  {
   "cell_type": "code",
   "execution_count": 49,
   "metadata": {
    "collapsed": true,
    "jupyter": {
     "outputs_hidden": true
    }
   },
   "outputs": [
    {
     "data": {
      "text/plain": [
       "array([ 2.60838568e-02, -1.52932731e-02, -4.46465239e-03,  1.26332464e-02,\n",
       "        1.63745545e-02,  6.25630990e-02,  1.03553712e-01, -2.82034073e-02,\n",
       "       -5.37776612e-02, -4.79133427e-02, -1.10696899e-02, -3.41391154e-02,\n",
       "        1.59671120e-02,  6.30219802e-02,  7.40174763e-03,  6.00499399e-02,\n",
       "        9.64401439e-02, -3.46619263e-02,  8.78771469e-02,  5.51832020e-02,\n",
       "        8.49776268e-02,  7.14409119e-03, -8.33845064e-02, -3.73713896e-02,\n",
       "        4.07613888e-02,  1.25148250e-02, -6.03163503e-02, -2.87613720e-02,\n",
       "        3.34168188e-02,  5.02338335e-05, -2.41815690e-02,  1.19423606e-02,\n",
       "        1.02573708e-02, -2.47456413e-03, -1.72367580e-02,  3.29399817e-02,\n",
       "        1.49585763e-02, -5.53366244e-02, -3.93437818e-02, -3.19089182e-02,\n",
       "       -6.62180111e-02,  1.31187001e-02,  2.22389892e-04, -1.04651660e-01,\n",
       "        3.88013236e-02, -1.87178031e-02, -8.00355747e-02,  2.06979178e-03,\n",
       "        6.19642176e-02, -3.19378972e-02,  9.62895975e-02,  1.46429986e-04,\n",
       "        1.93250980e-02,  2.05503646e-02, -9.83725712e-02,  1.27476007e-02,\n",
       "       -1.46844750e-02, -4.40293830e-03, -2.07522865e-02,  4.36977148e-02,\n",
       "        3.08572706e-02,  1.41691854e-02,  8.29270333e-02,  4.82405610e-02,\n",
       "        5.81539981e-02, -1.97392460e-02,  1.24676153e-02,  5.73894866e-02,\n",
       "        5.46558946e-02,  1.18948705e-03, -2.37751696e-02, -9.10052750e-03,\n",
       "        1.82950553e-02, -9.39763114e-02,  3.55482139e-02, -1.44733377e-02,\n",
       "        2.85046473e-02, -1.20481038e-02, -1.30329542e-02, -4.86047901e-02,\n",
       "       -3.42354481e-03, -2.32870802e-02, -5.54000102e-02, -1.09491169e-01,\n",
       "       -1.93792805e-02,  3.70084979e-02, -5.99254258e-02, -3.02629289e-03,\n",
       "        8.11663792e-02,  1.28386840e-02, -3.95701192e-02,  6.96009696e-02,\n",
       "        7.49221712e-04,  9.27139912e-03,  1.32943252e-02,  3.32714058e-03,\n",
       "        5.35010844e-02, -4.87013869e-02,  1.83886643e-02,  9.62210000e-02,\n",
       "        3.32620703e-02,  9.85577144e-03,  2.18419265e-02,  9.04449597e-02,\n",
       "       -1.33606754e-02, -1.08911311e-02,  5.99596137e-03, -9.86440759e-03,\n",
       "        6.28579110e-02, -2.82373577e-02,  2.41196677e-02,  4.78912331e-02,\n",
       "        3.74079496e-02,  7.53315771e-03, -4.75481860e-02, -8.45479891e-02,\n",
       "       -9.06092301e-02, -5.36999516e-02, -5.34884930e-02,  6.87647238e-02,\n",
       "       -6.96266815e-02,  4.45596762e-02,  1.42412176e-02, -2.37760935e-02,\n",
       "        6.02311268e-03, -1.44324591e-02, -1.82507001e-02, -7.84763098e-02,\n",
       "        2.82150637e-02,  1.35555305e-02, -5.51045574e-02,  1.07292354e-01,\n",
       "        6.00377023e-02, -7.74607956e-02, -2.53504012e-02, -3.88233475e-02,\n",
       "       -1.55511245e-01, -2.20328942e-02, -9.57866386e-03,  6.73521087e-02,\n",
       "        1.92599595e-02, -2.34265309e-02,  6.30867854e-02, -2.66937781e-02,\n",
       "        3.46856564e-02,  1.72547195e-02, -8.88149664e-02,  3.86670493e-02,\n",
       "        7.81779513e-02,  2.73099542e-02,  5.96039593e-02,  3.36030461e-02,\n",
       "        3.43656577e-02,  2.69662472e-03,  1.55372648e-02,  9.32915807e-02,\n",
       "       -9.51683149e-02, -3.71557102e-03,  5.11153229e-02, -1.08482957e-01,\n",
       "        8.20637047e-02, -3.79544832e-02,  2.22485755e-02,  1.10400291e-02,\n",
       "       -6.10027462e-03,  1.29446998e-01,  1.70267988e-02, -3.22624333e-02,\n",
       "        1.36625832e-02,  2.59527639e-02,  2.30706260e-02, -1.14852414e-02,\n",
       "        3.91534604e-02,  3.03844940e-02, -3.26917060e-02,  3.64816748e-02,\n",
       "        7.24066282e-03, -1.13069475e-01,  3.98913771e-03, -1.47632917e-03,\n",
       "       -1.39356377e-02, -5.01266569e-02, -2.48578284e-02, -3.76230255e-02,\n",
       "       -4.32062782e-02,  3.94947041e-04, -4.88418490e-02, -1.51522597e-02,\n",
       "        4.42981608e-02, -3.66600347e-03, -6.26100302e-02, -5.84277026e-02,\n",
       "       -3.39681357e-02, -4.67623807e-02, -2.67369524e-02, -6.78358003e-02,\n",
       "        5.74505776e-02,  1.15921339e-02, -4.47987877e-02,  1.22816935e-02,\n",
       "        2.57240403e-02,  2.09121499e-02, -8.90344679e-02,  6.89130425e-02,\n",
       "        1.80492550e-02, -2.87553761e-02,  6.86510578e-02,  1.57731120e-02,\n",
       "        5.93257695e-02,  1.19300261e-02,  6.03193641e-02, -1.59824621e-02,\n",
       "        5.23976497e-02,  1.30471801e-02,  6.73709586e-02,  4.33379561e-02,\n",
       "        2.27426994e-03,  4.73596565e-02,  8.78958404e-03,  5.68746217e-02,\n",
       "       -3.23851518e-02,  7.71881789e-02,  8.69945809e-03,  1.83323249e-02,\n",
       "       -5.23637654e-03, -1.04676969e-01, -2.52278876e-02,  9.68967192e-03,\n",
       "       -8.86482466e-03,  1.33974012e-03,  5.78998886e-02, -1.55046917e-02,\n",
       "        2.92185787e-02, -4.20662574e-02, -1.99376065e-02,  2.59791221e-02,\n",
       "       -2.37683654e-02,  4.69466299e-02,  2.60274634e-02, -2.89077144e-02,\n",
       "        3.95274423e-02,  4.00228100e-03,  3.11578885e-02, -2.97444314e-03,\n",
       "       -1.05542742e-01,  5.19883782e-02,  1.06072277e-02, -1.28126889e-02,\n",
       "        8.06590822e-03,  2.78559271e-02, -8.67726095e-03,  7.53024742e-02,\n",
       "        6.86967894e-02, -4.18741889e-02, -8.78415927e-02,  2.18106955e-02,\n",
       "        1.96447298e-02,  6.88609704e-02,  8.84882286e-02, -7.64540210e-02,\n",
       "       -5.19406283e-03,  4.54932451e-05,  2.60219928e-02, -1.68219190e-02,\n",
       "       -7.98317697e-03, -4.91647758e-02,  5.85521720e-02, -3.41567397e-02,\n",
       "       -4.42154817e-02, -4.00734171e-02, -4.57107536e-02, -3.44973207e-02,\n",
       "       -7.74819255e-02,  1.59493573e-02,  2.01149285e-03, -4.41299714e-02,\n",
       "       -5.76446950e-02, -5.50137609e-02,  6.45781681e-02, -1.72911920e-02,\n",
       "        3.48784812e-02, -2.51456946e-02,  6.77292421e-02, -6.44437447e-02,\n",
       "       -2.39434447e-02, -9.69894156e-02, -4.88404334e-02,  3.05075869e-02,\n",
       "       -7.28489691e-03, -6.83959574e-03, -1.45670287e-02,  2.02312861e-02,\n",
       "        1.11570014e-02, -2.00117379e-03,  3.93546484e-02, -5.32068498e-02,\n",
       "        4.00137082e-02,  9.83798131e-03,  3.14392298e-02,  1.17955409e-01],\n",
       "      dtype=float32)"
      ]
     },
     "execution_count": 49,
     "metadata": {},
     "output_type": "execute_result"
    }
   ],
   "source": [
    "to_vec_ft_mean('pouet pouet camion')"
   ]
  },
  {
   "cell_type": "code",
   "execution_count": 50,
   "metadata": {},
   "outputs": [
    {
     "data": {
      "text/html": [
       "<div>\n",
       "<style scoped>\n",
       "    .dataframe tbody tr th:only-of-type {\n",
       "        vertical-align: middle;\n",
       "    }\n",
       "\n",
       "    .dataframe tbody tr th {\n",
       "        vertical-align: top;\n",
       "    }\n",
       "\n",
       "    .dataframe thead th {\n",
       "        text-align: right;\n",
       "    }\n",
       "</style>\n",
       "<table border=\"1\" class=\"dataframe\">\n",
       "  <thead>\n",
       "    <tr style=\"text-align: right;\">\n",
       "      <th></th>\n",
       "      <th>date</th>\n",
       "      <th>titre</th>\n",
       "      <th>type</th>\n",
       "      <th>vector</th>\n",
       "      <th>vector_ft</th>\n",
       "      <th>vector_ft2</th>\n",
       "    </tr>\n",
       "  </thead>\n",
       "  <tbody>\n",
       "    <tr>\n",
       "      <td>12838</td>\n",
       "      <td>2018-05-22</td>\n",
       "      <td>Les zones d'ombre du code source de Parcoursup</td>\n",
       "      <td>science</td>\n",
       "      <td>[0.6533856, -0.5908422, 0.6471245, 1.6466993, ...</td>\n",
       "      <td>[-0.010792193, 0.009429373, 0.007772304, 0.003...</td>\n",
       "      <td>[-0.012687968, 0.018681016, 0.016573738, -0.02...</td>\n",
       "    </tr>\n",
       "    <tr>\n",
       "      <td>4772</td>\n",
       "      <td>2018-06-25</td>\n",
       "      <td>Oscar Vela (Elior Group), Serge Morelli (Axa),...</td>\n",
       "      <td>actu</td>\n",
       "      <td>[-1.2111242, 2.027541, 2.1903155, 1.2944391, -...</td>\n",
       "      <td>[-0.0029092066, -0.000761234, 0.0058668675, -0...</td>\n",
       "      <td>[0.016807659, -0.013200439, 0.0013597086, -0.0...</td>\n",
       "    </tr>\n",
       "    <tr>\n",
       "      <td>5342</td>\n",
       "      <td>2017-04-24</td>\n",
       "      <td>François Fillon dénonce un acharnement des Fra...</td>\n",
       "      <td>parodique</td>\n",
       "      <td>[0.36201003, -1.409817, -1.4338468, 2.0844471,...</td>\n",
       "      <td>[-0.0006036326, -3.366894e-05, -0.0005136254, ...</td>\n",
       "      <td>[0.0023232333, 0.01988542, 0.007383062, -0.033...</td>\n",
       "    </tr>\n",
       "    <tr>\n",
       "      <td>9333</td>\n",
       "      <td>2019-04-16</td>\n",
       "      <td>Un passeport syrien en parfait état retrouvé d...</td>\n",
       "      <td>parodique</td>\n",
       "      <td>[1.0026183, -0.39407402, 0.01794928, 0.9272113...</td>\n",
       "      <td>[0.0021052142, -0.002624337, 0.0040472997, -0....</td>\n",
       "      <td>[0.022624873, -0.020203995, 0.020829935, -0.02...</td>\n",
       "    </tr>\n",
       "    <tr>\n",
       "      <td>6499</td>\n",
       "      <td>2018-01-15</td>\n",
       "      <td>Balle aux prisonniers : Il réapprend à vivre d...</td>\n",
       "      <td>parodique</td>\n",
       "      <td>[1.784022, -1.2697986, -0.39021853, 1.225765, ...</td>\n",
       "      <td>[2.4496765e-05, 0.0074398676, -0.0056175417, -...</td>\n",
       "      <td>[0.0031588525, 0.0203431, -0.014027253, -0.011...</td>\n",
       "    </tr>\n",
       "    <tr>\n",
       "      <td>...</td>\n",
       "      <td>...</td>\n",
       "      <td>...</td>\n",
       "      <td>...</td>\n",
       "      <td>...</td>\n",
       "      <td>...</td>\n",
       "      <td>...</td>\n",
       "    </tr>\n",
       "    <tr>\n",
       "      <td>13123</td>\n",
       "      <td>2017-11-13</td>\n",
       "      <td>L'Esma avertit qu'une cryptomonnaie peut perdr...</td>\n",
       "      <td>science</td>\n",
       "      <td>[-0.35314548, -2.32449, -2.2268734, 2.1695452,...</td>\n",
       "      <td>[0.01671319, 0.0024664034, -0.00019427063, -0....</td>\n",
       "      <td>[0.00460826, 0.03221346, -0.013482266, -0.0034...</td>\n",
       "    </tr>\n",
       "    <tr>\n",
       "      <td>3264</td>\n",
       "      <td>2020-06-25</td>\n",
       "      <td>Elizabeth II : ce geste de François Hollande q...</td>\n",
       "      <td>people</td>\n",
       "      <td>[-0.48734412, -0.7927884, -0.8117989, 2.239425...</td>\n",
       "      <td>[0.0006343277, -0.0021176198, -0.0069427732, 0...</td>\n",
       "      <td>[-0.04057615, 0.02025055, -0.03451099, -0.0227...</td>\n",
       "    </tr>\n",
       "    <tr>\n",
       "      <td>9845</td>\n",
       "      <td>2019-02-17</td>\n",
       "      <td>Carlos Ghosn dénonce: « Je n’ai jamais rien vo...</td>\n",
       "      <td>parodique</td>\n",
       "      <td>[-0.527139, 0.13341044, 0.4138379, 1.8070544, ...</td>\n",
       "      <td>[0.01503535, 0.0053510247, -0.0031554208, 0.01...</td>\n",
       "      <td>[-0.016100543, 0.06398363, 0.008644857, -0.017...</td>\n",
       "    </tr>\n",
       "    <tr>\n",
       "      <td>10799</td>\n",
       "      <td>2020-07-13</td>\n",
       "      <td>Photos: Enora Malagré, Nikos Aliagas, Karine L...</td>\n",
       "      <td>people</td>\n",
       "      <td>[-1.3412815, 0.6179895, 0.37152445, 1.7095574,...</td>\n",
       "      <td>[-0.0032453146, -0.003009305, 0.006629204, -0....</td>\n",
       "      <td>[0.0038269216, 0.0058808355, 0.026493484, -0.0...</td>\n",
       "    </tr>\n",
       "    <tr>\n",
       "      <td>2732</td>\n",
       "      <td>2018-08-08</td>\n",
       "      <td>Tous à l’école de la ZAD !</td>\n",
       "      <td>satirique</td>\n",
       "      <td>[-1.9517988, -0.3865979, 2.2958333, 2.1456456,...</td>\n",
       "      <td>[-0.0011654719, -0.0042075724, 0.0070779547, -...</td>\n",
       "      <td>[-0.049683023, -0.031020146, 0.047157764, 0.00...</td>\n",
       "    </tr>\n",
       "  </tbody>\n",
       "</table>\n",
       "<p>10000 rows × 6 columns</p>\n",
       "</div>"
      ],
      "text/plain": [
       "             date                                              titre  \\\n",
       "12838  2018-05-22     Les zones d'ombre du code source de Parcoursup   \n",
       "4772   2018-06-25  Oscar Vela (Elior Group), Serge Morelli (Axa),...   \n",
       "5342   2017-04-24  François Fillon dénonce un acharnement des Fra...   \n",
       "9333   2019-04-16  Un passeport syrien en parfait état retrouvé d...   \n",
       "6499   2018-01-15  Balle aux prisonniers : Il réapprend à vivre d...   \n",
       "...           ...                                                ...   \n",
       "13123  2017-11-13  L'Esma avertit qu'une cryptomonnaie peut perdr...   \n",
       "3264   2020-06-25  Elizabeth II : ce geste de François Hollande q...   \n",
       "9845   2019-02-17  Carlos Ghosn dénonce: « Je n’ai jamais rien vo...   \n",
       "10799  2020-07-13  Photos: Enora Malagré, Nikos Aliagas, Karine L...   \n",
       "2732   2018-08-08                         Tous à l’école de la ZAD !   \n",
       "\n",
       "            type                                             vector  \\\n",
       "12838    science  [0.6533856, -0.5908422, 0.6471245, 1.6466993, ...   \n",
       "4772        actu  [-1.2111242, 2.027541, 2.1903155, 1.2944391, -...   \n",
       "5342   parodique  [0.36201003, -1.409817, -1.4338468, 2.0844471,...   \n",
       "9333   parodique  [1.0026183, -0.39407402, 0.01794928, 0.9272113...   \n",
       "6499   parodique  [1.784022, -1.2697986, -0.39021853, 1.225765, ...   \n",
       "...          ...                                                ...   \n",
       "13123    science  [-0.35314548, -2.32449, -2.2268734, 2.1695452,...   \n",
       "3264      people  [-0.48734412, -0.7927884, -0.8117989, 2.239425...   \n",
       "9845   parodique  [-0.527139, 0.13341044, 0.4138379, 1.8070544, ...   \n",
       "10799     people  [-1.3412815, 0.6179895, 0.37152445, 1.7095574,...   \n",
       "2732   satirique  [-1.9517988, -0.3865979, 2.2958333, 2.1456456,...   \n",
       "\n",
       "                                               vector_ft  \\\n",
       "12838  [-0.010792193, 0.009429373, 0.007772304, 0.003...   \n",
       "4772   [-0.0029092066, -0.000761234, 0.0058668675, -0...   \n",
       "5342   [-0.0006036326, -3.366894e-05, -0.0005136254, ...   \n",
       "9333   [0.0021052142, -0.002624337, 0.0040472997, -0....   \n",
       "6499   [2.4496765e-05, 0.0074398676, -0.0056175417, -...   \n",
       "...                                                  ...   \n",
       "13123  [0.01671319, 0.0024664034, -0.00019427063, -0....   \n",
       "3264   [0.0006343277, -0.0021176198, -0.0069427732, 0...   \n",
       "9845   [0.01503535, 0.0053510247, -0.0031554208, 0.01...   \n",
       "10799  [-0.0032453146, -0.003009305, 0.006629204, -0....   \n",
       "2732   [-0.0011654719, -0.0042075724, 0.0070779547, -...   \n",
       "\n",
       "                                              vector_ft2  \n",
       "12838  [-0.012687968, 0.018681016, 0.016573738, -0.02...  \n",
       "4772   [0.016807659, -0.013200439, 0.0013597086, -0.0...  \n",
       "5342   [0.0023232333, 0.01988542, 0.007383062, -0.033...  \n",
       "9333   [0.022624873, -0.020203995, 0.020829935, -0.02...  \n",
       "6499   [0.0031588525, 0.0203431, -0.014027253, -0.011...  \n",
       "...                                                  ...  \n",
       "13123  [0.00460826, 0.03221346, -0.013482266, -0.0034...  \n",
       "3264   [-0.04057615, 0.02025055, -0.03451099, -0.0227...  \n",
       "9845   [-0.016100543, 0.06398363, 0.008644857, -0.017...  \n",
       "10799  [0.0038269216, 0.0058808355, 0.026493484, -0.0...  \n",
       "2732   [-0.049683023, -0.031020146, 0.047157764, 0.00...  \n",
       "\n",
       "[10000 rows x 6 columns]"
      ]
     },
     "execution_count": 50,
     "metadata": {},
     "output_type": "execute_result"
    }
   ],
   "source": [
    "train"
   ]
  },
  {
   "cell_type": "code",
   "execution_count": 51,
   "metadata": {},
   "outputs": [],
   "source": [
    "X_train = np.array(np.stack(train[\"vector_ft2\"]))\n",
    "y_train = train['type']\n",
    "\n",
    "X_test = np.array(np.stack(test[\"vector_ft2\"]))\n",
    "y_test = test['type']"
   ]
  },
  {
   "cell_type": "code",
   "execution_count": 52,
   "metadata": {},
   "outputs": [
    {
     "name": "stderr",
     "output_type": "stream",
     "text": [
      "C:\\Users\\Lenovo\\Anaconda3\\lib\\site-packages\\sklearn\\neural_network\\_multilayer_perceptron.py:617: ConvergenceWarning: Stochastic Optimizer: Maximum iterations (200) reached and the optimization hasn't converged yet.\n",
      "  % self.max_iter, ConvergenceWarning)\n",
      "C:\\Users\\Lenovo\\Anaconda3\\lib\\site-packages\\sklearn\\neural_network\\_multilayer_perceptron.py:617: ConvergenceWarning: Stochastic Optimizer: Maximum iterations (200) reached and the optimization hasn't converged yet.\n",
      "  % self.max_iter, ConvergenceWarning)\n"
     ]
    },
    {
     "data": {
      "text/plain": [
       "MLPClassifier(alpha=0.01, hidden_layer_sizes=30, random_state=1)"
      ]
     },
     "execution_count": 52,
     "metadata": {},
     "output_type": "execute_result"
    }
   ],
   "source": [
    "clf = MLPClassifier(random_state=1, max_iter=200, hidden_layer_sizes=30,alpha=0.01).fit(X_train, y_train)\n",
    "clf.fit(X_train, y_train)"
   ]
  },
  {
   "cell_type": "code",
   "execution_count": 53,
   "metadata": {},
   "outputs": [
    {
     "name": "stdout",
     "output_type": "stream",
     "text": [
      "Accuracy: 0.7724\n"
     ]
    }
   ],
   "source": [
    "y_pred_train = clf.predict(X_train)\n",
    "\n",
    "cm_train = confusion_matrix(y_train, y_pred_train)\n",
    "\n",
    "accuracy = accuracy_score(y_train,y_pred_train)\n",
    "print('Accuracy:',accuracy)"
   ]
  },
  {
   "cell_type": "code",
   "execution_count": 54,
   "metadata": {},
   "outputs": [
    {
     "name": "stdout",
     "output_type": "stream",
     "text": [
      "Accuracy: 0.6856\n"
     ]
    }
   ],
   "source": [
    "y_pred_test = clf.predict(X_test)\n",
    "\n",
    "cm_test = confusion_matrix(y_test, y_pred_test)\n",
    "\n",
    "#accuracy_score(y_train,y_pred_train)\n",
    "print('Accuracy:', accuracy_score(y_test,y_pred_test))"
   ]
  },
  {
   "cell_type": "code",
   "execution_count": 55,
   "metadata": {},
   "outputs": [
    {
     "name": "stderr",
     "output_type": "stream",
     "text": [
      "C:\\Users\\Lenovo\\Anaconda3\\lib\\site-packages\\sklearn\\neural_network\\_multilayer_perceptron.py:617: ConvergenceWarning: Stochastic Optimizer: Maximum iterations (200) reached and the optimization hasn't converged yet.\n",
      "  % self.max_iter, ConvergenceWarning)\n",
      "C:\\Users\\Lenovo\\Anaconda3\\lib\\site-packages\\sklearn\\neural_network\\_multilayer_perceptron.py:617: ConvergenceWarning: Stochastic Optimizer: Maximum iterations (200) reached and the optimization hasn't converged yet.\n",
      "  % self.max_iter, ConvergenceWarning)\n"
     ]
    },
    {
     "data": {
      "text/plain": [
       "MLPClassifier(alpha=0.01, hidden_layer_sizes=(20, 10), random_state=1)"
      ]
     },
     "execution_count": 55,
     "metadata": {},
     "output_type": "execute_result"
    }
   ],
   "source": [
    "clf = MLPClassifier(random_state=1, max_iter=200, hidden_layer_sizes=(20,10),alpha=0.01).fit(X_train, y_train)\n",
    "clf.fit(X_train, y_train)"
   ]
  },
  {
   "cell_type": "code",
   "execution_count": 56,
   "metadata": {},
   "outputs": [
    {
     "name": "stdout",
     "output_type": "stream",
     "text": [
      "Accuracy: 0.7861\n"
     ]
    }
   ],
   "source": [
    "y_pred_train = clf.predict(X_train)\n",
    "\n",
    "cm_train = confusion_matrix(y_train, y_pred_train)\n",
    "\n",
    "accuracy = accuracy_score(y_train,y_pred_train)\n",
    "print('Accuracy:',accuracy)"
   ]
  },
  {
   "cell_type": "code",
   "execution_count": 57,
   "metadata": {},
   "outputs": [
    {
     "name": "stdout",
     "output_type": "stream",
     "text": [
      "Accuracy: 0.6786\n"
     ]
    }
   ],
   "source": [
    "y_pred_test = clf.predict(X_test)\n",
    "\n",
    "cm_test = confusion_matrix(y_test, y_pred_test)\n",
    "\n",
    "#accuracy_score(y_train,y_pred_train)\n",
    "print('Accuracy:', accuracy_score(y_test,y_pred_test))"
   ]
  },
  {
   "cell_type": "code",
   "execution_count": 58,
   "metadata": {},
   "outputs": [],
   "source": [
    "# Saving model to disk\n",
    "#pickle.dump(clf, open('../web_app/app/model1.pkl','wb'))"
   ]
  },
  {
   "cell_type": "code",
   "execution_count": 59,
   "metadata": {},
   "outputs": [],
   "source": [
    "# Loading model to compare the results\n",
    "#model = pickle.load(open('model1.pkl','rb'))\n",
    "#print(model.predict([[2, 9, 6]]))\n",
    "\n",
    "#model.predict(to_vec_ft_mean(\"L'énergie nucléaire est elle la plus propre?\").reshape(1, -1))"
   ]
  },
  {
   "cell_type": "code",
   "execution_count": 60,
   "metadata": {},
   "outputs": [],
   "source": [
    "#str(to_vec_ft_mean(\"L'énergie nucléaire est elle la plus propre?\"))"
   ]
  },
  {
   "cell_type": "code",
   "execution_count": 84,
   "metadata": {},
   "outputs": [],
   "source": [
    "def spacy_similarity(word, topn=10):\n",
    "    word = nlp.vocab[str(word)]\n",
    "    queries = [\n",
    "      w for w in word.vocab if w.is_lower == word.is_lower and np.count_nonzero(w.vector)\n",
    "    ]\n",
    "    by_similarity = sorted(queries, key=lambda w: w.similarity(word), reverse=True)\n",
    "    return [(w.lower_,w.similarity(word)) for w in by_similarity[:topn+1] if w.lower_ != word.lower_]"
   ]
  },
  {
   "cell_type": "code",
   "execution_count": 84,
   "metadata": {},
   "outputs": [
    {
     "name": "stderr",
     "output_type": "stream",
     "text": [
      "C:\\Users\\Lenovo\\Anaconda3\\lib\\site-packages\\ipykernel_launcher.py:6: UserWarning: [W008] Evaluating Lexeme.similarity based on empty vectors.\n",
      "  \n",
      "C:\\Users\\Lenovo\\Anaconda3\\lib\\site-packages\\ipykernel_launcher.py:7: UserWarning: [W008] Evaluating Lexeme.similarity based on empty vectors.\n",
      "  import sys\n"
     ]
    },
    {
     "data": {
      "text/plain": [
       "[('aidants', 0.0),\n",
       " ('collectivités', 0.0),\n",
       " ('lacrymogènes', 0.0),\n",
       " ('coursiers', 0.0),\n",
       " ('qui', 0.0),\n",
       " ('printemps', 0.0)]"
      ]
     },
     "execution_count": 84,
     "metadata": {},
     "output_type": "execute_result"
    }
   ],
   "source": [
    "spacy_similarity('mangeâmes', topn=5)"
   ]
  },
  {
   "cell_type": "code",
   "execution_count": 85,
   "metadata": {},
   "outputs": [
    {
     "data": {
      "text/plain": [
       "[(0.7825667858123779, 'partageâmes'),\n",
       " (0.765173077583313, 'échangeâmes'),\n",
       " (0.7586296200752258, 'mangeai'),\n",
       " (0.721340000629425, 'dirigeâmes'),\n",
       " (0.7204623818397522, 'discutâmes')]"
      ]
     },
     "execution_count": 85,
     "metadata": {},
     "output_type": "execute_result"
    }
   ],
   "source": [
    "ft.get_nearest_neighbors('mangeâmes')[:5]"
   ]
  }
 ],
 "metadata": {
  "kernelspec": {
   "display_name": "Python 3",
   "language": "python",
   "name": "python3"
  },
  "language_info": {
   "codemirror_mode": {
    "name": "ipython",
    "version": 3
   },
   "file_extension": ".py",
   "mimetype": "text/x-python",
   "name": "python",
   "nbconvert_exporter": "python",
   "pygments_lexer": "ipython3",
   "version": "3.7.4"
  }
 },
 "nbformat": 4,
 "nbformat_minor": 4
}
