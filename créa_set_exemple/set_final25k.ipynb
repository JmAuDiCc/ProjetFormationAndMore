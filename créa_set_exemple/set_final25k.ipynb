{
 "cells": [
  {
   "cell_type": "code",
   "execution_count": 1,
   "metadata": {},
   "outputs": [],
   "source": [
    "import pandas as pd\n",
    "import numpy as np\n",
    "import random"
   ]
  },
  {
   "cell_type": "code",
   "execution_count": 2,
   "metadata": {},
   "outputs": [],
   "source": [
    "from os import listdir\n",
    "from os.path import isfile, join\n",
    "path = '../scripts_scrapping/data_scrapping_csv'\n",
    "liste_csv = [f for f in listdir(path) if isfile(join(path, f))]"
   ]
  },
  {
   "cell_type": "code",
   "execution_count": 3,
   "metadata": {},
   "outputs": [
    {
     "data": {
      "text/plain": [
       "['charlie_hebdo.csv',\n",
       " 'closer.csv',\n",
       " 'figaro.csv',\n",
       " 'gorafi.csv',\n",
       " 'lePoint.csv',\n",
       " 'le_monde.csv',\n",
       " 'liberation.csv',\n",
       " 'nordpresse.csv',\n",
       " 'public.csv',\n",
       " 'science_avenir.csv']"
      ]
     },
     "execution_count": 3,
     "metadata": {},
     "output_type": "execute_result"
    }
   ],
   "source": [
    "liste_csv"
   ]
  },
  {
   "cell_type": "code",
   "execution_count": 12,
   "metadata": {},
   "outputs": [],
   "source": [
    "liste_type = ['satirique','people','actu','parodique','actu','actu','actu','parodique','people','science']\n",
    "\n",
    "\n",
    "df_train_test2 = pd.DataFrame()\n",
    "for filename,type_j in zip(liste_csv,liste_type):\n",
    "    \n",
    "    if type_j == \"satirique\":\n",
    "        nb_titres = 5000\n",
    "    elif type_j == \"people\":\n",
    "        nb_titres = 2500\n",
    "    elif type_j == \"actu\":\n",
    "        nb_titres = 1250\n",
    "    elif type_j == \"parodique\":\n",
    "        nb_titres = 2500\n",
    "    else: #science\n",
    "        nb_titres = 5000\n",
    "    path = \"../scripts_scrapping/data_scrapping_csv/\"+filename\n",
    "    df = pd.read_csv(path)\n",
    "    df = df.sample(n=nb_titres,random_state=56)\n",
    "    df['type'] = type_j     \n",
    "    df_train_test2 = df_train_test2.append(df, ignore_index=True)\n",
    "    \n",
    "df_train_test2 = df_train_test2.drop(['theme'], axis=1)"
   ]
  },
  {
   "cell_type": "code",
   "execution_count": 13,
   "metadata": {},
   "outputs": [],
   "source": [
    "#df_train_test2.to_csv(index=False ,path_or_buf='data_model/titres_model.csv', encoding = 'utf-8')"
   ]
  }
 ],
 "metadata": {
  "kernelspec": {
   "display_name": "Python 3",
   "language": "python",
   "name": "python3"
  },
  "language_info": {
   "codemirror_mode": {
    "name": "ipython",
    "version": 3
   },
   "file_extension": ".py",
   "mimetype": "text/x-python",
   "name": "python",
   "nbconvert_exporter": "python",
   "pygments_lexer": "ipython3",
   "version": "3.7.4"
  }
 },
 "nbformat": 4,
 "nbformat_minor": 4
}
